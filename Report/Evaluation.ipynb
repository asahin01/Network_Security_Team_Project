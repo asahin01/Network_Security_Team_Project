{
 "cells": [
  {
   "cell_type": "code",
   "execution_count": 1,
   "metadata": {},
   "outputs": [],
   "source": [
    "# Initial modules\n",
    "import numpy as np\n",
    "import pandas as pd\n",
    "import sklearn\n",
    "np.random.seed(404)\n",
    "import math\n",
    "\n",
    "from sklearn.feature_selection import RFE\n",
    "from sklearn.feature_selection import VarianceThreshold\n",
    "from sklearn.preprocessing import MinMaxScaler\n",
    "from sklearn.feature_selection import SelectKBest\n",
    "from sklearn.feature_selection import chi2\n",
    "from sklearn.preprocessing import Normalizer\n",
    "from sklearn.linear_model import LogisticRegression\n",
    "from sklearn.metrics import accuracy_score\n",
    "from sklearn.feature_selection import f_classif\n",
    "from sklearn.ensemble import AdaBoostClassifier\n",
    "\n",
    "from sklearn.model_selection import cross_val_score\n",
    "from sklearn.model_selection import KFold\n",
    "from sklearn.metrics import classification_report\n",
    "from sklearn.metrics import roc_curve\n",
    "from sklearn.metrics import roc_auc_score\n",
    "from matplotlib import pyplot\n",
    "from sklearn.metrics import confusion_matrix\n",
    "\n",
    "from sklearn.pipeline import Pipeline"
   ]
  },
  {
   "cell_type": "code",
   "execution_count": 2,
   "metadata": {},
   "outputs": [],
   "source": [
    "#load data\n",
    "\n",
    "traindata= pd.read_csv('train_imperson_without4n7_balanced_data.csv')\n",
    "testdata= pd.read_csv('test_imperson_without4n7_balanced_data.csv')"
   ]
  },
  {
   "cell_type": "code",
   "execution_count": 3,
   "metadata": {},
   "outputs": [],
   "source": [
    "# Separate X and Y\n",
    "\n",
    "X_train, Y_train = traindata.loc[:, traindata.columns != '155'], traindata['155']\n",
    "\n",
    "X_test, Y_test = testdata.loc[:, testdata.columns != '155'], testdata['155']\n"
   ]
  },
  {
   "cell_type": "code",
   "execution_count": 4,
   "metadata": {},
   "outputs": [
    {
     "name": "stdout",
     "output_type": "stream",
     "text": [
      "CPU times: user 27.7 s, sys: 612 ms, total: 28.3 s\n",
      "Wall time: 7.24 s\n"
     ]
    },
    {
     "data": {
      "text/plain": [
       "99.07614921061806"
      ]
     },
     "execution_count": 4,
     "metadata": {},
     "output_type": "execute_result"
    }
   ],
   "source": [
    "%%time\n",
    "\n",
    "# Pipeline 1 - Accuracy\n",
    "\n",
    "pipeline1 = Pipeline([\n",
    "    ('zero variance', VarianceThreshold()),\n",
    "    ('top20 features', SelectKBest(f_classif, k=20)),\n",
    "    ('ada',AdaBoostClassifier(n_estimators=150,learning_rate=0.1))])\n",
    "\n",
    "pipeline1.fit(X_train,Y_train)\n",
    "\n",
    "Y_predict1=pipeline1.predict(X_test)\n",
    "accuracy_score(Y_test, Y_predict1)*100\n"
   ]
  },
  {
   "cell_type": "code",
   "execution_count": 5,
   "metadata": {},
   "outputs": [
    {
     "name": "stdout",
     "output_type": "stream",
     "text": [
      "              precision    recall  f1-score   support\n",
      "\n",
      "           0       1.00      0.98      0.99     20079\n",
      "           1       0.98      1.00      0.99     20079\n",
      "\n",
      "    accuracy                           0.99     40158\n",
      "   macro avg       0.99      0.99      0.99     40158\n",
      "weighted avg       0.99      0.99      0.99     40158\n",
      "\n"
     ]
    }
   ],
   "source": [
    "#Pipleline 1 - Classification Report\n",
    "\n",
    "report = classification_report(Y_test, Y_predict1)\n",
    "print(report)"
   ]
  },
  {
   "cell_type": "code",
   "execution_count": 6,
   "metadata": {},
   "outputs": [
    {
     "name": "stdout",
     "output_type": "stream",
     "text": [
      "[[19708   371]\n",
      " [    0 20079]]\n",
      "\n",
      "True Positive = 19708\n",
      "True Negative = 20079\n",
      "\n",
      "False Positive = 0\n",
      "False Negative = 371\n"
     ]
    }
   ],
   "source": [
    "#Pipeline 1 - Confusion Matrix\n",
    "\n",
    "matrix = confusion_matrix(Y_test, Y_predict1)\n",
    "print(matrix)\n",
    "\n",
    "p1_TP = matrix[0][0]\n",
    "p1_TN = matrix[1][1]\n",
    "p1_FP = matrix[1][0]\n",
    "p1_FN = matrix[0][1]\n",
    "\n",
    "print('')\n",
    "\n",
    "print('True Positive = %.0f' % p1_TP)\n",
    "print('True Negative = %.0f' % p1_TN)\n",
    "\n",
    "print('')\n",
    "\n",
    "print('False Positive = %.0f' % p1_FP)\n",
    "print('False Negative = %.0f' % p1_FN)"
   ]
  },
  {
   "cell_type": "code",
   "execution_count": 7,
   "metadata": {},
   "outputs": [
    {
     "name": "stdout",
     "output_type": "stream",
     "text": [
      "Acc = 0.9908\n",
      "DR(Recall) = 0.9815\n",
      "Precision = 1.0000\n",
      "FAR = 0.0000\n",
      "FNR = 0.0185\n",
      "F1 = 0.9907\n",
      "MCC = 0.9817\n"
     ]
    }
   ],
   "source": [
    "#Pipeline 1 - Evaluation Metrics\n",
    "\n",
    "p1_Acc = (p1_TP + p1_TN) / (p1_TP + p1_TN + p1_FP + p1_FN)\n",
    "print('Acc = %.4f' % p1_Acc)\n",
    "\n",
    "p1_DR = p1_TP / (p1_TP + p1_FN)\n",
    "print('DR(Recall) = %.4f' % p1_DR)\n",
    "\n",
    "p1_Prec = p1_TP / (p1_TP + p1_FP)\n",
    "print('Precision = %.4f' % p1_Prec)\n",
    "\n",
    "p1_FAR = p1_FP / (p1_TN + p1_FP)\n",
    "print('FAR = %.4f' % p1_FAR)\n",
    "\n",
    "\n",
    "p1_FNR = p1_FN / (p1_FN + p1_TP)\n",
    "print('FNR = %.4f' % p1_FNR)\n",
    "\n",
    "p1_F1 = (2 * p1_TP) / (2*p1_TP + p1_FP + p1_FN)\n",
    "print('F1 = %.4f' % p1_F1)\n",
    "\n",
    "p1_MCC = ((p1_TP * p1_TN) - (p1_FP * p1_FN)) / math.sqrt((p1_TP + p1_FP)*(p1_TP + p1_FN)*(p1_TN + p1_FP)*(p1_TN + p1_FN))\n",
    "print('MCC = %.4f' % p1_MCC)"
   ]
  },
  {
   "cell_type": "code",
   "execution_count": 8,
   "metadata": {
    "scrolled": true
   },
   "outputs": [
    {
     "name": "stdout",
     "output_type": "stream",
     "text": [
      "AUC: 0.990\n"
     ]
    },
    {
     "data": {
      "image/png": "[encoded data removed]",
      "text/plain": [
       "<Figure size 432x288 with 1 Axes>"
      ]
     },
     "metadata": {
      "needs_background": "light"
     },
     "output_type": "display_data"
    }
   ],
   "source": [
    "#Pipeline 1 - ROC Curve\n",
    "\n",
    "probs = pipeline1.predict_proba(X_test)\n",
    "probs = probs[:, 1]\n",
    "auc = roc_auc_score(Y_test, probs)\n",
    "print('AUC: %.3f' % auc)\n",
    "\n",
    "fpr, tpr, thresholds = roc_curve(Y_test, probs)\n",
    "\n",
    "pyplot.plot([0,1],[0,1], linestyle = '--')\n",
    "\n",
    "pyplot.plot(fpr,tpr,marker='.')\n",
    "\n",
    "pyplot.show()"
   ]
  },
  {
   "cell_type": "code",
   "execution_count": 9,
   "metadata": {},
   "outputs": [
    {
     "name": "stdout",
     "output_type": "stream",
     "text": [
      "CPU times: user 28.2 s, sys: 699 ms, total: 28.9 s\n",
      "Wall time: 7.4 s\n"
     ]
    },
    {
     "data": {
      "text/plain": [
       "99.07614921061806"
      ]
     },
     "execution_count": 9,
     "metadata": {},
     "output_type": "execute_result"
    }
   ],
   "source": [
    "%%time\n",
    "\n",
    "#Pipeline 2\n",
    "\n",
    "pipeline2 = Pipeline([\n",
    "    ('zero variance', VarianceThreshold()),\n",
    "    ('scale 0_1', MinMaxScaler()),\n",
    "    ('top20 features', SelectKBest(f_classif, k=20)),\n",
    "    ('ada',AdaBoostClassifier(n_estimators=150,learning_rate=0.1))])\n",
    "\n",
    "pipeline2.fit(X_train,Y_train)\n",
    "\n",
    "Y_predict2=pipeline2.predict(X_test)\n",
    "accuracy_score(Y_test, Y_predict2)*100"
   ]
  },
  {
   "cell_type": "code",
   "execution_count": 10,
   "metadata": {},
   "outputs": [
    {
     "name": "stdout",
     "output_type": "stream",
     "text": [
      "[[19708   371]\n",
      " [    0 20079]]\n",
      "\n",
      "True Positive = 19708\n",
      "True Negative = 20079\n",
      "\n",
      "False Positive = 0\n",
      "False Negative = 371\n"
     ]
    }
   ],
   "source": [
    "#Pipeline 2 - Confusion Matrix\n",
    "\n",
    "matrix = confusion_matrix(Y_test, Y_predict2)\n",
    "print(matrix)\n",
    "\n",
    "p2_TP = matrix[0][0]\n",
    "p2_TN = matrix[1][1]\n",
    "p2_FP = matrix[1][0]\n",
    "p2_FN = matrix[0][1]\n",
    "\n",
    "print('')\n",
    "\n",
    "print('True Positive = %.0f' % p2_TP)\n",
    "print('True Negative = %.0f' % p2_TN)\n",
    "\n",
    "print('')\n",
    "\n",
    "print('False Positive = %.0f' % p2_FP)\n",
    "print('False Negative = %.0f' % p2_FN)"
   ]
  },
  {
   "cell_type": "code",
   "execution_count": 11,
   "metadata": {},
   "outputs": [
    {
     "name": "stdout",
     "output_type": "stream",
     "text": [
      "Acc = 0.9908\n",
      "DR(recall) = 0.9815\n",
      "Precision = 1.0000\n",
      "FAR = 0.0000\n",
      "FNR = 0.0185\n",
      "F1 = 0.9907\n",
      "MCC = 0.9817\n"
     ]
    }
   ],
   "source": [
    "#Pipeline 2 - Evaluation Metrics\n",
    "\n",
    "p2_Acc = (p2_TP + p2_TN) / (p2_TP + p2_TN + p2_FP + p2_FN)\n",
    "print('Acc = %.4f' % p2_Acc)\n",
    "\n",
    "p2_DR = p2_TP / (p2_TP + p2_FN)\n",
    "print('DR(recall) = %.4f' % p2_DR)\n",
    "\n",
    "p2_Prec = p2_TP / (p2_TP + p2_FP)\n",
    "print('Precision = %.4f' % p2_Prec)\n",
    "\n",
    "p2_FAR = p2_FP / (p2_TN + p2_FP)\n",
    "print('FAR = %.4f' % p2_FAR)\n",
    "\n",
    "\n",
    "p2_FNR = p2_FN / (p2_FN + p2_TP)\n",
    "print('FNR = %.4f' % p2_FNR)\n",
    "\n",
    "p2_F1 = (2 * p2_TP) / (2*p2_TP + p2_FP + p2_FN)\n",
    "print('F1 = %.4f' % p2_F1)\n",
    "\n",
    "p2_MCC = ((p2_TP * p2_TN) - (p2_FP * p2_FN)) / math.sqrt((p2_TP + p2_FP)*(p2_TP + p2_FN)*(p2_TN + p2_FP)*(p2_TN + p2_FN))\n",
    "print('MCC = %.4f' % p2_MCC)\n"
   ]
  },
  {
   "cell_type": "code",
   "execution_count": 12,
   "metadata": {},
   "outputs": [
    {
     "name": "stdout",
     "output_type": "stream",
     "text": [
      "AUC: 0.990\n"
     ]
    },
    {
     "data": {
      "image/png": "[encoded data removed]",
      "text/plain": [
       "<Figure size 432x288 with 1 Axes>"
      ]
     },
     "metadata": {
      "needs_background": "light"
     },
     "output_type": "display_data"
    }
   ],
   "source": [
    "#Pipeline 2 - ROC Curve\n",
    "\n",
    "probs = pipeline2.predict_proba(X_test)\n",
    "probs = probs[:, 1]\n",
    "auc = roc_auc_score(Y_test, probs)\n",
    "print('AUC: %.3f' % auc)\n",
    "\n",
    "fpr, tpr, thresholds = roc_curve(Y_test, probs)\n",
    "\n",
    "pyplot.plot([0,1],[0,1], linestyle = '--')\n",
    "\n",
    "pyplot.plot(fpr,tpr,marker='.')\n",
    "\n",
    "pyplot.show()"
   ]
  },
  {
   "cell_type": "code",
   "execution_count": 13,
   "metadata": {},
   "outputs": [
    {
     "name": "stdout",
     "output_type": "stream",
     "text": [
      "CPU times: user 5.34 s, sys: 229 ms, total: 5.57 s\n",
      "Wall time: 1.49 s\n"
     ]
    },
    {
     "data": {
      "text/plain": [
       "98.62791971711738"
      ]
     },
     "execution_count": 13,
     "metadata": {},
     "output_type": "execute_result"
    }
   ],
   "source": [
    "%%time\n",
    "\n",
    "#Pipeline 3\n",
    "\n",
    "\n",
    "pipeline3= Pipeline([\n",
    "    ('zero variance', VarianceThreshold()),\n",
    "    ('scale 0_1', MinMaxScaler()),\n",
    "    ('top20 features', SelectKBest(chi2, k=20)),\n",
    "    ('model',LogisticRegression(C=1000,solver='newton-cg'))])\n",
    "\n",
    "\n",
    "pipeline3.fit(X_train,Y_train)\n",
    "\n",
    "Y_predict3=pipeline3.predict(X_test)\n",
    "accuracy_score(Y_test, Y_predict3)*100"
   ]
  },
  {
   "cell_type": "code",
   "execution_count": 14,
   "metadata": {},
   "outputs": [
    {
     "name": "stdout",
     "output_type": "stream",
     "text": [
      "              precision    recall  f1-score   support\n",
      "\n",
      "           0       0.99      0.98      0.99     20079\n",
      "           1       0.98      0.99      0.99     20079\n",
      "\n",
      "    accuracy                           0.99     40158\n",
      "   macro avg       0.99      0.99      0.99     40158\n",
      "weighted avg       0.99      0.99      0.99     40158\n",
      "\n"
     ]
    }
   ],
   "source": [
    "#Pipleline 3 - Classification Report\n",
    "\n",
    "report = classification_report(Y_test, Y_predict3)\n",
    "print(report)"
   ]
  },
  {
   "cell_type": "code",
   "execution_count": 15,
   "metadata": {},
   "outputs": [
    {
     "name": "stdout",
     "output_type": "stream",
     "text": [
      "[[19669   410]\n",
      " [  141 19938]]\n",
      "\n",
      "True Positive = 19669\n",
      "True Negative = 19938\n",
      "\n",
      "False Positive = 141\n",
      "False Negative = 410\n"
     ]
    }
   ],
   "source": [
    "#Pipeline 3 - Confusion Matrix\n",
    "\n",
    "matrix = confusion_matrix(Y_test, Y_predict3)\n",
    "print(matrix)\n",
    "\n",
    "p3_TP = matrix[0][0]\n",
    "p3_TN = matrix[1][1]\n",
    "p3_FP = matrix[1][0]\n",
    "p3_FN = matrix[0][1]\n",
    "\n",
    "print('')\n",
    "\n",
    "print('True Positive = %.0f' % p3_TP)\n",
    "print('True Negative = %.0f' % p3_TN)\n",
    "\n",
    "print('')\n",
    "\n",
    "print('False Positive = %.0f' % p3_FP)\n",
    "print('False Negative = %.0f' % p3_FN)"
   ]
  },
  {
   "cell_type": "code",
   "execution_count": 16,
   "metadata": {},
   "outputs": [
    {
     "name": "stdout",
     "output_type": "stream",
     "text": [
      "Acc = 0.9863\n",
      "DR(recall) = 0.9796\n",
      "Precision = 0.9929\n",
      "FAR = 0.0070\n",
      "FNR = 0.0204\n",
      "F1 = 0.9862\n",
      "MCC = 0.9726\n"
     ]
    }
   ],
   "source": [
    "#Pipeline 3 - Evaluation Metrics\n",
    "\n",
    "p3_Acc = (p3_TP + p3_TN) / (p3_TP + p3_TN + p3_FP + p3_FN)\n",
    "print('Acc = %.4f' % p3_Acc)\n",
    "\n",
    "p3_DR = p3_TP / (p3_TP + p3_FN)\n",
    "print('DR(recall) = %.4f' % p3_DR)\n",
    "\n",
    "p3_Prec = p3_TP / (p3_TP + p3_FP)\n",
    "print('Precision = %.4f' % p3_Prec)\n",
    "\n",
    "p3_FAR = p3_FP / (p3_TN + p3_FP)\n",
    "print('FAR = %.4f' % p3_FAR)\n",
    "\n",
    "\n",
    "p3_FNR = p3_FN / (p3_FN + p3_TP)\n",
    "print('FNR = %.4f' % p3_FNR)\n",
    "\n",
    "p3_F1 = (2 * p3_TP) / (2*p3_TP + p3_FP + p3_FN)\n",
    "print('F1 = %.4f' % p3_F1)\n",
    "\n",
    "p3_MCC = ((p3_TP * p3_TN) - (p3_FP * p3_FN)) / math.sqrt((p3_TP + p3_FP)*(p3_TP + p3_FN)*(p3_TN + p3_FP)*(p3_TN + p3_FN))\n",
    "print('MCC = %.4f' % p3_MCC)"
   ]
  },
  {
   "cell_type": "code",
   "execution_count": 17,
   "metadata": {
    "scrolled": true
   },
   "outputs": [
    {
     "name": "stdout",
     "output_type": "stream",
     "text": [
      "AUC: 0.998\n"
     ]
    },
    {
     "data": {
      "image/png": "[encoded data removed]",
      "text/plain": [
       "<Figure size 432x288 with 1 Axes>"
      ]
     },
     "metadata": {
      "needs_background": "light"
     },
     "output_type": "display_data"
    }
   ],
   "source": [
    "#Pipeline 3 - ROC Curve\n",
    "\n",
    "probs = pipeline3.predict_proba(X_test)\n",
    "probs = probs[:, 1]\n",
    "auc = roc_auc_score(Y_test, probs)\n",
    "print('AUC: %.3f' % auc)\n",
    "\n",
    "fpr, tpr, thresholds = roc_curve(Y_test, probs)\n",
    "\n",
    "pyplot.plot([0,1],[0,1], linestyle = '--')\n",
    "\n",
    "pyplot.plot(fpr,tpr,marker='.')\n",
    "\n",
    "pyplot.show()"
   ]
  },
  {
   "cell_type": "code",
   "execution_count": null,
   "metadata": {},
   "outputs": [],
   "source": []
  }
 ],
 "metadata": {
  "kernelspec": {
   "display_name": "Python 3",
   "language": "python",
   "name": "python3"
  },
  "language_info": {
   "codemirror_mode": {
    "name": "ipython",
    "version": 3
   },
   "file_extension": ".py",
   "mimetype": "text/x-python",
   "name": "python",
   "nbconvert_exporter": "python",
   "pygments_lexer": "ipython3",
   "version": "3.7.4"
  }
 },
 "nbformat": 4,
 "nbformat_minor": 2
}
