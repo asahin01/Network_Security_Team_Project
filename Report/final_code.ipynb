{
 "cells": [
  {
   "cell_type": "code",
   "execution_count": 1,
   "metadata": {},
   "outputs": [],
   "source": [
    "# Initial modules\n",
    "import numpy as np\n",
    "import pandas as pd\n",
    "import sklearn\n",
    "np.random.seed(404)\n",
    "import math\n",
    "\n",
    "from sklearn.feature_selection import VarianceThreshold\n",
    "from sklearn.feature_selection import SelectKBest\n",
    "from sklearn.metrics import accuracy_score\n",
    "from sklearn.feature_selection import f_classif\n",
    "from sklearn.ensemble import AdaBoostClassifier\n",
    "\n",
    "from sklearn.metrics import classification_report\n",
    "from sklearn.metrics import roc_curve\n",
    "from sklearn.metrics import roc_auc_score\n",
    "from matplotlib import pyplot\n",
    "from sklearn.metrics import confusion_matrix\n",
    "\n",
    "from sklearn.pipeline import Pipeline"
   ]
  },
  {
   "cell_type": "code",
   "execution_count": 3,
   "metadata": {},
   "outputs": [],
   "source": [
    "#load data\n",
    "\n",
    "traindata= pd.read_csv('/Users/student/Documents/GitHub/AML_project/datasets/train_imperson_without4n7_balanced_data.csv')\n",
    "testdata= pd.read_csv('/Users/student/Documents/GitHub/AML_project/datasets/test_imperson_without4n7_balanced_data.csv')"
   ]
  },
  {
   "cell_type": "code",
   "execution_count": 4,
   "metadata": {},
   "outputs": [],
   "source": [
    "# Separate X and Y\n",
    "\n",
    "X_train, Y_train = traindata.loc[:, traindata.columns != '155'], traindata['155']\n",
    "\n",
    "X_test, Y_test = testdata.loc[:, testdata.columns != '155'], testdata['155']\n"
   ]
  },
  {
   "cell_type": "code",
   "execution_count": 5,
   "metadata": {},
   "outputs": [
    {
     "name": "stdout",
     "output_type": "stream",
     "text": [
      "CPU times: user 15.5 s, sys: 736 ms, total: 16.2 s\n",
      "Wall time: 8.45 s\n"
     ]
    },
    {
     "data": {
      "text/plain": [
       "Pipeline(memory=None,\n",
       "         steps=[('zero variance', VarianceThreshold(threshold=0.0)),\n",
       "                ('top20 features',\n",
       "                 SelectKBest(k=20,\n",
       "                             score_func=<function f_classif at 0xa1c1df0e0>)),\n",
       "                ('ada',\n",
       "                 AdaBoostClassifier(algorithm='SAMME.R', base_estimator=None,\n",
       "                                    learning_rate=0.1, n_estimators=150,\n",
       "                                    random_state=None))],\n",
       "         verbose=False)"
      ]
     },
     "execution_count": 5,
     "metadata": {},
     "output_type": "execute_result"
    }
   ],
   "source": [
    "%%time\n",
    "\n",
    "# Pipeline 1 - Accuracy\n",
    "\n",
    "pipeline1 = Pipeline([\n",
    "    ('zero variance', VarianceThreshold()),\n",
    "    ('top20 features', SelectKBest(f_classif, k=20)),\n",
    "    ('ada',AdaBoostClassifier(n_estimators=150,learning_rate=0.1))])\n",
    "\n",
    "pipeline1.fit(X_train,Y_train)"
   ]
  },
  {
   "cell_type": "code",
   "execution_count": 6,
   "metadata": {},
   "outputs": [
    {
     "data": {
      "text/plain": [
       "99.07614921061806"
      ]
     },
     "execution_count": 6,
     "metadata": {},
     "output_type": "execute_result"
    }
   ],
   "source": [
    "Y_predict1=pipeline1.predict(X_test)\n",
    "accuracy_score(Y_test, Y_predict1)*100"
   ]
  },
  {
   "cell_type": "code",
   "execution_count": 7,
   "metadata": {},
   "outputs": [
    {
     "name": "stdout",
     "output_type": "stream",
     "text": [
      "              precision    recall  f1-score   support\n",
      "\n",
      "           0       1.00      0.98      0.99     20079\n",
      "           1       0.98      1.00      0.99     20079\n",
      "\n",
      "    accuracy                           0.99     40158\n",
      "   macro avg       0.99      0.99      0.99     40158\n",
      "weighted avg       0.99      0.99      0.99     40158\n",
      "\n"
     ]
    }
   ],
   "source": [
    "#Pipleline 1 - Classification Report\n",
    "\n",
    "report = classification_report(Y_test, Y_predict1)\n",
    "print(report)"
   ]
  },
  {
   "cell_type": "code",
   "execution_count": 8,
   "metadata": {},
   "outputs": [
    {
     "name": "stdout",
     "output_type": "stream",
     "text": [
      "[[19708   371]\n",
      " [    0 20079]]\n",
      "\n",
      "True Positive = 19708\n",
      "True Negative = 20079\n",
      "\n",
      "False Positive = 0\n",
      "False Negative = 371\n"
     ]
    }
   ],
   "source": [
    "#Pipeline 1 - Confusion Matrix\n",
    "\n",
    "matrix = confusion_matrix(Y_test, Y_predict1)\n",
    "print(matrix)\n",
    "\n",
    "p1_TP = matrix[0][0]\n",
    "p1_TN = matrix[1][1]\n",
    "p1_FP = matrix[1][0]\n",
    "p1_FN = matrix[0][1]\n",
    "\n",
    "print('')\n",
    "\n",
    "print('True Positive = %.0f' % p1_TP)\n",
    "print('True Negative = %.0f' % p1_TN)\n",
    "\n",
    "print('')\n",
    "\n",
    "print('False Positive = %.0f' % p1_FP)\n",
    "print('False Negative = %.0f' % p1_FN)"
   ]
  },
  {
   "cell_type": "code",
   "execution_count": 9,
   "metadata": {},
   "outputs": [
    {
     "name": "stdout",
     "output_type": "stream",
     "text": [
      "Acc = 0.9908\n",
      "DR(Recall) = 0.9815\n",
      "Precision = 1.0000\n",
      "FAR = 0.0000\n",
      "FNR = 0.0185\n",
      "F1 = 0.9907\n",
      "MCC = 0.9817\n"
     ]
    }
   ],
   "source": [
    "#Pipeline 1 - Evaluation Metrics\n",
    "\n",
    "p1_Acc = (p1_TP + p1_TN) / (p1_TP + p1_TN + p1_FP + p1_FN)\n",
    "print('Acc = %.4f' % p1_Acc)\n",
    "\n",
    "p1_DR = p1_TP / (p1_TP + p1_FN)\n",
    "print('DR(Recall) = %.4f' % p1_DR)\n",
    "\n",
    "p1_Prec = p1_TP / (p1_TP + p1_FP)\n",
    "print('Precision = %.4f' % p1_Prec)\n",
    "\n",
    "p1_FAR = p1_FP / (p1_TN + p1_FP)\n",
    "print('FAR = %.4f' % p1_FAR)\n",
    "\n",
    "\n",
    "p1_FNR = p1_FN / (p1_FN + p1_TP)\n",
    "print('FNR = %.4f' % p1_FNR)\n",
    "\n",
    "p1_F1 = (2 * p1_TP) / (2*p1_TP + p1_FP + p1_FN)\n",
    "print('F1 = %.4f' % p1_F1)\n",
    "\n",
    "p1_MCC = ((p1_TP * p1_TN) - (p1_FP * p1_FN)) / math.sqrt((p1_TP + p1_FP)*(p1_TP + p1_FN)*(p1_TN + p1_FP)*(p1_TN + p1_FN))\n",
    "print('MCC = %.4f' % p1_MCC)"
   ]
  },
  {
   "cell_type": "code",
   "execution_count": 10,
   "metadata": {
    "scrolled": true
   },
   "outputs": [
    {
     "name": "stdout",
     "output_type": "stream",
     "text": [
      "AUC: 0.990\n"
     ]
    },
    {
     "data": {
      "image/png": "[encoded data removed]",
      "text/plain": [
       "<Figure size 432x288 with 1 Axes>"
      ]
     },
     "metadata": {
      "needs_background": "light"
     },
     "output_type": "display_data"
    }
   ],
   "source": [
    "#Pipeline 1 - ROC Curve\n",
    "\n",
    "probs = pipeline1.predict_proba(X_test)\n",
    "probs = probs[:, 1]\n",
    "auc = roc_auc_score(Y_test, probs)\n",
    "print('AUC: %.3f' % auc)\n",
    "\n",
    "fpr, tpr, thresholds = roc_curve(Y_test, probs)\n",
    "\n",
    "pyplot.plot([0,1],[0,1], linestyle = '--')\n",
    "\n",
    "pyplot.plot(fpr,tpr,marker='.')\n",
    "\n",
    "pyplot.show()"
   ]
  },
  {
   "cell_type": "code",
   "execution_count": null,
   "metadata": {},
   "outputs": [],
   "source": []
  }
 ],
 "metadata": {
  "kernelspec": {
   "display_name": "Python 3",
   "language": "python",
   "name": "python3"
  },
  "language_info": {
   "codemirror_mode": {
    "name": "ipython",
    "version": 3
   },
   "file_extension": ".py",
   "mimetype": "text/x-python",
   "name": "python",
   "nbconvert_exporter": "python",
   "pygments_lexer": "ipython3",
   "version": "3.7.4"
  }
 },
 "nbformat": 4,
 "nbformat_minor": 2
}
