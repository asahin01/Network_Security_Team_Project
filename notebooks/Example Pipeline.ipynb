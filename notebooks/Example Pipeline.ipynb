{
 "cells": [
  {
   "cell_type": "code",
   "execution_count": 1,
   "metadata": {},
   "outputs": [],
   "source": [
    "import matplotlib.pyplot as plt\n",
    "import numpy as np\n",
    "import scipy\n",
    "import pandas as pd\n",
    "import sklearn as skl"
   ]
  },
  {
   "cell_type": "code",
   "execution_count": 2,
   "metadata": {},
   "outputs": [],
   "source": [
    "mdata= pd.read_csv('train_imperson_without4n7_balanced_data.csv')\n",
    "Xtrain, Ytrain = mdata.loc[:, mdata.columns != '155'], mdata['155']\n",
    "\n",
    "mdata_test= pd.read_csv('test_imperson_without4n7_balanced_data.csv')\n",
    "Xtest, Ytest = mdata_test.loc[:, mdata_test.columns != '155'], mdata_test['155']"
   ]
  },
  {
   "cell_type": "code",
   "execution_count": 3,
   "metadata": {},
   "outputs": [],
   "source": [
    "from sklearn.pipeline import make_pipeline\n",
    "from sklearn.preprocessing import FunctionTransformer, StandardScaler\n",
    "from sklearn.feature_selection import VarianceThreshold\n",
    "from sklearn.svm import SVC\n",
    "def column_keeper(col):\n",
    "    \"\"\" Create a function that discards all columns except those in the 'col' parameter\"\"\"\n",
    "    def keep_columns(X):\n",
    "        return X[:, col]\n",
    "    return keep_columns\n",
    "\n",
    "selected_features = sorted([25,16,22,13,77,15,2,3,23,34])\n",
    "\n",
    "pipeline = make_pipeline(\n",
    "    VarianceThreshold(),\n",
    "    FunctionTransformer(column_keeper(selected_features)),\n",
    "    StandardScaler(),\n",
    "    SVC(),\n",
    ")\n"
   ]
  },
  {
   "cell_type": "code",
   "execution_count": 5,
   "metadata": {},
   "outputs": [
    {
     "name": "stderr",
     "output_type": "stream",
     "text": [
      "C:\\Anaconda3\\lib\\site-packages\\sklearn\\preprocessing\\_function_transformer.py:98: FutureWarning: The default validate=True will be replaced by validate=False in 0.22.\n",
      "  \"validate=False in 0.22.\", FutureWarning)\n",
      "C:\\Anaconda3\\lib\\site-packages\\sklearn\\preprocessing\\_function_transformer.py:98: FutureWarning: The default validate=True will be replaced by validate=False in 0.22.\n",
      "  \"validate=False in 0.22.\", FutureWarning)\n"
     ]
    },
    {
     "data": {
      "text/plain": [
       "Pipeline(memory=None,\n",
       "     steps=[('variancethreshold', VarianceThreshold(threshold=0.0)), ('functiontransformer', FunctionTransformer(accept_sparse=False, check_inverse=True,\n",
       "          func=<function column_keeper.<locals>.keep_columns at 0x00000264B14E9730>,\n",
       "          inv_kw_args=None, inverse_func=None, kw_args=None,\n",
       "     ...f', max_iter=-1, probability=False, random_state=None,\n",
       "  shrinking=True, tol=0.001, verbose=False))])"
      ]
     },
     "execution_count": 5,
     "metadata": {},
     "output_type": "execute_result"
    }
   ],
   "source": [
    "# Train the model on the training data\n",
    "pipeline.fit(Xtrain, Ytrain)"
   ]
  },
  {
   "cell_type": "code",
   "execution_count": 6,
   "metadata": {},
   "outputs": [
    {
     "name": "stderr",
     "output_type": "stream",
     "text": [
      "C:\\Anaconda3\\lib\\site-packages\\sklearn\\preprocessing\\_function_transformer.py:98: FutureWarning: The default validate=True will be replaced by validate=False in 0.22.\n",
      "  \"validate=False in 0.22.\", FutureWarning)\n"
     ]
    },
    {
     "data": {
      "text/plain": [
       "0.5260222122615668"
      ]
     },
     "execution_count": 6,
     "metadata": {},
     "output_type": "execute_result"
    }
   ],
   "source": [
    "pipeline.score(Xtest, Ytest)"
   ]
  },
  {
   "cell_type": "code",
   "execution_count": 7,
   "metadata": {},
   "outputs": [],
   "source": [
    "from sklearn.ensemble import RandomForestClassifier\n",
    "\n",
    "rf_pipeline = make_pipeline(\n",
    "    VarianceThreshold(),\n",
    "    FunctionTransformer(column_keeper(selected_features)),\n",
    "    RandomForestClassifier(),\n",
    ")"
   ]
  },
  {
   "cell_type": "code",
   "execution_count": 8,
   "metadata": {},
   "outputs": [
    {
     "name": "stderr",
     "output_type": "stream",
     "text": [
      "C:\\Anaconda3\\lib\\site-packages\\sklearn\\preprocessing\\_function_transformer.py:98: FutureWarning: The default validate=True will be replaced by validate=False in 0.22.\n",
      "  \"validate=False in 0.22.\", FutureWarning)\n",
      "C:\\Anaconda3\\lib\\site-packages\\sklearn\\preprocessing\\_function_transformer.py:98: FutureWarning: The default validate=True will be replaced by validate=False in 0.22.\n",
      "  \"validate=False in 0.22.\", FutureWarning)\n",
      "C:\\Anaconda3\\lib\\site-packages\\sklearn\\ensemble\\forest.py:246: FutureWarning: The default value of n_estimators will change from 10 in version 0.20 to 100 in 0.22.\n",
      "  \"10 in version 0.20 to 100 in 0.22.\", FutureWarning)\n"
     ]
    },
    {
     "data": {
      "text/plain": [
       "Pipeline(memory=None,\n",
       "     steps=[('variancethreshold', VarianceThreshold(threshold=0.0)), ('functiontransformer', FunctionTransformer(accept_sparse=False, check_inverse=True,\n",
       "          func=<function column_keeper.<locals>.keep_columns at 0x00000264CF368E18>,\n",
       "          inv_kw_args=None, inverse_func=None, kw_args=None,\n",
       "     ...obs=None,\n",
       "            oob_score=False, random_state=None, verbose=0,\n",
       "            warm_start=False))])"
      ]
     },
     "execution_count": 8,
     "metadata": {},
     "output_type": "execute_result"
    }
   ],
   "source": [
    "rf_pipeline.fit(Xtrain, Ytrain)"
   ]
  },
  {
   "cell_type": "code",
   "execution_count": 9,
   "metadata": {},
   "outputs": [
    {
     "name": "stderr",
     "output_type": "stream",
     "text": [
      "C:\\Anaconda3\\lib\\site-packages\\sklearn\\preprocessing\\_function_transformer.py:98: FutureWarning: The default validate=True will be replaced by validate=False in 0.22.\n",
      "  \"validate=False in 0.22.\", FutureWarning)\n"
     ]
    },
    {
     "data": {
      "text/plain": [
       "0.5361322775038597"
      ]
     },
     "execution_count": 9,
     "metadata": {},
     "output_type": "execute_result"
    }
   ],
   "source": [
    "rf_pipeline.score(Xtest, Ytest)"
   ]
  },
  {
   "cell_type": "code",
   "execution_count": 10,
   "metadata": {},
   "outputs": [
    {
     "ename": "ModuleNotFoundError",
     "evalue": "No module named 'catboost'",
     "output_type": "error",
     "traceback": [
      "\u001b[1;31m---------------------------------------------------------------------------\u001b[0m",
      "\u001b[1;31mModuleNotFoundError\u001b[0m                       Traceback (most recent call last)",
      "\u001b[1;32m<timed exec>\u001b[0m in \u001b[0;36m<module>\u001b[1;34m\u001b[0m\n",
      "\u001b[1;31mModuleNotFoundError\u001b[0m: No module named 'catboost'"
     ]
    }
   ],
   "source": [
    "%%time\n",
    "from catboost import CatBoostClassifier\n",
    "cb_top_6 = sorted(['8', '38', '67', '119', '76', '78'])\n",
    "cb_pipeline = make_pipeline(\n",
    "    FunctionTransformer(column_keeper(cb_top_6)),\n",
    "    CatBoostClassifier(),\n",
    ")\n",
    "\n",
    "cb_pipeline.fit(Xtrain, Ytrain)\n",
    "cb_pipeline.score(Xtest, Ytest)"
   ]
  },
  {
   "cell_type": "code",
   "execution_count": 12,
   "metadata": {},
   "outputs": [
    {
     "data": {
      "text/plain": [
       "{'variancethreshold': VarianceThreshold(threshold=0.0),\n",
       " 'functiontransformer': FunctionTransformer(accept_sparse=False, check_inverse=True,\n",
       "           func=<function column_keeper.<locals>.keep_columns at 0x00000264B14E9730>,\n",
       "           inv_kw_args=None, inverse_func=None, kw_args=None,\n",
       "           pass_y='deprecated', validate=None),\n",
       " 'standardscaler': StandardScaler(copy=True, with_mean=True, with_std=True),\n",
       " 'svc': SVC(C=1.0, cache_size=200, class_weight=None, coef0=0.0,\n",
       "   decision_function_shape='ovr', degree=3, gamma='auto_deprecated',\n",
       "   kernel='rbf', max_iter=-1, probability=False, random_state=None,\n",
       "   shrinking=True, tol=0.001, verbose=False)}"
      ]
     },
     "execution_count": 12,
     "metadata": {},
     "output_type": "execute_result"
    }
   ],
   "source": [
    "pipeline.named_steps"
   ]
  },
  {
   "cell_type": "code",
   "execution_count": 14,
   "metadata": {},
   "outputs": [],
   "source": [
    "vat = pipeline.named_steps['variancethreshold']"
   ]
  },
  {
   "cell_type": "code",
   "execution_count": 15,
   "metadata": {},
   "outputs": [
    {
     "data": {
      "text/plain": [
       "array([0.00000000e+00, 0.00000000e+00, 0.00000000e+00, 2.41517214e-04,\n",
       "       2.41517214e-04, 1.25629093e-01, 1.25629093e-01, 0.00000000e+00,\n",
       "       0.00000000e+00, 0.00000000e+00, 0.00000000e+00, 2.16349859e-04,\n",
       "       2.16349859e-04, 2.16349859e-04, 0.00000000e+00, 2.16349859e-04,\n",
       "       0.00000000e+00, 2.16349859e-04, 0.00000000e+00, 0.00000000e+00,\n",
       "       0.00000000e+00, 0.00000000e+00, 0.00000000e+00, 2.16349859e-04,\n",
       "       0.00000000e+00, 0.00000000e+00, 2.16349859e-04, 0.00000000e+00,\n",
       "       0.00000000e+00, 0.00000000e+00, 0.00000000e+00, 0.00000000e+00,\n",
       "       0.00000000e+00, 0.00000000e+00, 0.00000000e+00, 1.20578048e-02,\n",
       "       0.00000000e+00, 0.00000000e+00, 0.00000000e+00, 0.00000000e+00,\n",
       "       2.16349859e-04, 0.00000000e+00, 0.00000000e+00, 0.00000000e+00,\n",
       "       1.64292310e-01, 2.08288948e-04, 0.00000000e+00, 2.09370196e-01,\n",
       "       2.09282912e-01, 2.16349859e-04, 0.00000000e+00, 0.00000000e+00,\n",
       "       0.00000000e+00, 0.00000000e+00, 0.00000000e+00, 0.00000000e+00,\n",
       "       0.00000000e+00, 0.00000000e+00, 1.36723579e-02, 2.16349859e-04,\n",
       "       0.00000000e+00, 4.85360431e-02, 0.00000000e+00, 1.39771840e-01,\n",
       "       1.56317148e-01, 2.02540002e-01, 0.00000000e+00, 6.96700548e-02,\n",
       "       2.24607451e-01, 1.02939856e-03, 2.08362875e-01, 0.00000000e+00,\n",
       "       7.51502878e-05, 4.41208908e-04, 5.55466821e-03, 3.18596754e-04,\n",
       "       3.19861660e-04, 3.30559846e-05, 0.00000000e+00, 7.37101767e-02,\n",
       "       2.06087835e-05, 6.18238019e-05, 0.00000000e+00, 8.24300369e-05,\n",
       "       0.00000000e+00, 6.00745471e-06, 2.16349859e-04, 7.92962517e-02,\n",
       "       0.00000000e+00, 0.00000000e+00, 5.03537301e-02, 2.72818312e-02,\n",
       "       0.00000000e+00, 0.00000000e+00, 1.03044979e-05, 7.83497824e-02,\n",
       "       0.00000000e+00, 0.00000000e+00, 0.00000000e+00, 0.00000000e+00,\n",
       "       0.00000000e+00, 3.41042906e-03, 3.86412035e-06, 6.49594055e-04,\n",
       "       2.47130335e-04, 1.71105699e-07, 1.20925652e-04, 8.86240221e-10,\n",
       "       4.53197006e-04, 1.08129378e-03, 5.67783377e-06, 0.00000000e+00,\n",
       "       0.00000000e+00, 0.00000000e+00, 8.29719050e-07, 8.19510328e-02,\n",
       "       1.32663490e-04, 1.58818697e-02, 9.66611760e-08, 9.96051712e-07,\n",
       "       6.17893980e-04, 0.00000000e+00, 1.62026304e-04, 4.99762441e-12,\n",
       "       1.29815085e-06, 1.90686218e-11, 5.26061291e-12, 2.10727965e-02,\n",
       "       0.00000000e+00, 0.00000000e+00, 1.03044979e-05, 0.00000000e+00,\n",
       "       0.00000000e+00, 0.00000000e+00, 0.00000000e+00, 1.48796950e-06,\n",
       "       0.00000000e+00, 6.76676522e-02, 1.31731021e-03, 6.88995921e-02,\n",
       "       3.65731532e-03, 1.77022514e-04, 3.93942272e-03, 3.93942272e-03,\n",
       "       0.00000000e+00, 0.00000000e+00, 0.00000000e+00, 0.00000000e+00,\n",
       "       0.00000000e+00, 0.00000000e+00, 0.00000000e+00, 1.29654986e-01])"
      ]
     },
     "execution_count": 15,
     "metadata": {},
     "output_type": "execute_result"
    }
   ],
   "source": [
    "vat.variances_"
   ]
  },
  {
   "cell_type": "code",
   "execution_count": null,
   "metadata": {},
   "outputs": [],
   "source": []
  }
 ],
 "metadata": {
  "kernelspec": {
   "display_name": "Python 3",
   "language": "python",
   "name": "python3"
  },
  "language_info": {
   "codemirror_mode": {
    "name": "ipython",
    "version": 3
   },
   "file_extension": ".py",
   "mimetype": "text/x-python",
   "name": "python",
   "nbconvert_exporter": "python",
   "pygments_lexer": "ipython3",
   "version": "3.7.4"
  }
 },
 "nbformat": 4,
 "nbformat_minor": 2
}
