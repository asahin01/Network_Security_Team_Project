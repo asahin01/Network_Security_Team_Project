{
 "cells": [
  {
   "cell_type": "code",
   "execution_count": 13,
   "metadata": {},
   "outputs": [],
   "source": [
    "%matplotlib inline\n",
    "\n",
    "import numpy as np\n",
    "import pandas as pd\n",
    "mdata= pd.read_csv('train_imperson_without4n7_balanced_data.csv')\n",
    "X, Y = mdata.loc[:, mdata.columns != '155'], mdata['155']\n",
    "\n",
    "#eliminate features with 0 standard deviation\n",
    "X1_sigma = X.loc[:, (X.std()>0)]"
   ]
  },
  {
   "cell_type": "code",
   "execution_count": 14,
   "metadata": {},
   "outputs": [],
   "source": [
    "from catboost import CatBoostClassifier\n",
    "from sklearn.feature_selection import RFECV\n",
    "initial_selection = {0, 32, 2, 34, 72, 11, 48, 49, 18, 20, 22, 57, 29, 31}\n"
   ]
  },
  {
   "cell_type": "code",
   "execution_count": 15,
   "metadata": {},
   "outputs": [],
   "source": [
    "X_top_features = X1_sigma.iloc[:, list(initial_selection)]"
   ]
  },
  {
   "cell_type": "code",
   "execution_count": 16,
   "metadata": {},
   "outputs": [],
   "source": [
    "# shuffle the rows\n",
    "from numpy import random, arange\n",
    "indexes =  arange(Y.shape[0])\n",
    "random.shuffle(indexes)\n",
    "X_cv = X_top_features.iloc[indexes,:]\n",
    "Y_cv = Y.iloc[indexes]"
   ]
  },
  {
   "cell_type": "code",
   "execution_count": 17,
   "metadata": {},
   "outputs": [
    {
     "name": "stderr",
     "output_type": "stream",
     "text": [
      "/home/dave/anaconda3/lib/python3.7/site-packages/sklearn/model_selection/_split.py:1978: FutureWarning: The default value of cv will change from 3 to 5 in version 0.22. Specify it explicitly to silence this warning.\n",
      "  warnings.warn(CV_WARNING, FutureWarning)\n"
     ]
    },
    {
     "name": "stdout",
     "output_type": "stream",
     "text": [
      "Fitting estimator with 14 features.\n",
      "Fitting estimator with 13 features.\n",
      "Fitting estimator with 12 features.\n",
      "Fitting estimator with 11 features.\n",
      "Fitting estimator with 10 features.\n",
      "Fitting estimator with 9 features.\n",
      "Fitting estimator with 8 features.\n",
      "Fitting estimator with 7 features.\n",
      "CPU times: user 24min 31s, sys: 1min 19s, total: 25min 51s\n",
      "Wall time: 23min 19s\n"
     ]
    },
    {
     "data": {
      "text/plain": [
       "RFECV(cv='warn',\n",
       "      estimator=<catboost.core.CatBoostClassifier object at 0x7fa54ce8a3c8>,\n",
       "      min_features_to_select=1, n_jobs=-1, scoring='accuracy', step=1,\n",
       "      verbose=1)"
      ]
     },
     "execution_count": 17,
     "metadata": {},
     "output_type": "execute_result"
    }
   ],
   "source": [
    "%%time\n",
    "cb = CatBoostClassifier(verbose=False, early_stopping_rounds=50)\n",
    "rfecv = RFECV(cb, scoring=\"accuracy\", n_jobs=-1, verbose=1)\n",
    "rfecv.fit(X_cv, Y_cv)"
   ]
  },
  {
   "cell_type": "code",
   "execution_count": 18,
   "metadata": {},
   "outputs": [
    {
     "data": {
      "text/plain": [
       "6"
      ]
     },
     "execution_count": 18,
     "metadata": {},
     "output_type": "execute_result"
    }
   ],
   "source": [
    "rfecv.n_features_"
   ]
  },
  {
   "cell_type": "code",
   "execution_count": 19,
   "metadata": {},
   "outputs": [
    {
     "data": {
      "text/plain": [
       "array([6, 4, 1, 2, 8, 1, 3, 9, 5, 7, 1, 1, 1, 1])"
      ]
     },
     "execution_count": 19,
     "metadata": {},
     "output_type": "execute_result"
    }
   ],
   "source": [
    "rfecv.ranking_"
   ]
  },
  {
   "cell_type": "code",
   "execution_count": 20,
   "metadata": {},
   "outputs": [
    {
     "data": {
      "text/plain": [
       "array([0.98148263, 0.99818639, 0.9991035 , 0.99990726, 0.99993817,\n",
       "       0.99995878, 0.99995878, 0.99995878, 0.99995878, 0.99994848,\n",
       "       0.99990726, 0.99989695, 0.99992787, 0.99990726])"
      ]
     },
     "execution_count": 20,
     "metadata": {},
     "output_type": "execute_result"
    }
   ],
   "source": [
    "rfecv.grid_scores_"
   ]
  },
  {
   "cell_type": "code",
   "execution_count": 21,
   "metadata": {},
   "outputs": [
    {
     "data": {
      "text/plain": [
       "array([False, False,  True, False, False,  True, False, False, False,\n",
       "       False,  True,  True,  True,  True])"
      ]
     },
     "execution_count": 21,
     "metadata": {},
     "output_type": "execute_result"
    }
   ],
   "source": [
    "rfecv.support_"
   ]
  },
  {
   "cell_type": "code",
   "execution_count": 22,
   "metadata": {},
   "outputs": [
    {
     "data": {
      "text/plain": [
       "[<matplotlib.lines.Line2D at 0x7fa54bcb7fd0>]"
      ]
     },
     "execution_count": 22,
     "metadata": {},
     "output_type": "execute_result"
    },
    {
     "data": {
      "image/png": "[encoded data removed]",
      "text/plain": [
       "<Figure size 432x288 with 1 Axes>"
      ]
     },
     "metadata": {
      "needs_background": "light"
     },
     "output_type": "display_data"
    }
   ],
   "source": [
    "import matplotlib.pyplot as plt\n",
    "plt.plot(range(1, len(rfecv.grid_scores_) + 1), rfecv.grid_scores_)"
   ]
  },
  {
   "cell_type": "markdown",
   "metadata": {},
   "source": [
    "# Validating the 6 selected features using 5-fold CV"
   ]
  },
  {
   "cell_type": "code",
   "execution_count": 31,
   "metadata": {},
   "outputs": [
    {
     "name": "stdout",
     "output_type": "stream",
     "text": [
      "Learning rate set to 0.057413\n",
      "0:\tlearn: 0.4969230\ttotal: 26.4ms\tremaining: 26.4s\n",
      "500:\tlearn: 0.0001222\ttotal: 8.93s\tremaining: 8.89s\n",
      "999:\tlearn: 0.0001222\ttotal: 16.4s\tremaining: 0us\n",
      "Learning rate set to 0.057413\n",
      "0:\tlearn: 0.4939848\ttotal: 29.7ms\tremaining: 29.7s\n",
      "500:\tlearn: 0.0001004\ttotal: 9.07s\tremaining: 9.04s\n",
      "999:\tlearn: 0.0000942\ttotal: 16.9s\tremaining: 0us\n",
      "Learning rate set to 0.057413\n",
      "0:\tlearn: 0.4962508\ttotal: 26.4ms\tremaining: 26.3s\n",
      "500:\tlearn: 0.0001067\ttotal: 9.39s\tremaining: 9.36s\n",
      "999:\tlearn: 0.0001067\ttotal: 16.9s\tremaining: 0us\n",
      "Learning rate set to 0.057413\n",
      "0:\tlearn: 0.4947954\ttotal: 27.1ms\tremaining: 27.1s\n",
      "500:\tlearn: 0.0001389\ttotal: 9.15s\tremaining: 9.12s\n",
      "999:\tlearn: 0.0001389\ttotal: 16.6s\tremaining: 0us\n",
      "Learning rate set to 0.057413\n",
      "0:\tlearn: 0.4947399\ttotal: 26.5ms\tremaining: 26.5s\n",
      "500:\tlearn: 0.0001834\ttotal: 8.7s\tremaining: 8.67s\n",
      "999:\tlearn: 0.0001834\ttotal: 16.1s\tremaining: 0us\n",
      "CPU times: user 10min 14s, sys: 30.9 s, total: 10min 45s\n",
      "Wall time: 1min 28s\n"
     ]
    },
    {
     "data": {
      "text/plain": [
       "{'fit_time': array([17.38743424, 17.89787388, 18.17471766, 17.69102573, 17.14631081]),\n",
       " 'score_time': array([0.01382089, 0.0118432 , 0.01252604, 0.01238298, 0.01172662]),\n",
       " 'test_score': array([0.99994848, 0.99989696, 0.99994847, 0.99969085, 0.99984542])}"
      ]
     },
     "execution_count": 31,
     "metadata": {},
     "output_type": "execute_result"
    }
   ],
   "source": [
    "from sklearn.model_selection import cross_validate\n",
    "\n",
    "X_top_6 = X_cv[X_cv.columns[rfecv.support_]]\n",
    "\n",
    "cb = CatBoostClassifier(verbose=500, early_stopping_rounds=50)\n",
    "%time cb_cv = cross_validate(cb, X_top_6, Y_cv, cv=5, scoring=\"accuracy\")\n",
    "cb_cv"
   ]
  },
  {
   "cell_type": "code",
   "execution_count": 32,
   "metadata": {},
   "outputs": [
    {
     "data": {
      "text/plain": [
       "0.9998660378103773"
      ]
     },
     "execution_count": 32,
     "metadata": {},
     "output_type": "execute_result"
    }
   ],
   "source": [
    "cb_cv['test_score'].mean()"
   ]
  },
  {
   "cell_type": "markdown",
   "metadata": {},
   "source": [
    "# Conclusion\n",
    "\n",
    "Using RFECV we have reduced our 14 best features down to 6 features while still retaining an average accuracy rate of 99.987% on 5-fold cross validation.  However the run time for fitting the model has only been reduced by a small amount, going from an average of 19.19 seconds to 17.66 seconds.  Similarly the scoring time went down from 0.0136 seconds to 0.0125 seconds."
   ]
  },
  {
   "cell_type": "code",
   "execution_count": 39,
   "metadata": {},
   "outputs": [
    {
     "data": {
      "text/plain": [
       "['8', '38', '67', '119', '76', '78']"
      ]
     },
     "execution_count": 39,
     "metadata": {},
     "output_type": "execute_result"
    }
   ],
   "source": [
    "# get the top column names/numbers from the original dataframe: \n",
    "list(X_top_6.columns)"
   ]
  },
  {
   "cell_type": "code",
   "execution_count": null,
   "metadata": {},
   "outputs": [],
   "source": []
  }
 ],
 "metadata": {
  "kernelspec": {
   "display_name": "Python 3",
   "language": "python",
   "name": "python3"
  },
  "language_info": {
   "codemirror_mode": {
    "name": "ipython",
    "version": 3
   },
   "file_extension": ".py",
   "mimetype": "text/x-python",
   "name": "python",
   "nbconvert_exporter": "python",
   "pygments_lexer": "ipython3",
   "version": "3.7.4"
  }
 },
 "nbformat": 4,
 "nbformat_minor": 4
}
