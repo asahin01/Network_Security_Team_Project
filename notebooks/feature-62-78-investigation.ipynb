{
 "cells": [
  {
   "cell_type": "code",
   "execution_count": 1,
   "metadata": {},
   "outputs": [],
   "source": [
    "\n",
    "import numpy as np\n",
    "import scipy\n",
    "import pandas as pd\n",
    "mdata= pd.read_csv('train_imperson_without4n7_balanced_data.csv')\n",
    "X, Y = mdata.loc[:, mdata.columns != '155'], mdata['155']\n",
    "\n",
    "#eliminate features with 0 standard deviation\n",
    "X1_sigma = X.loc[:, (X.std()>0)]"
   ]
  },
  {
   "cell_type": "code",
   "execution_count": 2,
   "metadata": {},
   "outputs": [
    {
     "data": {
      "text/plain": [
       "(97044, 16)"
      ]
     },
     "execution_count": 2,
     "metadata": {},
     "output_type": "execute_result"
    }
   ],
   "source": [
    "# get columns 62 onwards\n",
    "my_X = X1_sigma.iloc[:, 62:]\n",
    "my_X.shape"
   ]
  },
  {
   "cell_type": "code",
   "execution_count": 3,
   "metadata": {},
   "outputs": [
    {
     "data": {
      "text/plain": [
       "{'125': 3,\n",
       " '126': 2,\n",
       " '127': 3,\n",
       " '128': 3,\n",
       " '129': 2,\n",
       " '130': 2,\n",
       " '133': 2,\n",
       " '138': 2,\n",
       " '140': 17320,\n",
       " '141': 4,\n",
       " '142': 20359,\n",
       " '143': 1076,\n",
       " '144': 75,\n",
       " '145': 3,\n",
       " '146': 3,\n",
       " '154': 333}"
      ]
     },
     "execution_count": 3,
     "metadata": {},
     "output_type": "execute_result"
    }
   ],
   "source": [
    "# get a count of the number of unique items for each columns\n",
    "{c: len(v.value_counts()) for (c,v) in my_X.items()}"
   ]
  },
  {
   "cell_type": "code",
   "execution_count": 4,
   "metadata": {},
   "outputs": [
    {
     "data": {
      "text/plain": [
       "<matplotlib.axes._subplots.AxesSubplot at 0x7f321ae43d68>"
      ]
     },
     "execution_count": 4,
     "metadata": {},
     "output_type": "execute_result"
    },
    {
     "data": {
      "image/png": "[encoded data removed]",
      "text/plain": [
       "<Figure size 432x288 with 1 Axes>"
      ]
     },
     "metadata": {
      "needs_background": "light"
     },
     "output_type": "display_data"
    }
   ],
   "source": [
    "# look at the distribution of values in the column with the most variation \n",
    "%matplotlib inline\n",
    "s = my_X['142']\n",
    "s.plot.kde()"
   ]
  },
  {
   "cell_type": "code",
   "execution_count": 5,
   "metadata": {},
   "outputs": [
    {
     "data": {
      "text/plain": [
       "0.000000    29875\n",
       "0.417770     9096\n",
       "0.201320     8650\n",
       "0.087197     8478\n",
       "0.571250     8115\n",
       "0.391040     7572\n",
       "0.098715     2809\n",
       "0.916760        4\n",
       "0.154380        4\n",
       "0.496580        4\n",
       "0.203240        4\n",
       "0.436980        4\n",
       "0.162320        4\n",
       "0.450010        4\n",
       "0.400100        4\n",
       "0.609520        4\n",
       "0.880370        3\n",
       "0.429300        3\n",
       "0.776910        3\n",
       "0.218920        3\n",
       "0.784600        3\n",
       "0.651980        3\n",
       "0.258300        3\n",
       "0.322340        3\n",
       "0.982570        3\n",
       "0.369070        3\n",
       "0.978330        3\n",
       "0.915580        3\n",
       "0.100480        3\n",
       "0.501830        3\n",
       "Name: 142, dtype: int64"
      ]
     },
     "execution_count": 5,
     "metadata": {},
     "output_type": "execute_result"
    }
   ],
   "source": [
    "# there are some values that occur lots of times, and many that don't.  Get the top 30 most repeated values\n",
    "s.value_counts().head(30)"
   ]
  },
  {
   "cell_type": "code",
   "execution_count": 6,
   "metadata": {},
   "outputs": [
    {
     "data": {
      "text/plain": [
       "<matplotlib.axes._subplots.AxesSubplot at 0x7f320b5b9ef0>"
      ]
     },
     "execution_count": 6,
     "metadata": {},
     "output_type": "execute_result"
    },
    {
     "data": {
      "image/png": "[encoded data removed]",
      "text/plain": [
       "<Figure size 432x288 with 1 Axes>"
      ]
     },
     "metadata": {
      "needs_background": "light"
     },
     "output_type": "display_data"
    }
   ],
   "source": [
    "# look at the distribution of values in the column with the next most variation \n",
    "s = my_X['140']\n",
    "s.plot.kde()"
   ]
  },
  {
   "cell_type": "code",
   "execution_count": 7,
   "metadata": {},
   "outputs": [
    {
     "data": {
      "text/plain": [
       "0.000000    29875\n",
       "0.598400     9097\n",
       "0.035465     8649\n",
       "0.325880     8479\n",
       "0.358980     8114\n",
       "0.348360     7573\n",
       "0.521680     2810\n",
       "0.447690       11\n",
       "0.455490       11\n",
       "0.450720       10\n",
       "0.456840       10\n",
       "0.440370       10\n",
       "0.324440       10\n",
       "0.439170        9\n",
       "0.439730        9\n",
       "0.323740        9\n",
       "0.438580        9\n",
       "0.448820        9\n",
       "0.324520        9\n",
       "0.449800        9\n",
       "0.457330        9\n",
       "0.457270        9\n",
       "0.456240        9\n",
       "0.323870        8\n",
       "0.438240        8\n",
       "0.456460        8\n",
       "0.439030        8\n",
       "0.323490        8\n",
       "0.438230        8\n",
       "0.445240        8\n",
       "Name: 140, dtype: int64"
      ]
     },
     "execution_count": 7,
     "metadata": {},
     "output_type": "execute_result"
    }
   ],
   "source": [
    "s.value_counts().head(30)"
   ]
  },
  {
   "cell_type": "code",
   "execution_count": null,
   "metadata": {},
   "outputs": [],
   "source": []
  }
 ],
 "metadata": {
  "kernelspec": {
   "display_name": "Python 3",
   "language": "python",
   "name": "python3"
  },
  "language_info": {
   "codemirror_mode": {
    "name": "ipython",
    "version": 3
   },
   "file_extension": ".py",
   "mimetype": "text/x-python",
   "name": "python",
   "nbconvert_exporter": "python",
   "pygments_lexer": "ipython3",
   "version": "3.7.3"
  }
 },
 "nbformat": 4,
 "nbformat_minor": 4
}
