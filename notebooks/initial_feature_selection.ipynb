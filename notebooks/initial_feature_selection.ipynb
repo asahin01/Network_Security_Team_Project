{
 "cells": [
  {
   "cell_type": "markdown",
   "metadata": {},
   "source": [
    "## This notebook uses several third-party libraries.  To install them uncomment the lines in the next cell and run it"
   ]
  },
  {
   "cell_type": "code",
   "execution_count": 25,
   "metadata": {},
   "outputs": [],
   "source": [
    "#!pip install sklearn==0.21.2\n",
    "#!pip install xgboost==0.90\n",
    "#!pip install catboost==0.19.1\n"
   ]
  },
  {
   "cell_type": "code",
   "execution_count": 1,
   "metadata": {},
   "outputs": [],
   "source": [
    "%matplotlib inline\n",
    "\n",
    "import numpy as np\n",
    "import pandas as pd\n",
    "mdata= pd.read_csv('train_imperson_without4n7_balanced_data.csv')\n",
    "X, Y = mdata.loc[:, mdata.columns != '155'], mdata['155']\n",
    "\n",
    "#eliminate features with 0 standard deviation\n",
    "X1_sigma = X.loc[:, (X.std()>0)]"
   ]
  },
  {
   "cell_type": "markdown",
   "metadata": {},
   "source": [
    "# Use Random Forest to get a ranking of the most important features"
   ]
  },
  {
   "cell_type": "code",
   "execution_count": 2,
   "metadata": {},
   "outputs": [
    {
     "name": "stderr",
     "output_type": "stream",
     "text": [
      "/home/dave/anaconda3/lib/python3.7/site-packages/sklearn/ensemble/forest.py:245: FutureWarning: The default value of n_estimators will change from 10 in version 0.20 to 100 in 0.22.\n",
      "  \"10 in version 0.20 to 100 in 0.22.\", FutureWarning)\n"
     ]
    },
    {
     "name": "stdout",
     "output_type": "stream",
     "text": [
      "CPU times: user 1.1 s, sys: 120 ms, total: 1.23 s\n",
      "Wall time: 1.22 s\n"
     ]
    },
    {
     "data": {
      "text/plain": [
       "RandomForestClassifier(bootstrap=True, class_weight=None, criterion='gini',\n",
       "                       max_depth=None, max_features='auto', max_leaf_nodes=None,\n",
       "                       min_impurity_decrease=0.0, min_impurity_split=None,\n",
       "                       min_samples_leaf=1, min_samples_split=2,\n",
       "                       min_weight_fraction_leaf=0.0, n_estimators=10,\n",
       "                       n_jobs=None, oob_score=False, random_state=None,\n",
       "                       verbose=0, warm_start=False)"
      ]
     },
     "execution_count": 2,
     "metadata": {},
     "output_type": "execute_result"
    }
   ],
   "source": [
    "%%time\n",
    "from sklearn.ensemble import RandomForestClassifier\n",
    "\n",
    "forest = RandomForestClassifier()\n",
    "\n",
    "forest.fit(X1_sigma, Y)"
   ]
  },
  {
   "cell_type": "code",
   "execution_count": 33,
   "metadata": {},
   "outputs": [
    {
     "data": {
      "text/plain": [
       "array([1.21773936e-01, 6.74576184e-02, 1.27533858e-02, 3.25055934e-02,\n",
       "       0.00000000e+00, 0.00000000e+00, 0.00000000e+00, 0.00000000e+00,\n",
       "       0.00000000e+00, 0.00000000e+00, 0.00000000e+00, 1.12717330e-01,\n",
       "       0.00000000e+00, 5.11327629e-02, 1.88626154e-07, 1.28414849e-04,\n",
       "       4.23592171e-02, 0.00000000e+00, 1.14271398e-02, 0.00000000e+00,\n",
       "       2.17936612e-03, 1.49888873e-03, 1.21108806e-01, 4.33054528e-02,\n",
       "       1.67185815e-02, 5.45721778e-02, 1.93384693e-05, 1.91449751e-05,\n",
       "       4.85905652e-05, 1.13374263e-01, 2.76903295e-03, 7.75254640e-04,\n",
       "       5.86678622e-02, 2.31780047e-02, 2.37023777e-02, 0.00000000e+00,\n",
       "       0.00000000e+00, 0.00000000e+00, 0.00000000e+00, 0.00000000e+00,\n",
       "       4.89837766e-05, 2.41471259e-03, 2.30145000e-05, 0.00000000e+00,\n",
       "       3.00601885e-04, 0.00000000e+00, 4.06378753e-06, 1.23660008e-06,\n",
       "       5.57234463e-03, 3.23144334e-03, 3.45114464e-05, 1.83193709e-05,\n",
       "       6.93238980e-05, 1.43063228e-04, 0.00000000e+00, 0.00000000e+00,\n",
       "       4.34973477e-03, 5.90496637e-03, 3.41019089e-03, 3.14387779e-10,\n",
       "       2.44441954e-03, 7.22502104e-06, 0.00000000e+00, 7.22399391e-03,\n",
       "       4.47292321e-06, 0.00000000e+00, 8.27123091e-06, 1.69551549e-05,\n",
       "       3.38403706e-06, 0.00000000e+00, 3.12374815e-02, 2.88408058e-05,\n",
       "       1.75234928e-03, 0.00000000e+00, 0.00000000e+00, 0.00000000e+00,\n",
       "       2.38495566e-04, 1.73148707e-02])"
      ]
     },
     "execution_count": 33,
     "metadata": {},
     "output_type": "execute_result"
    }
   ],
   "source": [
    "rf_importance = forest.feature_importances_\n",
    "rf_importance"
   ]
  },
  {
   "cell_type": "markdown",
   "metadata": {},
   "source": [
    "# Rank the features by importance"
   ]
  },
  {
   "cell_type": "code",
   "execution_count": 34,
   "metadata": {},
   "outputs": [
    {
     "data": {
      "text/plain": [
       "[(0.0059049663711367014, 57),\n",
       " (0.0072239939111368974, 63),\n",
       " (0.011427139812082803, 18),\n",
       " (0.012753385828900028, 2),\n",
       " (0.016718581453701524, 24),\n",
       " (0.017314870656399663, 77),\n",
       " (0.023178004703063564, 33),\n",
       " (0.02370237766100005, 34),\n",
       " (0.031237481500813548, 70),\n",
       " (0.03250559343416152, 3),\n",
       " (0.04235921705908447, 16),\n",
       " (0.04330545279612031, 23),\n",
       " (0.05113276294627005, 13),\n",
       " (0.05457217784122165, 25),\n",
       " (0.05866786221888163, 32),\n",
       " (0.06745761842879369, 1),\n",
       " (0.11271733041699825, 11),\n",
       " (0.11337426256843093, 29),\n",
       " (0.12110880583459076, 22),\n",
       " (0.12177393604844935, 0)]"
      ]
     },
     "execution_count": 34,
     "metadata": {},
     "output_type": "execute_result"
    }
   ],
   "source": [
    "rf_ranked = sorted((rating, idx) for (idx, rating) in enumerate(rf_importance))\n",
    "# look at the 20 most important features\n",
    "rf_ranked[-20:]"
   ]
  },
  {
   "cell_type": "markdown",
   "metadata": {},
   "source": [
    "I notice the rating are not stable - if you run the last three code cells multiple times the order and rating change quite a bit.  Lets try running it a few times and plot the importance it assigns to each feature."
   ]
  },
  {
   "cell_type": "code",
   "execution_count": 3,
   "metadata": {},
   "outputs": [
    {
     "data": {
      "text/html": [
       "<div>\n",
       "<style scoped>\n",
       "    .dataframe tbody tr th:only-of-type {\n",
       "        vertical-align: middle;\n",
       "    }\n",
       "\n",
       "    .dataframe tbody tr th {\n",
       "        vertical-align: top;\n",
       "    }\n",
       "\n",
       "    .dataframe thead th {\n",
       "        text-align: right;\n",
       "    }\n",
       "</style>\n",
       "<table border=\"1\" class=\"dataframe\">\n",
       "  <thead>\n",
       "    <tr style=\"text-align: right;\">\n",
       "      <th></th>\n",
       "      <th>0</th>\n",
       "      <th>1</th>\n",
       "      <th>2</th>\n",
       "      <th>3</th>\n",
       "      <th>4</th>\n",
       "      <th>5</th>\n",
       "      <th>6</th>\n",
       "      <th>7</th>\n",
       "      <th>8</th>\n",
       "      <th>9</th>\n",
       "      <th>...</th>\n",
       "      <th>68</th>\n",
       "      <th>69</th>\n",
       "      <th>70</th>\n",
       "      <th>71</th>\n",
       "      <th>72</th>\n",
       "      <th>73</th>\n",
       "      <th>74</th>\n",
       "      <th>75</th>\n",
       "      <th>76</th>\n",
       "      <th>77</th>\n",
       "    </tr>\n",
       "  </thead>\n",
       "  <tbody>\n",
       "    <tr>\n",
       "      <th>0</th>\n",
       "      <td>0.008057</td>\n",
       "      <td>0.174389</td>\n",
       "      <td>0.080668</td>\n",
       "      <td>0.011833</td>\n",
       "      <td>0.0</td>\n",
       "      <td>0.000000</td>\n",
       "      <td>0.0</td>\n",
       "      <td>0.0</td>\n",
       "      <td>0.000037</td>\n",
       "      <td>0.0</td>\n",
       "      <td>...</td>\n",
       "      <td>0.0</td>\n",
       "      <td>0.000000</td>\n",
       "      <td>0.003167</td>\n",
       "      <td>0.000000</td>\n",
       "      <td>0.043690</td>\n",
       "      <td>0.0</td>\n",
       "      <td>0.000000e+00</td>\n",
       "      <td>0.000000e+00</td>\n",
       "      <td>3.582471e-10</td>\n",
       "      <td>0.018070</td>\n",
       "    </tr>\n",
       "    <tr>\n",
       "      <th>1</th>\n",
       "      <td>0.001539</td>\n",
       "      <td>0.076883</td>\n",
       "      <td>0.083852</td>\n",
       "      <td>0.073197</td>\n",
       "      <td>0.0</td>\n",
       "      <td>0.000000</td>\n",
       "      <td>0.0</td>\n",
       "      <td>0.0</td>\n",
       "      <td>0.000000</td>\n",
       "      <td>0.0</td>\n",
       "      <td>...</td>\n",
       "      <td>0.0</td>\n",
       "      <td>0.000000</td>\n",
       "      <td>0.005463</td>\n",
       "      <td>0.000009</td>\n",
       "      <td>0.007482</td>\n",
       "      <td>0.0</td>\n",
       "      <td>2.558964e-08</td>\n",
       "      <td>3.933845e-06</td>\n",
       "      <td>0.000000e+00</td>\n",
       "      <td>0.035788</td>\n",
       "    </tr>\n",
       "    <tr>\n",
       "      <th>2</th>\n",
       "      <td>0.020940</td>\n",
       "      <td>0.014817</td>\n",
       "      <td>0.015478</td>\n",
       "      <td>0.159992</td>\n",
       "      <td>0.0</td>\n",
       "      <td>0.000000</td>\n",
       "      <td>0.0</td>\n",
       "      <td>0.0</td>\n",
       "      <td>0.000000</td>\n",
       "      <td>0.0</td>\n",
       "      <td>...</td>\n",
       "      <td>0.0</td>\n",
       "      <td>0.000000</td>\n",
       "      <td>0.069573</td>\n",
       "      <td>0.000000</td>\n",
       "      <td>0.009288</td>\n",
       "      <td>0.0</td>\n",
       "      <td>0.000000e+00</td>\n",
       "      <td>4.737752e-06</td>\n",
       "      <td>0.000000e+00</td>\n",
       "      <td>0.040307</td>\n",
       "    </tr>\n",
       "    <tr>\n",
       "      <th>3</th>\n",
       "      <td>0.010762</td>\n",
       "      <td>0.059432</td>\n",
       "      <td>0.064684</td>\n",
       "      <td>0.015261</td>\n",
       "      <td>0.0</td>\n",
       "      <td>0.000000</td>\n",
       "      <td>0.0</td>\n",
       "      <td>0.0</td>\n",
       "      <td>0.000003</td>\n",
       "      <td>0.0</td>\n",
       "      <td>...</td>\n",
       "      <td>0.0</td>\n",
       "      <td>0.000000</td>\n",
       "      <td>0.000322</td>\n",
       "      <td>0.000000</td>\n",
       "      <td>0.034341</td>\n",
       "      <td>0.0</td>\n",
       "      <td>7.161936e-07</td>\n",
       "      <td>8.587218e-08</td>\n",
       "      <td>1.224729e-07</td>\n",
       "      <td>0.089386</td>\n",
       "    </tr>\n",
       "    <tr>\n",
       "      <th>4</th>\n",
       "      <td>0.004833</td>\n",
       "      <td>0.011585</td>\n",
       "      <td>0.015489</td>\n",
       "      <td>0.022628</td>\n",
       "      <td>0.0</td>\n",
       "      <td>0.000089</td>\n",
       "      <td>0.0</td>\n",
       "      <td>0.0</td>\n",
       "      <td>0.000000</td>\n",
       "      <td>0.0</td>\n",
       "      <td>...</td>\n",
       "      <td>0.0</td>\n",
       "      <td>0.000001</td>\n",
       "      <td>0.016318</td>\n",
       "      <td>0.000006</td>\n",
       "      <td>0.000987</td>\n",
       "      <td>0.0</td>\n",
       "      <td>0.000000e+00</td>\n",
       "      <td>0.000000e+00</td>\n",
       "      <td>0.000000e+00</td>\n",
       "      <td>0.011556</td>\n",
       "    </tr>\n",
       "  </tbody>\n",
       "</table>\n",
       "<p>5 rows × 78 columns</p>\n",
       "</div>"
      ],
      "text/plain": [
       "         0         1         2         3    4         5    6    7         8   \\\n",
       "0  0.008057  0.174389  0.080668  0.011833  0.0  0.000000  0.0  0.0  0.000037   \n",
       "1  0.001539  0.076883  0.083852  0.073197  0.0  0.000000  0.0  0.0  0.000000   \n",
       "2  0.020940  0.014817  0.015478  0.159992  0.0  0.000000  0.0  0.0  0.000000   \n",
       "3  0.010762  0.059432  0.064684  0.015261  0.0  0.000000  0.0  0.0  0.000003   \n",
       "4  0.004833  0.011585  0.015489  0.022628  0.0  0.000089  0.0  0.0  0.000000   \n",
       "\n",
       "    9   ...   68        69        70        71        72   73            74  \\\n",
       "0  0.0  ...  0.0  0.000000  0.003167  0.000000  0.043690  0.0  0.000000e+00   \n",
       "1  0.0  ...  0.0  0.000000  0.005463  0.000009  0.007482  0.0  2.558964e-08   \n",
       "2  0.0  ...  0.0  0.000000  0.069573  0.000000  0.009288  0.0  0.000000e+00   \n",
       "3  0.0  ...  0.0  0.000000  0.000322  0.000000  0.034341  0.0  7.161936e-07   \n",
       "4  0.0  ...  0.0  0.000001  0.016318  0.000006  0.000987  0.0  0.000000e+00   \n",
       "\n",
       "             75            76        77  \n",
       "0  0.000000e+00  3.582471e-10  0.018070  \n",
       "1  3.933845e-06  0.000000e+00  0.035788  \n",
       "2  4.737752e-06  0.000000e+00  0.040307  \n",
       "3  8.587218e-08  1.224729e-07  0.089386  \n",
       "4  0.000000e+00  0.000000e+00  0.011556  \n",
       "\n",
       "[5 rows x 78 columns]"
      ]
     },
     "execution_count": 3,
     "metadata": {},
     "output_type": "execute_result"
    }
   ],
   "source": [
    "importances = []\n",
    "for _ in range(10):\n",
    "    forest.fit(X1_sigma, Y)\n",
    "    importances.append(forest.feature_importances_)\n",
    "df = pd.DataFrame(importances)\n",
    "df.head()\n",
    "    "
   ]
  },
  {
   "cell_type": "markdown",
   "metadata": {},
   "source": [
    "We can see how much the feature importance varies by plotting the importance for each feature across ten runs:"
   ]
  },
  {
   "cell_type": "code",
   "execution_count": 43,
   "metadata": {},
   "outputs": [
    {
     "data": {
      "text/plain": [
       "<matplotlib.axes._subplots.AxesSubplot at 0x7f0ac3332550>"
      ]
     },
     "execution_count": 43,
     "metadata": {},
     "output_type": "execute_result"
    },
    {
     "data": {
      "image/png": "[encoded data removed]",
      "text/plain": [
       "<Figure size 432x288 with 1 Axes>"
      ]
     },
     "metadata": {
      "needs_background": "light"
     },
     "output_type": "display_data"
    }
   ],
   "source": [
    "df.plot(legend=False)"
   ]
  },
  {
   "cell_type": "markdown",
   "metadata": {},
   "source": [
    "Another way that makes the variation clearer is to plot how much each of the feature importances varies using a boxplot:"
   ]
  },
  {
   "cell_type": "code",
   "execution_count": 8,
   "metadata": {},
   "outputs": [
    {
     "data": {
      "text/plain": [
       "<matplotlib.axes._subplots.AxesSubplot at 0x7f3ebe49b320>"
      ]
     },
     "execution_count": 8,
     "metadata": {},
     "output_type": "execute_result"
    },
    {
     "data": {
      "image/png": "[encoded data removed]",
      "text/plain": [
       "<Figure size 1440x720 with 1 Axes>"
      ]
     },
     "metadata": {
      "needs_background": "light"
     },
     "output_type": "display_data"
    }
   ],
   "source": [
    "from matplotlib import pyplot as plt\n",
    "fig, ax = plt.subplots(figsize=(20,10))\n",
    "ax.set_title(\"Variation of RF column importance over 10 runs\")\n",
    "ax.set_xlabel(\"Column Number\")\n",
    "ax.set_ylabel(\"Importance\")\n",
    "df.boxplot(grid=False, whis=1000., ax=ax)"
   ]
  },
  {
   "cell_type": "markdown",
   "metadata": {},
   "source": [
    "Clearly some features have very little importance but for the remainder the relative importance varies hugely from run to run due to the random nature of Random Forests."
   ]
  },
  {
   "cell_type": "markdown",
   "metadata": {},
   "source": [
    "# Using xgboost to get the feature importance"
   ]
  },
  {
   "cell_type": "code",
   "execution_count": 13,
   "metadata": {},
   "outputs": [],
   "source": [
    "%%time\n",
    "from xgboost import XGBClassifier\n",
    "xgb = XGBClassifier()\n",
    "\n",
    "xgb.fit(X1_sigma, Y)"
   ]
  },
  {
   "cell_type": "code",
   "execution_count": 35,
   "metadata": {},
   "outputs": [
    {
     "data": {
      "text/plain": [
       "array([4.7329403e-03, 0.0000000e+00, 8.9810267e-03, 0.0000000e+00,\n",
       "       0.0000000e+00, 0.0000000e+00, 0.0000000e+00, 0.0000000e+00,\n",
       "       0.0000000e+00, 0.0000000e+00, 0.0000000e+00, 2.1276930e-02,\n",
       "       0.0000000e+00, 1.7434136e-03, 0.0000000e+00, 0.0000000e+00,\n",
       "       0.0000000e+00, 0.0000000e+00, 3.0411058e-03, 0.0000000e+00,\n",
       "       2.4640295e-03, 0.0000000e+00, 6.2512726e-01, 0.0000000e+00,\n",
       "       0.0000000e+00, 5.1427062e-04, 0.0000000e+00, 0.0000000e+00,\n",
       "       7.4304739e-04, 2.0335531e-01, 4.0172166e-04, 4.7231920e-04,\n",
       "       1.4258807e-03, 0.0000000e+00, 2.3888556e-02, 0.0000000e+00,\n",
       "       0.0000000e+00, 0.0000000e+00, 0.0000000e+00, 0.0000000e+00,\n",
       "       0.0000000e+00, 0.0000000e+00, 0.0000000e+00, 0.0000000e+00,\n",
       "       1.9602317e-03, 0.0000000e+00, 0.0000000e+00, 0.0000000e+00,\n",
       "       1.5265194e-02, 1.6785092e-03, 0.0000000e+00, 0.0000000e+00,\n",
       "       1.0695638e-03, 2.6311394e-04, 0.0000000e+00, 0.0000000e+00,\n",
       "       2.8898872e-03, 7.1290687e-02, 0.0000000e+00, 0.0000000e+00,\n",
       "       0.0000000e+00, 0.0000000e+00, 0.0000000e+00, 0.0000000e+00,\n",
       "       0.0000000e+00, 0.0000000e+00, 0.0000000e+00, 0.0000000e+00,\n",
       "       0.0000000e+00, 0.0000000e+00, 0.0000000e+00, 0.0000000e+00,\n",
       "       7.4149747e-03, 0.0000000e+00, 0.0000000e+00, 0.0000000e+00,\n",
       "       0.0000000e+00, 0.0000000e+00], dtype=float32)"
      ]
     },
     "execution_count": 35,
     "metadata": {},
     "output_type": "execute_result"
    }
   ],
   "source": [
    "xg_importance = xgb.feature_importances_\n",
    "xg_importance"
   ]
  },
  {
   "cell_type": "markdown",
   "metadata": {},
   "source": [
    "Notes:  xgboost normalises the importance values so that they sum up to 1.  Also most of the features have an importance of zero and are completely rejected by XGB."
   ]
  },
  {
   "cell_type": "code",
   "execution_count": 36,
   "metadata": {},
   "outputs": [
    {
     "data": {
      "text/plain": [
       "[(0.0004723192, 31),\n",
       " (0.0005142706, 25),\n",
       " (0.0007430474, 28),\n",
       " (0.0010695638, 52),\n",
       " (0.0014258807, 32),\n",
       " (0.0016785092, 49),\n",
       " (0.0017434136, 13),\n",
       " (0.0019602317, 44),\n",
       " (0.0024640295, 20),\n",
       " (0.0028898872, 56),\n",
       " (0.0030411058, 18),\n",
       " (0.0047329403, 0),\n",
       " (0.0074149747, 72),\n",
       " (0.008981027, 2),\n",
       " (0.015265194, 48),\n",
       " (0.02127693, 11),\n",
       " (0.023888556, 34),\n",
       " (0.07129069, 57),\n",
       " (0.20335531, 29),\n",
       " (0.62512726, 22)]"
      ]
     },
     "execution_count": 36,
     "metadata": {},
     "output_type": "execute_result"
    }
   ],
   "source": [
    "xg_ranked = sorted((rating, idx) for (idx, rating) in enumerate(importance))\n",
    "# look at the 20 most important features\n",
    "xg_ranked[-20:]"
   ]
  },
  {
   "cell_type": "code",
   "execution_count": 37,
   "metadata": {},
   "outputs": [
    {
     "data": {
      "text/plain": [
       "array([0.62512726, 0.82848257, 0.89977324, 0.92366177, 0.9449387 ,\n",
       "       0.9602039 , 0.96918494, 0.97659993, 0.9813329 , 0.984374  ,\n",
       "       0.98726386, 0.9897279 , 0.99168813, 0.99343157, 0.9951101 ,\n",
       "       0.99653596, 0.9976055 , 0.99834853, 0.9988628 , 0.9993351 ,\n",
       "       0.99973685, 0.99999994, 0.99999994, 0.99999994, 0.99999994,\n",
       "       0.99999994, 0.99999994, 0.99999994, 0.99999994, 0.99999994,\n",
       "       0.99999994, 0.99999994, 0.99999994, 0.99999994, 0.99999994,\n",
       "       0.99999994, 0.99999994, 0.99999994, 0.99999994, 0.99999994,\n",
       "       0.99999994, 0.99999994, 0.99999994, 0.99999994, 0.99999994,\n",
       "       0.99999994, 0.99999994, 0.99999994, 0.99999994, 0.99999994,\n",
       "       0.99999994, 0.99999994, 0.99999994, 0.99999994, 0.99999994,\n",
       "       0.99999994, 0.99999994, 0.99999994, 0.99999994, 0.99999994,\n",
       "       0.99999994, 0.99999994, 0.99999994, 0.99999994, 0.99999994,\n",
       "       0.99999994, 0.99999994, 0.99999994, 0.99999994, 0.99999994,\n",
       "       0.99999994, 0.99999994, 0.99999994, 0.99999994, 0.99999994,\n",
       "       0.99999994, 0.99999994, 0.99999994], dtype=float32)"
      ]
     },
     "execution_count": 37,
     "metadata": {},
     "output_type": "execute_result"
    }
   ],
   "source": [
    "np.array([x[0] for x in reversed(xg_ranked)]).cumsum()"
   ]
  },
  {
   "cell_type": "code",
   "execution_count": 15,
   "metadata": {},
   "outputs": [
    {
     "data": {
      "text/plain": [
       "<matplotlib.axes._subplots.AxesSubplot at 0x7f0ae62275f8>"
      ]
     },
     "execution_count": 15,
     "metadata": {},
     "output_type": "execute_result"
    },
    {
     "data": {
      "image/png": "[encoded data removed]",
      "text/plain": [
       "<Figure size 432x288 with 1 Axes>"
      ]
     },
     "metadata": {
      "needs_background": "light"
     },
     "output_type": "display_data"
    }
   ],
   "source": [
    "importances = []\n",
    "for _ in range(10):\n",
    "    xgb = XGBClassifier()\n",
    "    xgb.fit(X1_sigma, Y)\n",
    "    importances.append(xgb.feature_importances_)\n",
    "df = pd.DataFrame(importances)\n",
    "df.plot(legend=False)"
   ]
  },
  {
   "cell_type": "markdown",
   "metadata": {},
   "source": [
    "Clearly XGBoost is much more consistent and opinionated."
   ]
  },
  {
   "cell_type": "markdown",
   "metadata": {},
   "source": [
    "# Feature Importance with Catboost"
   ]
  },
  {
   "cell_type": "code",
   "execution_count": 16,
   "metadata": {},
   "outputs": [],
   "source": [
    "from catboost import CatBoostClassifier\n",
    "cb = CatBoostClassifier()"
   ]
  },
  {
   "cell_type": "code",
   "execution_count": 18,
   "metadata": {},
   "outputs": [
    {
     "name": "stdout",
     "output_type": "stream",
     "text": [
      "Learning rate set to 0.061156\n",
      "0:\tlearn: 0.5237915\ttotal: 30.2ms\tremaining: 30.2s\n",
      "100:\tlearn: 0.0003742\ttotal: 2.6s\tremaining: 23.1s\n",
      "200:\tlearn: 0.0002458\ttotal: 4.95s\tremaining: 19.7s\n",
      "300:\tlearn: 0.0002417\ttotal: 7.21s\tremaining: 16.7s\n",
      "400:\tlearn: 0.0002413\ttotal: 9.33s\tremaining: 13.9s\n",
      "500:\tlearn: 0.0002413\ttotal: 11.4s\tremaining: 11.4s\n",
      "600:\tlearn: 0.0002413\ttotal: 13.5s\tremaining: 8.96s\n",
      "700:\tlearn: 0.0002413\ttotal: 15.6s\tremaining: 6.65s\n",
      "800:\tlearn: 0.0002413\ttotal: 17.7s\tremaining: 4.39s\n",
      "900:\tlearn: 0.0002413\ttotal: 19.8s\tremaining: 2.17s\n",
      "999:\tlearn: 0.0002413\ttotal: 21.8s\tremaining: 0us\n",
      "CPU times: user 2min 45s, sys: 6.44 s, total: 2min 51s\n",
      "Wall time: 23.1 s\n"
     ]
    },
    {
     "data": {
      "text/plain": [
       "<catboost.core.CatBoostClassifier at 0x7f0ac4710be0>"
      ]
     },
     "execution_count": 18,
     "metadata": {},
     "output_type": "execute_result"
    }
   ],
   "source": [
    "%%time \n",
    "cb.fit(X1_sigma, Y, verbose=100)"
   ]
  },
  {
   "cell_type": "code",
   "execution_count": 53,
   "metadata": {},
   "outputs": [
    {
     "data": {
      "text/plain": [
       "array([1.18430010e+00, 1.14742527e+00, 3.39528732e+00, 4.21509614e+00,\n",
       "       0.00000000e+00, 0.00000000e+00, 0.00000000e+00, 0.00000000e+00,\n",
       "       0.00000000e+00, 0.00000000e+00, 0.00000000e+00, 3.07372845e+01,\n",
       "       0.00000000e+00, 4.99256200e-02, 0.00000000e+00, 2.80171153e-02,\n",
       "       1.50692376e-02, 0.00000000e+00, 2.66639475e+00, 0.00000000e+00,\n",
       "       4.67656710e-01, 0.00000000e+00, 2.21440580e+01, 0.00000000e+00,\n",
       "       0.00000000e+00, 0.00000000e+00, 8.43731181e-05, 0.00000000e+00,\n",
       "       3.10907694e-02, 1.00211719e+01, 8.59017031e-01, 4.30230428e-01,\n",
       "       1.76564068e+00, 1.76390195e+00, 5.38597299e+00, 0.00000000e+00,\n",
       "       0.00000000e+00, 0.00000000e+00, 0.00000000e+00, 0.00000000e+00,\n",
       "       0.00000000e+00, 7.68228173e-02, 1.73180901e-01, 0.00000000e+00,\n",
       "       3.41893686e-02, 0.00000000e+00, 0.00000000e+00, 1.05503739e-04,\n",
       "       2.69208110e+00, 2.57220819e-01, 1.33463605e-02, 0.00000000e+00,\n",
       "       3.46336534e-02, 8.35212037e-02, 0.00000000e+00, 0.00000000e+00,\n",
       "       0.00000000e+00, 7.83041873e+00, 1.25920954e-02, 0.00000000e+00,\n",
       "       0.00000000e+00, 0.00000000e+00, 0.00000000e+00, 0.00000000e+00,\n",
       "       0.00000000e+00, 0.00000000e+00, 0.00000000e+00, 0.00000000e+00,\n",
       "       0.00000000e+00, 0.00000000e+00, 5.08903431e-01, 0.00000000e+00,\n",
       "       1.77428343e+00, 0.00000000e+00, 0.00000000e+00, 0.00000000e+00,\n",
       "       0.00000000e+00, 2.01075640e-01])"
      ]
     },
     "execution_count": 53,
     "metadata": {},
     "output_type": "execute_result"
    }
   ],
   "source": [
    "cb_importance = cb.get_feature_importance()\n",
    "cb_importance"
   ]
  },
  {
   "cell_type": "code",
   "execution_count": 54,
   "metadata": {},
   "outputs": [
    {
     "data": {
      "text/plain": [
       "[(0.20107563990257385, 77),\n",
       " (0.2572208193324662, 49),\n",
       " (0.4302304280925102, 31),\n",
       " (0.46765671017600735, 20),\n",
       " (0.5089034308958107, 70),\n",
       " (0.8590170314474369, 30),\n",
       " (1.1474252661338882, 1),\n",
       " (1.184300100425819, 0),\n",
       " (1.763901945568504, 33),\n",
       " (1.7656406752657117, 32),\n",
       " (1.77428342770122, 72),\n",
       " (2.6663947507615036, 18),\n",
       " (2.6920810952842076, 48),\n",
       " (3.3952873186498995, 2),\n",
       " (4.2150961419053825, 3),\n",
       " (5.385972985838783, 34),\n",
       " (7.830418729096104, 57),\n",
       " (10.021171940679691, 29),\n",
       " (22.14405802336696, 22),\n",
       " (30.7372845201552, 11)]"
      ]
     },
     "execution_count": 54,
     "metadata": {},
     "output_type": "execute_result"
    }
   ],
   "source": [
    "cb_ranked = sorted((rating, idx) for (idx, rating) in enumerate(cb_importance))\n",
    "# look at the 20 most important features\n",
    "cb_ranked[-20:]"
   ]
  },
  {
   "cell_type": "markdown",
   "metadata": {},
   "source": [
    "N.B. The feature importances from CatBoost are weighted to sum to 100 instead of 1."
   ]
  },
  {
   "cell_type": "code",
   "execution_count": 23,
   "metadata": {},
   "outputs": [
    {
     "name": "stdout",
     "output_type": "stream",
     "text": [
      "Learning rate set to 0.061156\n",
      "0:\tlearn: 0.5237915\ttotal: 32.6ms\tremaining: 32.6s\n",
      "500:\tlearn: 0.0002413\ttotal: 11.4s\tremaining: 11.3s\n",
      "999:\tlearn: 0.0002413\ttotal: 21.8s\tremaining: 0us\n",
      "Learning rate set to 0.061156\n",
      "0:\tlearn: 0.5237915\ttotal: 32.3ms\tremaining: 32.3s\n",
      "500:\tlearn: 0.0002413\ttotal: 11.3s\tremaining: 11.3s\n",
      "999:\tlearn: 0.0002413\ttotal: 21.6s\tremaining: 0us\n",
      "Learning rate set to 0.061156\n",
      "0:\tlearn: 0.5237915\ttotal: 34.5ms\tremaining: 34.4s\n",
      "500:\tlearn: 0.0002413\ttotal: 11.5s\tremaining: 11.5s\n",
      "999:\tlearn: 0.0002413\ttotal: 22s\tremaining: 0us\n",
      "Learning rate set to 0.061156\n",
      "0:\tlearn: 0.5237915\ttotal: 35.7ms\tremaining: 35.6s\n",
      "500:\tlearn: 0.0002413\ttotal: 15.1s\tremaining: 15s\n",
      "999:\tlearn: 0.0002413\ttotal: 25.8s\tremaining: 0us\n",
      "Learning rate set to 0.061156\n",
      "0:\tlearn: 0.5237915\ttotal: 32.2ms\tremaining: 32.1s\n",
      "500:\tlearn: 0.0002413\ttotal: 12s\tremaining: 11.9s\n",
      "999:\tlearn: 0.0002413\ttotal: 23.2s\tremaining: 0us\n",
      "Learning rate set to 0.061156\n",
      "0:\tlearn: 0.5237915\ttotal: 37.7ms\tremaining: 37.7s\n",
      "500:\tlearn: 0.0002413\ttotal: 12.2s\tremaining: 12.2s\n",
      "999:\tlearn: 0.0002413\ttotal: 23.4s\tremaining: 0us\n",
      "Learning rate set to 0.061156\n",
      "0:\tlearn: 0.5237915\ttotal: 32.3ms\tremaining: 32.3s\n",
      "500:\tlearn: 0.0002413\ttotal: 12.3s\tremaining: 12.3s\n",
      "999:\tlearn: 0.0002413\ttotal: 23.5s\tremaining: 0us\n",
      "Learning rate set to 0.061156\n",
      "0:\tlearn: 0.5237915\ttotal: 33.6ms\tremaining: 33.6s\n",
      "500:\tlearn: 0.0002413\ttotal: 12.4s\tremaining: 12.4s\n",
      "999:\tlearn: 0.0002413\ttotal: 23.8s\tremaining: 0us\n",
      "Learning rate set to 0.061156\n",
      "0:\tlearn: 0.5237915\ttotal: 33.5ms\tremaining: 33.5s\n",
      "500:\tlearn: 0.0002413\ttotal: 12.3s\tremaining: 12.3s\n",
      "999:\tlearn: 0.0002413\ttotal: 23.4s\tremaining: 0us\n",
      "Learning rate set to 0.061156\n",
      "0:\tlearn: 0.5237915\ttotal: 50.3ms\tremaining: 50.2s\n",
      "500:\tlearn: 0.0002413\ttotal: 12.3s\tremaining: 12.3s\n",
      "999:\tlearn: 0.0002413\ttotal: 23.5s\tremaining: 0us\n"
     ]
    },
    {
     "data": {
      "text/plain": [
       "<matplotlib.axes._subplots.AxesSubplot at 0x7f0ac35d7d68>"
      ]
     },
     "execution_count": 23,
     "metadata": {},
     "output_type": "execute_result"
    },
    {
     "data": {
      "image/png": "[encoded data removed]",
      "text/plain": [
       "<Figure size 432x288 with 1 Axes>"
      ]
     },
     "metadata": {
      "needs_background": "light"
     },
     "output_type": "display_data"
    }
   ],
   "source": [
    "importances = []\n",
    "for _ in range(10):\n",
    "    cb = CatBoostClassifier()\n",
    "    cb.fit(X1_sigma, Y, verbose=500)\n",
    "    importances.append(cb.get_feature_importance())\n",
    "df = pd.DataFrame(importances)\n",
    "df.plot(legend=False)"
   ]
  },
  {
   "cell_type": "markdown",
   "metadata": {},
   "source": [
    "As we can see, CatBoost is as consistent as XGBoost, although it gives somewhat different weights to the features."
   ]
  },
  {
   "cell_type": "code",
   "execution_count": 40,
   "metadata": {},
   "outputs": [
    {
     "data": {
      "text/plain": [
       "array([0.62512726, 0.82848257, 0.89977324, 0.92366177, 0.9449387 ,\n",
       "       0.9602039 , 0.96918494, 0.97659993, 0.9813329 , 0.984374  ,\n",
       "       0.98726386, 0.9897279 , 0.99168813, 0.99343157, 0.9951101 ,\n",
       "       0.99653596, 0.9976055 , 0.99834853, 0.9988628 , 0.9993351 ,\n",
       "       0.99973685, 0.99999994, 0.99999994, 0.99999994, 0.99999994,\n",
       "       0.99999994, 0.99999994, 0.99999994, 0.99999994, 0.99999994,\n",
       "       0.99999994, 0.99999994, 0.99999994, 0.99999994, 0.99999994,\n",
       "       0.99999994, 0.99999994, 0.99999994, 0.99999994, 0.99999994,\n",
       "       0.99999994, 0.99999994, 0.99999994, 0.99999994, 0.99999994,\n",
       "       0.99999994, 0.99999994, 0.99999994, 0.99999994, 0.99999994,\n",
       "       0.99999994, 0.99999994, 0.99999994, 0.99999994, 0.99999994,\n",
       "       0.99999994, 0.99999994, 0.99999994, 0.99999994, 0.99999994,\n",
       "       0.99999994, 0.99999994, 0.99999994, 0.99999994, 0.99999994,\n",
       "       0.99999994, 0.99999994, 0.99999994, 0.99999994, 0.99999994,\n",
       "       0.99999994, 0.99999994, 0.99999994, 0.99999994, 0.99999994,\n",
       "       0.99999994, 0.99999994, 0.99999994], dtype=float32)"
      ]
     },
     "execution_count": 40,
     "metadata": {},
     "output_type": "execute_result"
    }
   ],
   "source": [
    "np.array([x[0] for x in reversed(cb_ranked)]).cumsum()"
   ]
  },
  {
   "cell_type": "code",
   "execution_count": 55,
   "metadata": {},
   "outputs": [
    {
     "name": "stdout",
     "output_type": "stream",
     "text": [
      "RF: [57, 63, 18, 2, 24, 77, 33, 34, 70, 3, 16, 23, 13, 25, 32, 1, 11, 29, 22, 0]\n",
      "xgboost: [31, 25, 28, 52, 32, 49, 13, 44, 20, 56, 18, 0, 72, 2, 48, 11, 34, 57, 29, 22]\n",
      "catboost: [77, 49, 31, 20, 70, 30, 1, 0, 33, 32, 72, 18, 48, 2, 3, 34, 57, 29, 22, 11]\n",
      "Intersection: {0, 32, 2, 34, 11, 18, 22, 57, 29}\n"
     ]
    }
   ],
   "source": [
    "def top20(ranked):\n",
    "    return [x[1] for x in ranked[-20:]]\n",
    "\n",
    "print(\"RF:\", top20(rf_ranked))\n",
    "print(\"xgboost:\", top20(xg_ranked))\n",
    "print(\"catboost:\", top20(cb_ranked))\n",
    "\n",
    "print(\"Intersection:\", set(top20(rf_ranked)).intersection(top20(xg_ranked)).intersection(top20(cb_ranked)))"
   ]
  },
  {
   "cell_type": "code",
   "execution_count": 57,
   "metadata": {},
   "outputs": [
    {
     "name": "stdout",
     "output_type": "stream",
     "text": [
      "XGBoost and CatBoost Intersection: {0, 32, 2, 34, 72, 11, 48, 49, 18, 20, 22, 57, 29, 31}\n"
     ]
    }
   ],
   "source": [
    "selected_features = set(top20(xg_ranked)).intersection(top20(cb_ranked))\n",
    "print(\"XGBoost and CatBoost Intersection:\", selected_features)"
   ]
  },
  {
   "cell_type": "markdown",
   "metadata": {},
   "source": [
    "## Since the Random Forest feature importance rating is so unstable, for the next section we will use the features that both CatBoost and XGBoost both consider important"
   ]
  },
  {
   "cell_type": "markdown",
   "metadata": {},
   "source": [
    "# Evaluating the models on the subset of features"
   ]
  },
  {
   "cell_type": "code",
   "execution_count": 18,
   "metadata": {},
   "outputs": [],
   "source": [
    "from sklearn.model_selection import cross_validate\n",
    "\n",
    "X_top_features = X1_sigma.iloc[:, list(selected_features)]\n",
    "\n",
    "# shuffle the rows\n",
    "from numpy import random, arange\n",
    "indexes =  arange(Y.shape[0])\n",
    "numpy.random.shuffle(indexes)\n",
    "X_cv = X_top_features.iloc[indexes,:]\n",
    "Y_cv = Y.iloc[indexes]\n"
   ]
  },
  {
   "cell_type": "code",
   "execution_count": 21,
   "metadata": {},
   "outputs": [
    {
     "name": "stderr",
     "output_type": "stream",
     "text": [
      "/home/dave/anaconda3/lib/python3.7/site-packages/sklearn/ensemble/forest.py:245: FutureWarning: The default value of n_estimators will change from 10 in version 0.20 to 100 in 0.22.\n",
      "  \"10 in version 0.20 to 100 in 0.22.\", FutureWarning)\n",
      "/home/dave/anaconda3/lib/python3.7/site-packages/sklearn/ensemble/forest.py:245: FutureWarning: The default value of n_estimators will change from 10 in version 0.20 to 100 in 0.22.\n",
      "  \"10 in version 0.20 to 100 in 0.22.\", FutureWarning)\n",
      "/home/dave/anaconda3/lib/python3.7/site-packages/sklearn/ensemble/forest.py:245: FutureWarning: The default value of n_estimators will change from 10 in version 0.20 to 100 in 0.22.\n",
      "  \"10 in version 0.20 to 100 in 0.22.\", FutureWarning)\n",
      "/home/dave/anaconda3/lib/python3.7/site-packages/sklearn/ensemble/forest.py:245: FutureWarning: The default value of n_estimators will change from 10 in version 0.20 to 100 in 0.22.\n",
      "  \"10 in version 0.20 to 100 in 0.22.\", FutureWarning)\n",
      "/home/dave/anaconda3/lib/python3.7/site-packages/sklearn/ensemble/forest.py:245: FutureWarning: The default value of n_estimators will change from 10 in version 0.20 to 100 in 0.22.\n",
      "  \"10 in version 0.20 to 100 in 0.22.\", FutureWarning)\n"
     ]
    },
    {
     "data": {
      "text/plain": [
       "{'fit_time': array([0.46078181, 0.41081405, 0.42314792, 0.42004848, 0.42713404]),\n",
       " 'score_time': array([0.01698518, 0.01703095, 0.01725793, 0.01659465, 0.01717067]),\n",
       " 'test_score': array([0.99989696, 0.99994848, 0.99963932, 0.99994847, 0.9997939 ])}"
      ]
     },
     "execution_count": 21,
     "metadata": {},
     "output_type": "execute_result"
    }
   ],
   "source": [
    "rf = RandomForestClassifier()\n",
    "rf_cv = cross_validate(rf, X_cv, Y_cv, cv=5, scoring=\"accuracy\")\n",
    "rf_cv"
   ]
  },
  {
   "cell_type": "code",
   "execution_count": 22,
   "metadata": {},
   "outputs": [
    {
     "data": {
      "text/plain": [
       "{'fit_time': array([4.75142622, 4.72674131, 4.71258163, 4.68719816, 4.67803741]),\n",
       " 'score_time': array([0.06090856, 0.0629797 , 0.06166697, 0.06219172, 0.06117797]),\n",
       " 'test_score': array([0.99984544, 0.99989696, 0.9997939 , 1.        , 0.99989695])}"
      ]
     },
     "execution_count": 22,
     "metadata": {},
     "output_type": "execute_result"
    }
   ],
   "source": [
    "gb = XGBClassifier(verbosity=0)\n",
    "gb_cv = cross_validate(gb, X_cv, Y_cv, cv=5, scoring=\"accuracy\")\n",
    "gb_cv"
   ]
  },
  {
   "cell_type": "code",
   "execution_count": 23,
   "metadata": {},
   "outputs": [
    {
     "data": {
      "text/plain": [
       "{'fit_time': array([18.94923472, 18.61247683, 19.04682803, 19.1216433 , 20.23271918]),\n",
       " 'score_time': array([0.01401782, 0.01227093, 0.01484036, 0.01412797, 0.01279759]),\n",
       " 'test_score': array([1.        , 1.        , 0.99989695, 1.        , 0.99994847])}"
      ]
     },
     "execution_count": 23,
     "metadata": {},
     "output_type": "execute_result"
    }
   ],
   "source": [
    "cb = CatBoostClassifier(verbose=False, early_stopping_rounds=50)\n",
    "cb_cv = cross_validate(cb, X_cv, Y_cv, cv=5, scoring=\"accuracy\")\n",
    "cb_cv"
   ]
  },
  {
   "cell_type": "markdown",
   "metadata": {},
   "source": [
    "# Conclusion\n",
    "\n",
    "We have reduced the feature set from 78 down to 14 by selecting those features that both XGBoost and CatBoost ranked as the most important.\n",
    "In 5-fold cross validation tests Random Forest, XGBoost and CatBoost all scored more than 99.9% accuracy, with CatBoost scoring highest, including getting 100% on three of the five folds.  However CatBoost was the slowest to train (~19s compared with ~4.5s for both RF and XGB).  On the other hand it was the fastest for prediction."
   ]
  }
 ],
 "metadata": {
  "kernelspec": {
   "display_name": "Python 3",
   "language": "python",
   "name": "python3"
  },
  "language_info": {
   "codemirror_mode": {
    "name": "ipython",
    "version": 3
   },
   "file_extension": ".py",
   "mimetype": "text/x-python",
   "name": "python",
   "nbconvert_exporter": "python",
   "pygments_lexer": "ipython3",
   "version": "3.7.3"
  },
  "pycharm": {
   "stem_cell": {
    "cell_type": "raw",
    "source": [],
    "metadata": {
     "collapsed": false
    }
   }
  }
 },
 "nbformat": 4,
 "nbformat_minor": 4
}