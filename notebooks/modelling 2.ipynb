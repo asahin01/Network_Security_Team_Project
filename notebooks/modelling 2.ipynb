{
 "cells": [
  {
   "cell_type": "code",
   "execution_count": 2,
   "metadata": {},
   "outputs": [],
   "source": [
    "import matplotlib.pyplot as plt\n",
    "import numpy as np\n",
    "import scipy\n",
    "import pandas as pd"
   ]
  },
  {
   "cell_type": "code",
   "execution_count": 3,
   "metadata": {},
   "outputs": [],
   "source": [
    "mdata= pd.read_csv('/Users/student/Documents/GitHub/AML_project/datasets/train_imperson_without4n7_balanced_data.csv')\n",
    "mdata_test= pd.read_csv('/Users/student/Documents/GitHub/AML_project/datasets/test_imperson_without4n7_balanced_data.csv')\n",
    "Xtest, Ytest = mdata_test.loc[:, mdata_test.columns != '155'], mdata_test['155']"
   ]
  },
  {
   "cell_type": "code",
   "execution_count": 4,
   "metadata": {},
   "outputs": [
    {
     "data": {
      "text/html": [
       "<div>\n",
       "<style scoped>\n",
       "    .dataframe tbody tr th:only-of-type {\n",
       "        vertical-align: middle;\n",
       "    }\n",
       "\n",
       "    .dataframe tbody tr th {\n",
       "        vertical-align: top;\n",
       "    }\n",
       "\n",
       "    .dataframe thead th {\n",
       "        text-align: right;\n",
       "    }\n",
       "</style>\n",
       "<table border=\"1\" class=\"dataframe\">\n",
       "  <thead>\n",
       "    <tr style=\"text-align: right;\">\n",
       "      <th></th>\n",
       "      <th>1</th>\n",
       "      <th>2</th>\n",
       "      <th>3</th>\n",
       "      <th>5</th>\n",
       "      <th>6</th>\n",
       "      <th>8</th>\n",
       "      <th>9</th>\n",
       "      <th>10</th>\n",
       "      <th>11</th>\n",
       "      <th>12</th>\n",
       "      <th>...</th>\n",
       "      <th>146</th>\n",
       "      <th>147</th>\n",
       "      <th>148</th>\n",
       "      <th>149</th>\n",
       "      <th>150</th>\n",
       "      <th>151</th>\n",
       "      <th>152</th>\n",
       "      <th>153</th>\n",
       "      <th>154</th>\n",
       "      <th>155</th>\n",
       "    </tr>\n",
       "  </thead>\n",
       "  <tbody>\n",
       "    <tr>\n",
       "      <td>0</td>\n",
       "      <td>0</td>\n",
       "      <td>0</td>\n",
       "      <td>0</td>\n",
       "      <td>0.000066</td>\n",
       "      <td>0.000066</td>\n",
       "      <td>0.009150</td>\n",
       "      <td>0.009150</td>\n",
       "      <td>0</td>\n",
       "      <td>0</td>\n",
       "      <td>0</td>\n",
       "      <td>...</td>\n",
       "      <td>0.0</td>\n",
       "      <td>0</td>\n",
       "      <td>0</td>\n",
       "      <td>0</td>\n",
       "      <td>0</td>\n",
       "      <td>0</td>\n",
       "      <td>0</td>\n",
       "      <td>0</td>\n",
       "      <td>0.0</td>\n",
       "      <td>0</td>\n",
       "    </tr>\n",
       "    <tr>\n",
       "      <td>1</td>\n",
       "      <td>0</td>\n",
       "      <td>0</td>\n",
       "      <td>0</td>\n",
       "      <td>0.000014</td>\n",
       "      <td>0.000014</td>\n",
       "      <td>0.000000</td>\n",
       "      <td>0.000000</td>\n",
       "      <td>0</td>\n",
       "      <td>0</td>\n",
       "      <td>0</td>\n",
       "      <td>...</td>\n",
       "      <td>0.0</td>\n",
       "      <td>0</td>\n",
       "      <td>0</td>\n",
       "      <td>0</td>\n",
       "      <td>0</td>\n",
       "      <td>0</td>\n",
       "      <td>0</td>\n",
       "      <td>0</td>\n",
       "      <td>0.0</td>\n",
       "      <td>0</td>\n",
       "    </tr>\n",
       "    <tr>\n",
       "      <td>2</td>\n",
       "      <td>0</td>\n",
       "      <td>0</td>\n",
       "      <td>0</td>\n",
       "      <td>0.035528</td>\n",
       "      <td>0.035528</td>\n",
       "      <td>0.070588</td>\n",
       "      <td>0.070588</td>\n",
       "      <td>0</td>\n",
       "      <td>0</td>\n",
       "      <td>0</td>\n",
       "      <td>...</td>\n",
       "      <td>0.0</td>\n",
       "      <td>0</td>\n",
       "      <td>0</td>\n",
       "      <td>0</td>\n",
       "      <td>0</td>\n",
       "      <td>0</td>\n",
       "      <td>0</td>\n",
       "      <td>0</td>\n",
       "      <td>0.0</td>\n",
       "      <td>0</td>\n",
       "    </tr>\n",
       "    <tr>\n",
       "      <td>3</td>\n",
       "      <td>0</td>\n",
       "      <td>0</td>\n",
       "      <td>0</td>\n",
       "      <td>0.005128</td>\n",
       "      <td>0.005128</td>\n",
       "      <td>0.094771</td>\n",
       "      <td>0.094771</td>\n",
       "      <td>0</td>\n",
       "      <td>0</td>\n",
       "      <td>0</td>\n",
       "      <td>...</td>\n",
       "      <td>0.0</td>\n",
       "      <td>0</td>\n",
       "      <td>0</td>\n",
       "      <td>0</td>\n",
       "      <td>0</td>\n",
       "      <td>0</td>\n",
       "      <td>0</td>\n",
       "      <td>0</td>\n",
       "      <td>0.0</td>\n",
       "      <td>0</td>\n",
       "    </tr>\n",
       "    <tr>\n",
       "      <td>4</td>\n",
       "      <td>0</td>\n",
       "      <td>0</td>\n",
       "      <td>0</td>\n",
       "      <td>0.035116</td>\n",
       "      <td>0.035116</td>\n",
       "      <td>0.070588</td>\n",
       "      <td>0.070588</td>\n",
       "      <td>0</td>\n",
       "      <td>0</td>\n",
       "      <td>0</td>\n",
       "      <td>...</td>\n",
       "      <td>0.0</td>\n",
       "      <td>0</td>\n",
       "      <td>0</td>\n",
       "      <td>0</td>\n",
       "      <td>0</td>\n",
       "      <td>0</td>\n",
       "      <td>0</td>\n",
       "      <td>0</td>\n",
       "      <td>0.0</td>\n",
       "      <td>0</td>\n",
       "    </tr>\n",
       "  </tbody>\n",
       "</table>\n",
       "<p>5 rows × 153 columns</p>\n",
       "</div>"
      ],
      "text/plain": [
       "   1  2  3         5         6         8         9  10  11  12  ...  146  147  \\\n",
       "0  0  0  0  0.000066  0.000066  0.009150  0.009150   0   0   0  ...  0.0    0   \n",
       "1  0  0  0  0.000014  0.000014  0.000000  0.000000   0   0   0  ...  0.0    0   \n",
       "2  0  0  0  0.035528  0.035528  0.070588  0.070588   0   0   0  ...  0.0    0   \n",
       "3  0  0  0  0.005128  0.005128  0.094771  0.094771   0   0   0  ...  0.0    0   \n",
       "4  0  0  0  0.035116  0.035116  0.070588  0.070588   0   0   0  ...  0.0    0   \n",
       "\n",
       "   148  149  150  151  152  153  154  155  \n",
       "0    0    0    0    0    0    0  0.0    0  \n",
       "1    0    0    0    0    0    0  0.0    0  \n",
       "2    0    0    0    0    0    0  0.0    0  \n",
       "3    0    0    0    0    0    0  0.0    0  \n",
       "4    0    0    0    0    0    0  0.0    0  \n",
       "\n",
       "[5 rows x 153 columns]"
      ]
     },
     "execution_count": 4,
     "metadata": {},
     "output_type": "execute_result"
    }
   ],
   "source": [
    "mdata.head()"
   ]
  },
  {
   "cell_type": "code",
   "execution_count": 5,
   "metadata": {},
   "outputs": [
    {
     "name": "stdout",
     "output_type": "stream",
     "text": [
      "<class 'pandas.core.frame.DataFrame'>\n",
      "RangeIndex: 97044 entries, 0 to 97043\n",
      "Columns: 153 entries, 1 to 155\n",
      "dtypes: float64(48), int64(105)\n",
      "memory usage: 113.3 MB\n"
     ]
    }
   ],
   "source": [
    "\n",
    "#investigating presence of missing data\n",
    "\n",
    "mdata.info()"
   ]
  },
  {
   "cell_type": "code",
   "execution_count": 6,
   "metadata": {},
   "outputs": [
    {
     "name": "stdout",
     "output_type": "stream",
     "text": [
      "<class 'pandas.core.frame.DataFrame'>\n",
      "Int64Index: 97044 entries, 0 to 97043\n",
      "Columns: 153 entries, 1 to 155\n",
      "dtypes: float64(48), int64(105)\n",
      "memory usage: 114.0 MB\n"
     ]
    }
   ],
   "source": [
    "#data is complete\n",
    "\n",
    "m1= mdata.dropna()\n",
    "m1.info()"
   ]
  },
  {
   "cell_type": "code",
   "execution_count": 7,
   "metadata": {},
   "outputs": [
    {
     "name": "stdout",
     "output_type": "stream",
     "text": [
      "<class 'pandas.core.frame.DataFrame'>\n",
      "Int64Index: 96497 entries, 0 to 97043\n",
      "Columns: 153 entries, 1 to 155\n",
      "dtypes: float64(48), int64(105)\n",
      "memory usage: 113.4 MB\n"
     ]
    }
   ],
   "source": [
    "#investigating presence of duplicate values\n",
    "#is this because Dr Yoo rebalanced the classes with some form of bootstrapping? Hence we leave them in?\n",
    "#I think we should assume data are iid anyway, hence keep duplicates\n",
    "#if later we can see that the model does nt generalize well we can go back and eliminate them.\n",
    "\n",
    "\n",
    "m2 = mdata.drop_duplicates()\n",
    "m2.info()"
   ]
  },
  {
   "cell_type": "code",
   "execution_count": 8,
   "metadata": {},
   "outputs": [
    {
     "data": {
      "text/html": [
       "<div>\n",
       "<style scoped>\n",
       "    .dataframe tbody tr th:only-of-type {\n",
       "        vertical-align: middle;\n",
       "    }\n",
       "\n",
       "    .dataframe tbody tr th {\n",
       "        vertical-align: top;\n",
       "    }\n",
       "\n",
       "    .dataframe thead th {\n",
       "        text-align: right;\n",
       "    }\n",
       "</style>\n",
       "<table border=\"1\" class=\"dataframe\">\n",
       "  <thead>\n",
       "    <tr style=\"text-align: right;\">\n",
       "      <th></th>\n",
       "      <th>1</th>\n",
       "      <th>2</th>\n",
       "      <th>3</th>\n",
       "      <th>5</th>\n",
       "      <th>6</th>\n",
       "      <th>8</th>\n",
       "      <th>9</th>\n",
       "      <th>10</th>\n",
       "      <th>11</th>\n",
       "      <th>12</th>\n",
       "      <th>...</th>\n",
       "      <th>146</th>\n",
       "      <th>147</th>\n",
       "      <th>148</th>\n",
       "      <th>149</th>\n",
       "      <th>150</th>\n",
       "      <th>151</th>\n",
       "      <th>152</th>\n",
       "      <th>153</th>\n",
       "      <th>154</th>\n",
       "      <th>155</th>\n",
       "    </tr>\n",
       "  </thead>\n",
       "  <tbody>\n",
       "    <tr>\n",
       "      <td>307</td>\n",
       "      <td>0</td>\n",
       "      <td>0</td>\n",
       "      <td>0</td>\n",
       "      <td>0.000017</td>\n",
       "      <td>0.000017</td>\n",
       "      <td>0.0</td>\n",
       "      <td>0.0</td>\n",
       "      <td>0</td>\n",
       "      <td>0</td>\n",
       "      <td>0</td>\n",
       "      <td>...</td>\n",
       "      <td>0.0</td>\n",
       "      <td>0</td>\n",
       "      <td>0</td>\n",
       "      <td>0</td>\n",
       "      <td>0</td>\n",
       "      <td>0</td>\n",
       "      <td>0</td>\n",
       "      <td>0</td>\n",
       "      <td>0.0</td>\n",
       "      <td>0</td>\n",
       "    </tr>\n",
       "    <tr>\n",
       "      <td>772</td>\n",
       "      <td>0</td>\n",
       "      <td>0</td>\n",
       "      <td>0</td>\n",
       "      <td>0.000011</td>\n",
       "      <td>0.000011</td>\n",
       "      <td>0.0</td>\n",
       "      <td>0.0</td>\n",
       "      <td>0</td>\n",
       "      <td>0</td>\n",
       "      <td>0</td>\n",
       "      <td>...</td>\n",
       "      <td>0.0</td>\n",
       "      <td>0</td>\n",
       "      <td>0</td>\n",
       "      <td>0</td>\n",
       "      <td>0</td>\n",
       "      <td>0</td>\n",
       "      <td>0</td>\n",
       "      <td>0</td>\n",
       "      <td>0.0</td>\n",
       "      <td>0</td>\n",
       "    </tr>\n",
       "    <tr>\n",
       "      <td>1565</td>\n",
       "      <td>0</td>\n",
       "      <td>0</td>\n",
       "      <td>0</td>\n",
       "      <td>0.000014</td>\n",
       "      <td>0.000014</td>\n",
       "      <td>0.0</td>\n",
       "      <td>0.0</td>\n",
       "      <td>0</td>\n",
       "      <td>0</td>\n",
       "      <td>0</td>\n",
       "      <td>...</td>\n",
       "      <td>0.0</td>\n",
       "      <td>0</td>\n",
       "      <td>0</td>\n",
       "      <td>0</td>\n",
       "      <td>0</td>\n",
       "      <td>0</td>\n",
       "      <td>0</td>\n",
       "      <td>0</td>\n",
       "      <td>0.0</td>\n",
       "      <td>0</td>\n",
       "    </tr>\n",
       "    <tr>\n",
       "      <td>7708</td>\n",
       "      <td>0</td>\n",
       "      <td>0</td>\n",
       "      <td>0</td>\n",
       "      <td>0.000037</td>\n",
       "      <td>0.000037</td>\n",
       "      <td>0.0</td>\n",
       "      <td>0.0</td>\n",
       "      <td>0</td>\n",
       "      <td>0</td>\n",
       "      <td>0</td>\n",
       "      <td>...</td>\n",
       "      <td>0.0</td>\n",
       "      <td>0</td>\n",
       "      <td>0</td>\n",
       "      <td>0</td>\n",
       "      <td>0</td>\n",
       "      <td>0</td>\n",
       "      <td>0</td>\n",
       "      <td>0</td>\n",
       "      <td>0.0</td>\n",
       "      <td>0</td>\n",
       "    </tr>\n",
       "    <tr>\n",
       "      <td>13105</td>\n",
       "      <td>0</td>\n",
       "      <td>0</td>\n",
       "      <td>0</td>\n",
       "      <td>0.000011</td>\n",
       "      <td>0.000011</td>\n",
       "      <td>0.0</td>\n",
       "      <td>0.0</td>\n",
       "      <td>0</td>\n",
       "      <td>0</td>\n",
       "      <td>0</td>\n",
       "      <td>...</td>\n",
       "      <td>0.0</td>\n",
       "      <td>0</td>\n",
       "      <td>0</td>\n",
       "      <td>0</td>\n",
       "      <td>0</td>\n",
       "      <td>0</td>\n",
       "      <td>0</td>\n",
       "      <td>0</td>\n",
       "      <td>0.0</td>\n",
       "      <td>0</td>\n",
       "    </tr>\n",
       "  </tbody>\n",
       "</table>\n",
       "<p>5 rows × 153 columns</p>\n",
       "</div>"
      ],
      "text/plain": [
       "       1  2  3         5         6    8    9  10  11  12  ...  146  147  148  \\\n",
       "307    0  0  0  0.000017  0.000017  0.0  0.0   0   0   0  ...  0.0    0    0   \n",
       "772    0  0  0  0.000011  0.000011  0.0  0.0   0   0   0  ...  0.0    0    0   \n",
       "1565   0  0  0  0.000014  0.000014  0.0  0.0   0   0   0  ...  0.0    0    0   \n",
       "7708   0  0  0  0.000037  0.000037  0.0  0.0   0   0   0  ...  0.0    0    0   \n",
       "13105  0  0  0  0.000011  0.000011  0.0  0.0   0   0   0  ...  0.0    0    0   \n",
       "\n",
       "       149  150  151  152  153  154  155  \n",
       "307      0    0    0    0    0  0.0    0  \n",
       "772      0    0    0    0    0  0.0    0  \n",
       "1565     0    0    0    0    0  0.0    0  \n",
       "7708     0    0    0    0    0  0.0    0  \n",
       "13105    0    0    0    0    0  0.0    0  \n",
       "\n",
       "[5 rows x 153 columns]"
      ]
     },
     "execution_count": 8,
     "metadata": {},
     "output_type": "execute_result"
    }
   ],
   "source": [
    "#duplicate rows for reference\n",
    "\n",
    "mdata[mdata.duplicated() == True].head()"
   ]
  },
  {
   "cell_type": "code",
   "execution_count": 8,
   "metadata": {},
   "outputs": [
    {
     "data": {
      "text/html": [
       "<div>\n",
       "<style scoped>\n",
       "    .dataframe tbody tr th:only-of-type {\n",
       "        vertical-align: middle;\n",
       "    }\n",
       "\n",
       "    .dataframe tbody tr th {\n",
       "        vertical-align: top;\n",
       "    }\n",
       "\n",
       "    .dataframe thead th {\n",
       "        text-align: right;\n",
       "    }\n",
       "</style>\n",
       "<table border=\"1\" class=\"dataframe\">\n",
       "  <thead>\n",
       "    <tr style=\"text-align: right;\">\n",
       "      <th></th>\n",
       "      <th>count</th>\n",
       "      <th>mean</th>\n",
       "      <th>std</th>\n",
       "      <th>min</th>\n",
       "      <th>25%</th>\n",
       "      <th>50%</th>\n",
       "      <th>75%</th>\n",
       "      <th>max</th>\n",
       "    </tr>\n",
       "  </thead>\n",
       "  <tbody>\n",
       "    <tr>\n",
       "      <td>count</td>\n",
       "      <td>153.0</td>\n",
       "      <td>153.000000</td>\n",
       "      <td>153.000000</td>\n",
       "      <td>153.000000</td>\n",
       "      <td>153.000000</td>\n",
       "      <td>153.000000</td>\n",
       "      <td>153.000000</td>\n",
       "      <td>153.000000</td>\n",
       "    </tr>\n",
       "    <tr>\n",
       "      <td>mean</td>\n",
       "      <td>97044.0</td>\n",
       "      <td>0.150720</td>\n",
       "      <td>0.058346</td>\n",
       "      <td>0.016340</td>\n",
       "      <td>0.111776</td>\n",
       "      <td>0.144825</td>\n",
       "      <td>0.170367</td>\n",
       "      <td>0.442533</td>\n",
       "    </tr>\n",
       "    <tr>\n",
       "      <td>std</td>\n",
       "      <td>0.0</td>\n",
       "      <td>0.315662</td>\n",
       "      <td>0.124710</td>\n",
       "      <td>0.120557</td>\n",
       "      <td>0.301584</td>\n",
       "      <td>0.334706</td>\n",
       "      <td>0.357250</td>\n",
       "      <td>0.482821</td>\n",
       "    </tr>\n",
       "    <tr>\n",
       "      <td>min</td>\n",
       "      <td>97044.0</td>\n",
       "      <td>0.000000</td>\n",
       "      <td>0.000000</td>\n",
       "      <td>0.000000</td>\n",
       "      <td>0.000000</td>\n",
       "      <td>0.000000</td>\n",
       "      <td>0.000000</td>\n",
       "      <td>0.000000</td>\n",
       "    </tr>\n",
       "    <tr>\n",
       "      <td>25%</td>\n",
       "      <td>97044.0</td>\n",
       "      <td>0.000000</td>\n",
       "      <td>0.000000</td>\n",
       "      <td>0.000000</td>\n",
       "      <td>0.000000</td>\n",
       "      <td>0.000000</td>\n",
       "      <td>0.000000</td>\n",
       "      <td>0.000000</td>\n",
       "    </tr>\n",
       "    <tr>\n",
       "      <td>50%</td>\n",
       "      <td>97044.0</td>\n",
       "      <td>0.000008</td>\n",
       "      <td>0.000004</td>\n",
       "      <td>0.000000</td>\n",
       "      <td>0.000000</td>\n",
       "      <td>0.000000</td>\n",
       "      <td>0.000000</td>\n",
       "      <td>0.001530</td>\n",
       "    </tr>\n",
       "    <tr>\n",
       "      <td>75%</td>\n",
       "      <td>97044.0</td>\n",
       "      <td>0.037225</td>\n",
       "      <td>0.017885</td>\n",
       "      <td>0.000000</td>\n",
       "      <td>0.000000</td>\n",
       "      <td>0.000000</td>\n",
       "      <td>0.002253</td>\n",
       "      <td>1.000000</td>\n",
       "    </tr>\n",
       "    <tr>\n",
       "      <td>max</td>\n",
       "      <td>97044.0</td>\n",
       "      <td>1.000000</td>\n",
       "      <td>0.500003</td>\n",
       "      <td>1.000000</td>\n",
       "      <td>1.000000</td>\n",
       "      <td>1.000000</td>\n",
       "      <td>1.000000</td>\n",
       "      <td>1.000000</td>\n",
       "    </tr>\n",
       "  </tbody>\n",
       "</table>\n",
       "</div>"
      ],
      "text/plain": [
       "         count        mean         std         min         25%         50%  \\\n",
       "count    153.0  153.000000  153.000000  153.000000  153.000000  153.000000   \n",
       "mean   97044.0    0.150720    0.058346    0.016340    0.111776    0.144825   \n",
       "std        0.0    0.315662    0.124710    0.120557    0.301584    0.334706   \n",
       "min    97044.0    0.000000    0.000000    0.000000    0.000000    0.000000   \n",
       "25%    97044.0    0.000000    0.000000    0.000000    0.000000    0.000000   \n",
       "50%    97044.0    0.000008    0.000004    0.000000    0.000000    0.000000   \n",
       "75%    97044.0    0.037225    0.017885    0.000000    0.000000    0.000000   \n",
       "max    97044.0    1.000000    0.500003    1.000000    1.000000    1.000000   \n",
       "\n",
       "              75%         max  \n",
       "count  153.000000  153.000000  \n",
       "mean     0.170367    0.442533  \n",
       "std      0.357250    0.482821  \n",
       "min      0.000000    0.000000  \n",
       "25%      0.000000    0.000000  \n",
       "50%      0.000000    0.001530  \n",
       "75%      0.002253    1.000000  \n",
       "max      1.000000    1.000000  "
      ]
     },
     "execution_count": 8,
     "metadata": {},
     "output_type": "execute_result"
    }
   ],
   "source": [
    "mdata.describe().T.describe()"
   ]
  },
  {
   "cell_type": "code",
   "execution_count": 9,
   "metadata": {},
   "outputs": [],
   "source": [
    "#separate X and Y\n",
    "\n",
    "X, Y = mdata.loc[:, mdata.columns != '155'], mdata['155']"
   ]
  },
  {
   "cell_type": "code",
   "execution_count": 10,
   "metadata": {},
   "outputs": [
    {
     "data": {
      "text/html": [
       "<div>\n",
       "<style scoped>\n",
       "    .dataframe tbody tr th:only-of-type {\n",
       "        vertical-align: middle;\n",
       "    }\n",
       "\n",
       "    .dataframe tbody tr th {\n",
       "        vertical-align: top;\n",
       "    }\n",
       "\n",
       "    .dataframe thead th {\n",
       "        text-align: right;\n",
       "    }\n",
       "</style>\n",
       "<table border=\"1\" class=\"dataframe\">\n",
       "  <thead>\n",
       "    <tr style=\"text-align: right;\">\n",
       "      <th></th>\n",
       "      <th>1</th>\n",
       "      <th>2</th>\n",
       "      <th>3</th>\n",
       "      <th>5</th>\n",
       "      <th>6</th>\n",
       "      <th>8</th>\n",
       "      <th>9</th>\n",
       "      <th>10</th>\n",
       "      <th>11</th>\n",
       "      <th>12</th>\n",
       "      <th>...</th>\n",
       "      <th>145</th>\n",
       "      <th>146</th>\n",
       "      <th>147</th>\n",
       "      <th>148</th>\n",
       "      <th>149</th>\n",
       "      <th>150</th>\n",
       "      <th>151</th>\n",
       "      <th>152</th>\n",
       "      <th>153</th>\n",
       "      <th>154</th>\n",
       "    </tr>\n",
       "  </thead>\n",
       "  <tbody>\n",
       "    <tr>\n",
       "      <td>0</td>\n",
       "      <td>0</td>\n",
       "      <td>0</td>\n",
       "      <td>0</td>\n",
       "      <td>0.000066</td>\n",
       "      <td>0.000066</td>\n",
       "      <td>0.009150</td>\n",
       "      <td>0.009150</td>\n",
       "      <td>0</td>\n",
       "      <td>0</td>\n",
       "      <td>0</td>\n",
       "      <td>...</td>\n",
       "      <td>0.0</td>\n",
       "      <td>0.0</td>\n",
       "      <td>0</td>\n",
       "      <td>0</td>\n",
       "      <td>0</td>\n",
       "      <td>0</td>\n",
       "      <td>0</td>\n",
       "      <td>0</td>\n",
       "      <td>0</td>\n",
       "      <td>0.0</td>\n",
       "    </tr>\n",
       "    <tr>\n",
       "      <td>1</td>\n",
       "      <td>0</td>\n",
       "      <td>0</td>\n",
       "      <td>0</td>\n",
       "      <td>0.000014</td>\n",
       "      <td>0.000014</td>\n",
       "      <td>0.000000</td>\n",
       "      <td>0.000000</td>\n",
       "      <td>0</td>\n",
       "      <td>0</td>\n",
       "      <td>0</td>\n",
       "      <td>...</td>\n",
       "      <td>0.0</td>\n",
       "      <td>0.0</td>\n",
       "      <td>0</td>\n",
       "      <td>0</td>\n",
       "      <td>0</td>\n",
       "      <td>0</td>\n",
       "      <td>0</td>\n",
       "      <td>0</td>\n",
       "      <td>0</td>\n",
       "      <td>0.0</td>\n",
       "    </tr>\n",
       "    <tr>\n",
       "      <td>2</td>\n",
       "      <td>0</td>\n",
       "      <td>0</td>\n",
       "      <td>0</td>\n",
       "      <td>0.035528</td>\n",
       "      <td>0.035528</td>\n",
       "      <td>0.070588</td>\n",
       "      <td>0.070588</td>\n",
       "      <td>0</td>\n",
       "      <td>0</td>\n",
       "      <td>0</td>\n",
       "      <td>...</td>\n",
       "      <td>0.0</td>\n",
       "      <td>0.0</td>\n",
       "      <td>0</td>\n",
       "      <td>0</td>\n",
       "      <td>0</td>\n",
       "      <td>0</td>\n",
       "      <td>0</td>\n",
       "      <td>0</td>\n",
       "      <td>0</td>\n",
       "      <td>0.0</td>\n",
       "    </tr>\n",
       "    <tr>\n",
       "      <td>3</td>\n",
       "      <td>0</td>\n",
       "      <td>0</td>\n",
       "      <td>0</td>\n",
       "      <td>0.005128</td>\n",
       "      <td>0.005128</td>\n",
       "      <td>0.094771</td>\n",
       "      <td>0.094771</td>\n",
       "      <td>0</td>\n",
       "      <td>0</td>\n",
       "      <td>0</td>\n",
       "      <td>...</td>\n",
       "      <td>0.0</td>\n",
       "      <td>0.0</td>\n",
       "      <td>0</td>\n",
       "      <td>0</td>\n",
       "      <td>0</td>\n",
       "      <td>0</td>\n",
       "      <td>0</td>\n",
       "      <td>0</td>\n",
       "      <td>0</td>\n",
       "      <td>0.0</td>\n",
       "    </tr>\n",
       "    <tr>\n",
       "      <td>4</td>\n",
       "      <td>0</td>\n",
       "      <td>0</td>\n",
       "      <td>0</td>\n",
       "      <td>0.035116</td>\n",
       "      <td>0.035116</td>\n",
       "      <td>0.070588</td>\n",
       "      <td>0.070588</td>\n",
       "      <td>0</td>\n",
       "      <td>0</td>\n",
       "      <td>0</td>\n",
       "      <td>...</td>\n",
       "      <td>0.0</td>\n",
       "      <td>0.0</td>\n",
       "      <td>0</td>\n",
       "      <td>0</td>\n",
       "      <td>0</td>\n",
       "      <td>0</td>\n",
       "      <td>0</td>\n",
       "      <td>0</td>\n",
       "      <td>0</td>\n",
       "      <td>0.0</td>\n",
       "    </tr>\n",
       "  </tbody>\n",
       "</table>\n",
       "<p>5 rows × 152 columns</p>\n",
       "</div>"
      ],
      "text/plain": [
       "   1  2  3         5         6         8         9  10  11  12  ...  145  146  \\\n",
       "0  0  0  0  0.000066  0.000066  0.009150  0.009150   0   0   0  ...  0.0  0.0   \n",
       "1  0  0  0  0.000014  0.000014  0.000000  0.000000   0   0   0  ...  0.0  0.0   \n",
       "2  0  0  0  0.035528  0.035528  0.070588  0.070588   0   0   0  ...  0.0  0.0   \n",
       "3  0  0  0  0.005128  0.005128  0.094771  0.094771   0   0   0  ...  0.0  0.0   \n",
       "4  0  0  0  0.035116  0.035116  0.070588  0.070588   0   0   0  ...  0.0  0.0   \n",
       "\n",
       "   147  148  149  150  151  152  153  154  \n",
       "0    0    0    0    0    0    0    0  0.0  \n",
       "1    0    0    0    0    0    0    0  0.0  \n",
       "2    0    0    0    0    0    0    0  0.0  \n",
       "3    0    0    0    0    0    0    0  0.0  \n",
       "4    0    0    0    0    0    0    0  0.0  \n",
       "\n",
       "[5 rows x 152 columns]"
      ]
     },
     "execution_count": 10,
     "metadata": {},
     "output_type": "execute_result"
    }
   ],
   "source": [
    "X.head()"
   ]
  },
  {
   "cell_type": "code",
   "execution_count": 11,
   "metadata": {},
   "outputs": [
    {
     "data": {
      "text/plain": [
       "0.000000    74\n",
       "0.014709    11\n",
       "0.354444     2\n",
       "0.003210     2\n",
       "0.062765     2\n",
       "            ..\n",
       "0.002451     1\n",
       "0.024858     1\n",
       "0.010997     1\n",
       "0.032883     1\n",
       "0.224398     1\n",
       "Length: 65, dtype: int64"
      ]
     },
     "execution_count": 11,
     "metadata": {},
     "output_type": "execute_result"
    }
   ],
   "source": [
    "X.std().value_counts()"
   ]
  },
  {
   "cell_type": "code",
   "execution_count": 10,
   "metadata": {},
   "outputs": [],
   "source": [
    "#eliminate features with 0 standard deviation\n",
    "#Xselected with 0 var taken out\n",
    "from sklearn.feature_selection import VarianceThreshold\n",
    "\n",
    "\n",
    "\n",
    "\n",
    "selector = VarianceThreshold()\n",
    "\n",
    "X5=selector.fit(X)\n",
    "col = X.columns[selector.get_support()]\n",
    "Xselected= X.loc[:, col ]"
   ]
  },
  {
   "cell_type": "code",
   "execution_count": 14,
   "metadata": {},
   "outputs": [
    {
     "data": {
      "text/html": [
       "<div>\n",
       "<style scoped>\n",
       "    .dataframe tbody tr th:only-of-type {\n",
       "        vertical-align: middle;\n",
       "    }\n",
       "\n",
       "    .dataframe tbody tr th {\n",
       "        vertical-align: top;\n",
       "    }\n",
       "\n",
       "    .dataframe thead th {\n",
       "        text-align: right;\n",
       "    }\n",
       "</style>\n",
       "<table border=\"1\" class=\"dataframe\">\n",
       "  <thead>\n",
       "    <tr style=\"text-align: right;\">\n",
       "      <th></th>\n",
       "      <th>5</th>\n",
       "      <th>6</th>\n",
       "      <th>8</th>\n",
       "      <th>9</th>\n",
       "      <th>14</th>\n",
       "      <th>15</th>\n",
       "      <th>16</th>\n",
       "      <th>18</th>\n",
       "      <th>20</th>\n",
       "      <th>26</th>\n",
       "      <th>...</th>\n",
       "      <th>133</th>\n",
       "      <th>138</th>\n",
       "      <th>140</th>\n",
       "      <th>141</th>\n",
       "      <th>142</th>\n",
       "      <th>143</th>\n",
       "      <th>144</th>\n",
       "      <th>145</th>\n",
       "      <th>146</th>\n",
       "      <th>154</th>\n",
       "    </tr>\n",
       "  </thead>\n",
       "  <tbody>\n",
       "    <tr>\n",
       "      <td>0</td>\n",
       "      <td>0.000066</td>\n",
       "      <td>0.000066</td>\n",
       "      <td>0.009150</td>\n",
       "      <td>0.009150</td>\n",
       "      <td>1</td>\n",
       "      <td>1</td>\n",
       "      <td>1</td>\n",
       "      <td>1</td>\n",
       "      <td>1</td>\n",
       "      <td>1</td>\n",
       "      <td>...</td>\n",
       "      <td>0</td>\n",
       "      <td>0.5</td>\n",
       "      <td>0.0</td>\n",
       "      <td>0.0</td>\n",
       "      <td>0.0</td>\n",
       "      <td>0.0</td>\n",
       "      <td>0.0</td>\n",
       "      <td>0.0</td>\n",
       "      <td>0.0</td>\n",
       "      <td>0.0</td>\n",
       "    </tr>\n",
       "    <tr>\n",
       "      <td>1</td>\n",
       "      <td>0.000014</td>\n",
       "      <td>0.000014</td>\n",
       "      <td>0.000000</td>\n",
       "      <td>0.000000</td>\n",
       "      <td>1</td>\n",
       "      <td>1</td>\n",
       "      <td>1</td>\n",
       "      <td>1</td>\n",
       "      <td>1</td>\n",
       "      <td>1</td>\n",
       "      <td>...</td>\n",
       "      <td>0</td>\n",
       "      <td>0.5</td>\n",
       "      <td>0.0</td>\n",
       "      <td>0.0</td>\n",
       "      <td>0.0</td>\n",
       "      <td>0.0</td>\n",
       "      <td>0.0</td>\n",
       "      <td>0.0</td>\n",
       "      <td>0.0</td>\n",
       "      <td>0.0</td>\n",
       "    </tr>\n",
       "    <tr>\n",
       "      <td>2</td>\n",
       "      <td>0.035528</td>\n",
       "      <td>0.035528</td>\n",
       "      <td>0.070588</td>\n",
       "      <td>0.070588</td>\n",
       "      <td>1</td>\n",
       "      <td>1</td>\n",
       "      <td>1</td>\n",
       "      <td>1</td>\n",
       "      <td>1</td>\n",
       "      <td>1</td>\n",
       "      <td>...</td>\n",
       "      <td>0</td>\n",
       "      <td>0.5</td>\n",
       "      <td>0.0</td>\n",
       "      <td>0.0</td>\n",
       "      <td>0.0</td>\n",
       "      <td>0.0</td>\n",
       "      <td>0.0</td>\n",
       "      <td>0.0</td>\n",
       "      <td>0.0</td>\n",
       "      <td>0.0</td>\n",
       "    </tr>\n",
       "    <tr>\n",
       "      <td>3</td>\n",
       "      <td>0.005128</td>\n",
       "      <td>0.005128</td>\n",
       "      <td>0.094771</td>\n",
       "      <td>0.094771</td>\n",
       "      <td>1</td>\n",
       "      <td>1</td>\n",
       "      <td>1</td>\n",
       "      <td>1</td>\n",
       "      <td>1</td>\n",
       "      <td>1</td>\n",
       "      <td>...</td>\n",
       "      <td>0</td>\n",
       "      <td>0.5</td>\n",
       "      <td>0.0</td>\n",
       "      <td>0.0</td>\n",
       "      <td>0.0</td>\n",
       "      <td>0.0</td>\n",
       "      <td>0.0</td>\n",
       "      <td>0.0</td>\n",
       "      <td>0.0</td>\n",
       "      <td>0.0</td>\n",
       "    </tr>\n",
       "    <tr>\n",
       "      <td>4</td>\n",
       "      <td>0.035116</td>\n",
       "      <td>0.035116</td>\n",
       "      <td>0.070588</td>\n",
       "      <td>0.070588</td>\n",
       "      <td>1</td>\n",
       "      <td>1</td>\n",
       "      <td>1</td>\n",
       "      <td>1</td>\n",
       "      <td>1</td>\n",
       "      <td>1</td>\n",
       "      <td>...</td>\n",
       "      <td>0</td>\n",
       "      <td>0.5</td>\n",
       "      <td>0.0</td>\n",
       "      <td>0.0</td>\n",
       "      <td>0.0</td>\n",
       "      <td>0.0</td>\n",
       "      <td>0.0</td>\n",
       "      <td>0.0</td>\n",
       "      <td>0.0</td>\n",
       "      <td>0.0</td>\n",
       "    </tr>\n",
       "  </tbody>\n",
       "</table>\n",
       "<p>5 rows × 78 columns</p>\n",
       "</div>"
      ],
      "text/plain": [
       "          5         6         8         9  14  15  16  18  20  26  ...  133  \\\n",
       "0  0.000066  0.000066  0.009150  0.009150   1   1   1   1   1   1  ...    0   \n",
       "1  0.000014  0.000014  0.000000  0.000000   1   1   1   1   1   1  ...    0   \n",
       "2  0.035528  0.035528  0.070588  0.070588   1   1   1   1   1   1  ...    0   \n",
       "3  0.005128  0.005128  0.094771  0.094771   1   1   1   1   1   1  ...    0   \n",
       "4  0.035116  0.035116  0.070588  0.070588   1   1   1   1   1   1  ...    0   \n",
       "\n",
       "   138  140  141  142  143  144  145  146  154  \n",
       "0  0.5  0.0  0.0  0.0  0.0  0.0  0.0  0.0  0.0  \n",
       "1  0.5  0.0  0.0  0.0  0.0  0.0  0.0  0.0  0.0  \n",
       "2  0.5  0.0  0.0  0.0  0.0  0.0  0.0  0.0  0.0  \n",
       "3  0.5  0.0  0.0  0.0  0.0  0.0  0.0  0.0  0.0  \n",
       "4  0.5  0.0  0.0  0.0  0.0  0.0  0.0  0.0  0.0  \n",
       "\n",
       "[5 rows x 78 columns]"
      ]
     },
     "execution_count": 14,
     "metadata": {},
     "output_type": "execute_result"
    }
   ],
   "source": [
    "Xselected.head()"
   ]
  },
  {
   "cell_type": "code",
   "execution_count": 15,
   "metadata": {},
   "outputs": [
    {
     "data": {
      "text/plain": [
       "(97044, 78)"
      ]
     },
     "execution_count": 15,
     "metadata": {},
     "output_type": "execute_result"
    }
   ],
   "source": [
    "Xselected.shape"
   ]
  },
  {
   "cell_type": "code",
   "execution_count": 49,
   "metadata": {},
   "outputs": [
    {
     "data": {
      "text/plain": [
       "count    97044.000000\n",
       "mean         0.999784\n",
       "std          0.014709\n",
       "min          0.000000\n",
       "25%          1.000000\n",
       "50%          1.000000\n",
       "75%          1.000000\n",
       "max          1.000000\n",
       "Name: 14, dtype: float64"
      ]
     },
     "execution_count": 49,
     "metadata": {},
     "output_type": "execute_result"
    }
   ],
   "source": [
    "Xselected['14'].describe()"
   ]
  },
  {
   "cell_type": "code",
   "execution_count": 18,
   "metadata": {},
   "outputs": [],
   "source": [
    "#example of square root transform\n",
    "\n",
    "xsqrt = np.sqrt(Xselected['5'])"
   ]
  },
  {
   "cell_type": "code",
   "execution_count": 19,
   "metadata": {},
   "outputs": [
    {
     "data": {
      "text/plain": [
       "3.7898261887995903"
      ]
     },
     "execution_count": 19,
     "metadata": {},
     "output_type": "execute_result"
    }
   ],
   "source": [
    "xsqrt.skew()"
   ]
  },
  {
   "cell_type": "code",
   "execution_count": 9,
   "metadata": {},
   "outputs": [],
   "source": [
    "import matplotlib as plt\n",
    "%matplotlib inline"
   ]
  },
  {
   "cell_type": "code",
   "execution_count": 22,
   "metadata": {},
   "outputs": [
    {
     "data": {
      "text/plain": [
       "<matplotlib.axes._subplots.AxesSubplot at 0x119b0a310>"
      ]
     },
     "execution_count": 22,
     "metadata": {},
     "output_type": "execute_result"
    },
    {
     "data": {
      "image/png": "[encoded data removed]",
      "text/plain": [
       "<Figure size 432x288 with 1 Axes>"
      ]
     },
     "metadata": {
      "needs_background": "light"
     },
     "output_type": "display_data"
    }
   ],
   "source": [
    "#histogran after the sqrt transformation\n",
    "\n",
    "np.sqrt(Xselected['5']).hist(bins = 15)"
   ]
  },
  {
   "cell_type": "code",
   "execution_count": 63,
   "metadata": {},
   "outputs": [],
   "source": [
    "#Normalizer transform norm 1\n",
    "\n",
    "from sklearn.preprocessing import Normalizer\n",
    "\n",
    "scaler = Normalizer().fit(Xselected)\n",
    "normalizedX2 = scaler.transform(Xselected)"
   ]
  },
  {
   "cell_type": "code",
   "execution_count": 64,
   "metadata": {},
   "outputs": [],
   "source": [
    "#normalised range 0 1\n",
    "\n",
    "\n",
    "from sklearn.preprocessing import MinMaxScaler\n",
    "\n",
    "\n",
    "\n",
    "scaler1 = MinMaxScaler().fit(Xselected)\n",
    "scaled0_1=scaler1.transform(Xselected)\n",
    "\n"
   ]
  },
  {
   "cell_type": "code",
   "execution_count": 65,
   "metadata": {},
   "outputs": [
    {
     "name": "stderr",
     "output_type": "stream",
     "text": [
      "//anaconda3/lib/python3.7/site-packages/numpy/core/_methods.py:121: RuntimeWarning: overflow encountered in multiply\n",
      "  x = um.multiply(x, x, out=x)\n",
      "//anaconda3/lib/python3.7/site-packages/numpy/core/_methods.py:122: RuntimeWarning: overflow encountered in reduce\n",
      "  ret = umr_sum(x, axis, dtype, out, keepdims)\n"
     ]
    }
   ],
   "source": [
    "#Power and quantile transform. THe latter distorts correlation, hence try the former\n",
    "\n",
    "from sklearn.preprocessing import PowerTransformer\n",
    "\n",
    "pt = PowerTransformer(method = 'yeo-johnson').fit(Xselected)\n",
    "poweredX2 = pt.transform(Xselected)\n"
   ]
  },
  {
   "cell_type": "code",
   "execution_count": 66,
   "metadata": {},
   "outputs": [
    {
     "data": {
      "text/html": [
       "<div>\n",
       "<style scoped>\n",
       "    .dataframe tbody tr th:only-of-type {\n",
       "        vertical-align: middle;\n",
       "    }\n",
       "\n",
       "    .dataframe tbody tr th {\n",
       "        vertical-align: top;\n",
       "    }\n",
       "\n",
       "    .dataframe thead th {\n",
       "        text-align: right;\n",
       "    }\n",
       "</style>\n",
       "<table border=\"1\" class=\"dataframe\">\n",
       "  <thead>\n",
       "    <tr style=\"text-align: right;\">\n",
       "      <th></th>\n",
       "      <th>5</th>\n",
       "      <th>6</th>\n",
       "      <th>8</th>\n",
       "      <th>9</th>\n",
       "      <th>14</th>\n",
       "      <th>15</th>\n",
       "      <th>16</th>\n",
       "      <th>18</th>\n",
       "      <th>20</th>\n",
       "      <th>26</th>\n",
       "      <th>...</th>\n",
       "      <th>133</th>\n",
       "      <th>138</th>\n",
       "      <th>140</th>\n",
       "      <th>141</th>\n",
       "      <th>142</th>\n",
       "      <th>143</th>\n",
       "      <th>144</th>\n",
       "      <th>145</th>\n",
       "      <th>146</th>\n",
       "      <th>154</th>\n",
       "    </tr>\n",
       "  </thead>\n",
       "  <tbody>\n",
       "    <tr>\n",
       "      <td>0</td>\n",
       "      <td>0.000015</td>\n",
       "      <td>0.000015</td>\n",
       "      <td>0.002125</td>\n",
       "      <td>0.002125</td>\n",
       "      <td>0.232240</td>\n",
       "      <td>0.232240</td>\n",
       "      <td>0.232240</td>\n",
       "      <td>0.232240</td>\n",
       "      <td>0.232240</td>\n",
       "      <td>0.232240</td>\n",
       "      <td>...</td>\n",
       "      <td>0.0</td>\n",
       "      <td>0.116120</td>\n",
       "      <td>0.0</td>\n",
       "      <td>0.0</td>\n",
       "      <td>0.0</td>\n",
       "      <td>0.0</td>\n",
       "      <td>0.0</td>\n",
       "      <td>0.0</td>\n",
       "      <td>0.0</td>\n",
       "      <td>0.0</td>\n",
       "    </tr>\n",
       "    <tr>\n",
       "      <td>1</td>\n",
       "      <td>0.000004</td>\n",
       "      <td>0.000004</td>\n",
       "      <td>0.000000</td>\n",
       "      <td>0.000000</td>\n",
       "      <td>0.252240</td>\n",
       "      <td>0.252240</td>\n",
       "      <td>0.252240</td>\n",
       "      <td>0.252240</td>\n",
       "      <td>0.252240</td>\n",
       "      <td>0.252240</td>\n",
       "      <td>...</td>\n",
       "      <td>0.0</td>\n",
       "      <td>0.126120</td>\n",
       "      <td>0.0</td>\n",
       "      <td>0.0</td>\n",
       "      <td>0.0</td>\n",
       "      <td>0.0</td>\n",
       "      <td>0.0</td>\n",
       "      <td>0.0</td>\n",
       "      <td>0.0</td>\n",
       "      <td>0.0</td>\n",
       "    </tr>\n",
       "    <tr>\n",
       "      <td>2</td>\n",
       "      <td>0.008282</td>\n",
       "      <td>0.008282</td>\n",
       "      <td>0.016454</td>\n",
       "      <td>0.016454</td>\n",
       "      <td>0.233105</td>\n",
       "      <td>0.233105</td>\n",
       "      <td>0.233105</td>\n",
       "      <td>0.233105</td>\n",
       "      <td>0.233105</td>\n",
       "      <td>0.233105</td>\n",
       "      <td>...</td>\n",
       "      <td>0.0</td>\n",
       "      <td>0.116553</td>\n",
       "      <td>0.0</td>\n",
       "      <td>0.0</td>\n",
       "      <td>0.0</td>\n",
       "      <td>0.0</td>\n",
       "      <td>0.0</td>\n",
       "      <td>0.0</td>\n",
       "      <td>0.0</td>\n",
       "      <td>0.0</td>\n",
       "    </tr>\n",
       "    <tr>\n",
       "      <td>3</td>\n",
       "      <td>0.001145</td>\n",
       "      <td>0.001145</td>\n",
       "      <td>0.021168</td>\n",
       "      <td>0.021168</td>\n",
       "      <td>0.223356</td>\n",
       "      <td>0.223356</td>\n",
       "      <td>0.223356</td>\n",
       "      <td>0.223356</td>\n",
       "      <td>0.223356</td>\n",
       "      <td>0.223356</td>\n",
       "      <td>...</td>\n",
       "      <td>0.0</td>\n",
       "      <td>0.111678</td>\n",
       "      <td>0.0</td>\n",
       "      <td>0.0</td>\n",
       "      <td>0.0</td>\n",
       "      <td>0.0</td>\n",
       "      <td>0.0</td>\n",
       "      <td>0.0</td>\n",
       "      <td>0.0</td>\n",
       "      <td>0.0</td>\n",
       "    </tr>\n",
       "    <tr>\n",
       "      <td>4</td>\n",
       "      <td>0.008178</td>\n",
       "      <td>0.008178</td>\n",
       "      <td>0.016439</td>\n",
       "      <td>0.016439</td>\n",
       "      <td>0.232884</td>\n",
       "      <td>0.232884</td>\n",
       "      <td>0.232884</td>\n",
       "      <td>0.232884</td>\n",
       "      <td>0.232884</td>\n",
       "      <td>0.232884</td>\n",
       "      <td>...</td>\n",
       "      <td>0.0</td>\n",
       "      <td>0.116442</td>\n",
       "      <td>0.0</td>\n",
       "      <td>0.0</td>\n",
       "      <td>0.0</td>\n",
       "      <td>0.0</td>\n",
       "      <td>0.0</td>\n",
       "      <td>0.0</td>\n",
       "      <td>0.0</td>\n",
       "      <td>0.0</td>\n",
       "    </tr>\n",
       "  </tbody>\n",
       "</table>\n",
       "<p>5 rows × 78 columns</p>\n",
       "</div>"
      ],
      "text/plain": [
       "          5         6         8         9        14        15        16  \\\n",
       "0  0.000015  0.000015  0.002125  0.002125  0.232240  0.232240  0.232240   \n",
       "1  0.000004  0.000004  0.000000  0.000000  0.252240  0.252240  0.252240   \n",
       "2  0.008282  0.008282  0.016454  0.016454  0.233105  0.233105  0.233105   \n",
       "3  0.001145  0.001145  0.021168  0.021168  0.223356  0.223356  0.223356   \n",
       "4  0.008178  0.008178  0.016439  0.016439  0.232884  0.232884  0.232884   \n",
       "\n",
       "         18        20        26  ...  133       138  140  141  142  143  144  \\\n",
       "0  0.232240  0.232240  0.232240  ...  0.0  0.116120  0.0  0.0  0.0  0.0  0.0   \n",
       "1  0.252240  0.252240  0.252240  ...  0.0  0.126120  0.0  0.0  0.0  0.0  0.0   \n",
       "2  0.233105  0.233105  0.233105  ...  0.0  0.116553  0.0  0.0  0.0  0.0  0.0   \n",
       "3  0.223356  0.223356  0.223356  ...  0.0  0.111678  0.0  0.0  0.0  0.0  0.0   \n",
       "4  0.232884  0.232884  0.232884  ...  0.0  0.116442  0.0  0.0  0.0  0.0  0.0   \n",
       "\n",
       "   145  146  154  \n",
       "0  0.0  0.0  0.0  \n",
       "1  0.0  0.0  0.0  \n",
       "2  0.0  0.0  0.0  \n",
       "3  0.0  0.0  0.0  \n",
       "4  0.0  0.0  0.0  \n",
       "\n",
       "[5 rows x 78 columns]"
      ]
     },
     "execution_count": 66,
     "metadata": {},
     "output_type": "execute_result"
    }
   ],
   "source": [
    "#datframe wiht norm 1\n",
    "\n",
    "NX2df = pd.DataFrame(normalizedX2, columns = Xselected.columns)\n",
    "\n",
    "NX2df.head()"
   ]
  },
  {
   "cell_type": "code",
   "execution_count": 67,
   "metadata": {},
   "outputs": [
    {
     "data": {
      "text/plain": [
       "3.8196847568828263"
      ]
     },
     "execution_count": 67,
     "metadata": {},
     "output_type": "execute_result"
    }
   ],
   "source": [
    "np.median(NX2df.skew())"
   ]
  },
  {
   "cell_type": "code",
   "execution_count": 68,
   "metadata": {},
   "outputs": [
    {
     "data": {
      "text/html": [
       "<div>\n",
       "<style scoped>\n",
       "    .dataframe tbody tr th:only-of-type {\n",
       "        vertical-align: middle;\n",
       "    }\n",
       "\n",
       "    .dataframe tbody tr th {\n",
       "        vertical-align: top;\n",
       "    }\n",
       "\n",
       "    .dataframe thead th {\n",
       "        text-align: right;\n",
       "    }\n",
       "</style>\n",
       "<table border=\"1\" class=\"dataframe\">\n",
       "  <thead>\n",
       "    <tr style=\"text-align: right;\">\n",
       "      <th></th>\n",
       "      <th>5</th>\n",
       "      <th>6</th>\n",
       "      <th>8</th>\n",
       "      <th>9</th>\n",
       "      <th>14</th>\n",
       "      <th>15</th>\n",
       "      <th>16</th>\n",
       "      <th>18</th>\n",
       "      <th>20</th>\n",
       "      <th>26</th>\n",
       "      <th>...</th>\n",
       "      <th>133</th>\n",
       "      <th>138</th>\n",
       "      <th>140</th>\n",
       "      <th>141</th>\n",
       "      <th>142</th>\n",
       "      <th>143</th>\n",
       "      <th>144</th>\n",
       "      <th>145</th>\n",
       "      <th>146</th>\n",
       "      <th>154</th>\n",
       "    </tr>\n",
       "  </thead>\n",
       "  <tbody>\n",
       "    <tr>\n",
       "      <td>0</td>\n",
       "      <td>-1.527311</td>\n",
       "      <td>-1.527311</td>\n",
       "      <td>-0.883721</td>\n",
       "      <td>-0.883721</td>\n",
       "      <td>0.014712</td>\n",
       "      <td>0.014712</td>\n",
       "      <td>0.014712</td>\n",
       "      <td>0.014712</td>\n",
       "      <td>0.014712</td>\n",
       "      <td>0.014712</td>\n",
       "      <td>...</td>\n",
       "      <td>-0.00321</td>\n",
       "      <td>0.0</td>\n",
       "      <td>-1.151287</td>\n",
       "      <td>-0.105837</td>\n",
       "      <td>-1.165737</td>\n",
       "      <td>-0.105657</td>\n",
       "      <td>-0.028724</td>\n",
       "      <td>-0.45347</td>\n",
       "      <td>-0.45347</td>\n",
       "      <td>-0.788655</td>\n",
       "    </tr>\n",
       "    <tr>\n",
       "      <td>1</td>\n",
       "      <td>-1.553062</td>\n",
       "      <td>-1.553062</td>\n",
       "      <td>-1.090489</td>\n",
       "      <td>-1.090489</td>\n",
       "      <td>0.014712</td>\n",
       "      <td>0.014712</td>\n",
       "      <td>0.014712</td>\n",
       "      <td>0.014712</td>\n",
       "      <td>0.014712</td>\n",
       "      <td>0.014712</td>\n",
       "      <td>...</td>\n",
       "      <td>-0.00321</td>\n",
       "      <td>0.0</td>\n",
       "      <td>-1.151287</td>\n",
       "      <td>-0.105837</td>\n",
       "      <td>-1.165737</td>\n",
       "      <td>-0.105657</td>\n",
       "      <td>-0.028724</td>\n",
       "      <td>-0.45347</td>\n",
       "      <td>-0.45347</td>\n",
       "      <td>-0.788655</td>\n",
       "    </tr>\n",
       "    <tr>\n",
       "      <td>2</td>\n",
       "      <td>2.623799</td>\n",
       "      <td>2.623799</td>\n",
       "      <td>0.166931</td>\n",
       "      <td>0.166931</td>\n",
       "      <td>0.014712</td>\n",
       "      <td>0.014712</td>\n",
       "      <td>0.014712</td>\n",
       "      <td>0.014712</td>\n",
       "      <td>0.014712</td>\n",
       "      <td>0.014712</td>\n",
       "      <td>...</td>\n",
       "      <td>-0.00321</td>\n",
       "      <td>0.0</td>\n",
       "      <td>-1.151287</td>\n",
       "      <td>-0.105837</td>\n",
       "      <td>-1.165737</td>\n",
       "      <td>-0.105657</td>\n",
       "      <td>-0.028724</td>\n",
       "      <td>-0.45347</td>\n",
       "      <td>-0.45347</td>\n",
       "      <td>-0.788655</td>\n",
       "    </tr>\n",
       "    <tr>\n",
       "      <td>3</td>\n",
       "      <td>0.371013</td>\n",
       "      <td>0.371013</td>\n",
       "      <td>0.458800</td>\n",
       "      <td>0.458800</td>\n",
       "      <td>0.014712</td>\n",
       "      <td>0.014712</td>\n",
       "      <td>0.014712</td>\n",
       "      <td>0.014712</td>\n",
       "      <td>0.014712</td>\n",
       "      <td>0.014712</td>\n",
       "      <td>...</td>\n",
       "      <td>-0.00321</td>\n",
       "      <td>0.0</td>\n",
       "      <td>-1.151287</td>\n",
       "      <td>-0.105837</td>\n",
       "      <td>-1.165737</td>\n",
       "      <td>-0.105657</td>\n",
       "      <td>-0.028724</td>\n",
       "      <td>-0.45347</td>\n",
       "      <td>-0.45347</td>\n",
       "      <td>-0.788655</td>\n",
       "    </tr>\n",
       "    <tr>\n",
       "      <td>4</td>\n",
       "      <td>2.620509</td>\n",
       "      <td>2.620509</td>\n",
       "      <td>0.166931</td>\n",
       "      <td>0.166931</td>\n",
       "      <td>0.014712</td>\n",
       "      <td>0.014712</td>\n",
       "      <td>0.014712</td>\n",
       "      <td>0.014712</td>\n",
       "      <td>0.014712</td>\n",
       "      <td>0.014712</td>\n",
       "      <td>...</td>\n",
       "      <td>-0.00321</td>\n",
       "      <td>0.0</td>\n",
       "      <td>-1.151287</td>\n",
       "      <td>-0.105837</td>\n",
       "      <td>-1.165737</td>\n",
       "      <td>-0.105657</td>\n",
       "      <td>-0.028724</td>\n",
       "      <td>-0.45347</td>\n",
       "      <td>-0.45347</td>\n",
       "      <td>-0.788655</td>\n",
       "    </tr>\n",
       "  </tbody>\n",
       "</table>\n",
       "<p>5 rows × 78 columns</p>\n",
       "</div>"
      ],
      "text/plain": [
       "          5         6         8         9        14        15        16  \\\n",
       "0 -1.527311 -1.527311 -0.883721 -0.883721  0.014712  0.014712  0.014712   \n",
       "1 -1.553062 -1.553062 -1.090489 -1.090489  0.014712  0.014712  0.014712   \n",
       "2  2.623799  2.623799  0.166931  0.166931  0.014712  0.014712  0.014712   \n",
       "3  0.371013  0.371013  0.458800  0.458800  0.014712  0.014712  0.014712   \n",
       "4  2.620509  2.620509  0.166931  0.166931  0.014712  0.014712  0.014712   \n",
       "\n",
       "         18        20        26  ...      133  138       140       141  \\\n",
       "0  0.014712  0.014712  0.014712  ... -0.00321  0.0 -1.151287 -0.105837   \n",
       "1  0.014712  0.014712  0.014712  ... -0.00321  0.0 -1.151287 -0.105837   \n",
       "2  0.014712  0.014712  0.014712  ... -0.00321  0.0 -1.151287 -0.105837   \n",
       "3  0.014712  0.014712  0.014712  ... -0.00321  0.0 -1.151287 -0.105837   \n",
       "4  0.014712  0.014712  0.014712  ... -0.00321  0.0 -1.151287 -0.105837   \n",
       "\n",
       "        142       143       144      145      146       154  \n",
       "0 -1.165737 -0.105657 -0.028724 -0.45347 -0.45347 -0.788655  \n",
       "1 -1.165737 -0.105657 -0.028724 -0.45347 -0.45347 -0.788655  \n",
       "2 -1.165737 -0.105657 -0.028724 -0.45347 -0.45347 -0.788655  \n",
       "3 -1.165737 -0.105657 -0.028724 -0.45347 -0.45347 -0.788655  \n",
       "4 -1.165737 -0.105657 -0.028724 -0.45347 -0.45347 -0.788655  \n",
       "\n",
       "[5 rows x 78 columns]"
      ]
     },
     "execution_count": 68,
     "metadata": {},
     "output_type": "execute_result"
    }
   ],
   "source": [
    "#dataframe powered gaussian \n",
    "\n",
    "PX2df = pd.DataFrame(poweredX2, columns= Xselected.columns)\n",
    "\n",
    "PX2df.head()\n"
   ]
  },
  {
   "cell_type": "code",
   "execution_count": 69,
   "metadata": {},
   "outputs": [
    {
     "data": {
      "text/html": [
       "<div>\n",
       "<style scoped>\n",
       "    .dataframe tbody tr th:only-of-type {\n",
       "        vertical-align: middle;\n",
       "    }\n",
       "\n",
       "    .dataframe tbody tr th {\n",
       "        vertical-align: top;\n",
       "    }\n",
       "\n",
       "    .dataframe thead th {\n",
       "        text-align: right;\n",
       "    }\n",
       "</style>\n",
       "<table border=\"1\" class=\"dataframe\">\n",
       "  <thead>\n",
       "    <tr style=\"text-align: right;\">\n",
       "      <th></th>\n",
       "      <th>5</th>\n",
       "      <th>6</th>\n",
       "      <th>8</th>\n",
       "      <th>9</th>\n",
       "      <th>14</th>\n",
       "      <th>15</th>\n",
       "      <th>16</th>\n",
       "      <th>18</th>\n",
       "      <th>20</th>\n",
       "      <th>26</th>\n",
       "      <th>...</th>\n",
       "      <th>133</th>\n",
       "      <th>138</th>\n",
       "      <th>140</th>\n",
       "      <th>141</th>\n",
       "      <th>142</th>\n",
       "      <th>143</th>\n",
       "      <th>144</th>\n",
       "      <th>145</th>\n",
       "      <th>146</th>\n",
       "      <th>154</th>\n",
       "    </tr>\n",
       "  </thead>\n",
       "  <tbody>\n",
       "    <tr>\n",
       "      <td>0</td>\n",
       "      <td>0.000064</td>\n",
       "      <td>0.000064</td>\n",
       "      <td>0.009150</td>\n",
       "      <td>0.009150</td>\n",
       "      <td>1.0</td>\n",
       "      <td>1.0</td>\n",
       "      <td>1.0</td>\n",
       "      <td>1.0</td>\n",
       "      <td>1.0</td>\n",
       "      <td>1.0</td>\n",
       "      <td>...</td>\n",
       "      <td>0.0</td>\n",
       "      <td>0.0</td>\n",
       "      <td>0.0</td>\n",
       "      <td>0.0</td>\n",
       "      <td>0.0</td>\n",
       "      <td>0.0</td>\n",
       "      <td>0.0</td>\n",
       "      <td>0.0</td>\n",
       "      <td>0.0</td>\n",
       "      <td>0.0</td>\n",
       "    </tr>\n",
       "    <tr>\n",
       "      <td>1</td>\n",
       "      <td>0.000012</td>\n",
       "      <td>0.000012</td>\n",
       "      <td>0.000000</td>\n",
       "      <td>0.000000</td>\n",
       "      <td>1.0</td>\n",
       "      <td>1.0</td>\n",
       "      <td>1.0</td>\n",
       "      <td>1.0</td>\n",
       "      <td>1.0</td>\n",
       "      <td>1.0</td>\n",
       "      <td>...</td>\n",
       "      <td>0.0</td>\n",
       "      <td>0.0</td>\n",
       "      <td>0.0</td>\n",
       "      <td>0.0</td>\n",
       "      <td>0.0</td>\n",
       "      <td>0.0</td>\n",
       "      <td>0.0</td>\n",
       "      <td>0.0</td>\n",
       "      <td>0.0</td>\n",
       "      <td>0.0</td>\n",
       "    </tr>\n",
       "    <tr>\n",
       "      <td>2</td>\n",
       "      <td>0.036308</td>\n",
       "      <td>0.036308</td>\n",
       "      <td>0.070588</td>\n",
       "      <td>0.070588</td>\n",
       "      <td>1.0</td>\n",
       "      <td>1.0</td>\n",
       "      <td>1.0</td>\n",
       "      <td>1.0</td>\n",
       "      <td>1.0</td>\n",
       "      <td>1.0</td>\n",
       "      <td>...</td>\n",
       "      <td>0.0</td>\n",
       "      <td>0.0</td>\n",
       "      <td>0.0</td>\n",
       "      <td>0.0</td>\n",
       "      <td>0.0</td>\n",
       "      <td>0.0</td>\n",
       "      <td>0.0</td>\n",
       "      <td>0.0</td>\n",
       "      <td>0.0</td>\n",
       "      <td>0.0</td>\n",
       "    </tr>\n",
       "    <tr>\n",
       "      <td>3</td>\n",
       "      <td>0.005238</td>\n",
       "      <td>0.005238</td>\n",
       "      <td>0.094771</td>\n",
       "      <td>0.094771</td>\n",
       "      <td>1.0</td>\n",
       "      <td>1.0</td>\n",
       "      <td>1.0</td>\n",
       "      <td>1.0</td>\n",
       "      <td>1.0</td>\n",
       "      <td>1.0</td>\n",
       "      <td>...</td>\n",
       "      <td>0.0</td>\n",
       "      <td>0.0</td>\n",
       "      <td>0.0</td>\n",
       "      <td>0.0</td>\n",
       "      <td>0.0</td>\n",
       "      <td>0.0</td>\n",
       "      <td>0.0</td>\n",
       "      <td>0.0</td>\n",
       "      <td>0.0</td>\n",
       "      <td>0.0</td>\n",
       "    </tr>\n",
       "    <tr>\n",
       "      <td>4</td>\n",
       "      <td>0.035887</td>\n",
       "      <td>0.035887</td>\n",
       "      <td>0.070588</td>\n",
       "      <td>0.070588</td>\n",
       "      <td>1.0</td>\n",
       "      <td>1.0</td>\n",
       "      <td>1.0</td>\n",
       "      <td>1.0</td>\n",
       "      <td>1.0</td>\n",
       "      <td>1.0</td>\n",
       "      <td>...</td>\n",
       "      <td>0.0</td>\n",
       "      <td>0.0</td>\n",
       "      <td>0.0</td>\n",
       "      <td>0.0</td>\n",
       "      <td>0.0</td>\n",
       "      <td>0.0</td>\n",
       "      <td>0.0</td>\n",
       "      <td>0.0</td>\n",
       "      <td>0.0</td>\n",
       "      <td>0.0</td>\n",
       "    </tr>\n",
       "  </tbody>\n",
       "</table>\n",
       "<p>5 rows × 78 columns</p>\n",
       "</div>"
      ],
      "text/plain": [
       "          5         6         8         9   14   15   16   18   20   26  ...  \\\n",
       "0  0.000064  0.000064  0.009150  0.009150  1.0  1.0  1.0  1.0  1.0  1.0  ...   \n",
       "1  0.000012  0.000012  0.000000  0.000000  1.0  1.0  1.0  1.0  1.0  1.0  ...   \n",
       "2  0.036308  0.036308  0.070588  0.070588  1.0  1.0  1.0  1.0  1.0  1.0  ...   \n",
       "3  0.005238  0.005238  0.094771  0.094771  1.0  1.0  1.0  1.0  1.0  1.0  ...   \n",
       "4  0.035887  0.035887  0.070588  0.070588  1.0  1.0  1.0  1.0  1.0  1.0  ...   \n",
       "\n",
       "   133  138  140  141  142  143  144  145  146  154  \n",
       "0  0.0  0.0  0.0  0.0  0.0  0.0  0.0  0.0  0.0  0.0  \n",
       "1  0.0  0.0  0.0  0.0  0.0  0.0  0.0  0.0  0.0  0.0  \n",
       "2  0.0  0.0  0.0  0.0  0.0  0.0  0.0  0.0  0.0  0.0  \n",
       "3  0.0  0.0  0.0  0.0  0.0  0.0  0.0  0.0  0.0  0.0  \n",
       "4  0.0  0.0  0.0  0.0  0.0  0.0  0.0  0.0  0.0  0.0  \n",
       "\n",
       "[5 rows x 78 columns]"
      ]
     },
     "execution_count": 69,
     "metadata": {},
     "output_type": "execute_result"
    }
   ],
   "source": [
    "# dataframe normalised range 0_1\n",
    "\n",
    "NX3df = pd.DataFrame(scaled0_1, columns= Xselected.columns)\n",
    "NX3df.head()"
   ]
  },
  {
   "cell_type": "code",
   "execution_count": 17,
   "metadata": {},
   "outputs": [
    {
     "data": {
      "text/plain": [
       "5       0.635083\n",
       "6       0.635083\n",
       "8       1.259153\n",
       "9       1.259153\n",
       "14    -67.957971\n",
       "         ...    \n",
       "143     9.370956\n",
       "144    34.786323\n",
       "145     1.751773\n",
       "146     1.751773\n",
       "154     1.512698\n",
       "Length: 78, dtype: float64"
      ]
     },
     "execution_count": 17,
     "metadata": {},
     "output_type": "execute_result"
    }
   ],
   "source": [
    "PX2df.skew()"
   ]
  },
  {
   "cell_type": "code",
   "execution_count": 18,
   "metadata": {},
   "outputs": [
    {
     "data": {
      "text/plain": [
       "2.899257065741918"
      ]
     },
     "execution_count": 18,
     "metadata": {},
     "output_type": "execute_result"
    }
   ],
   "source": [
    "np.median(PX2df.skew())"
   ]
  },
  {
   "cell_type": "code",
   "execution_count": 19,
   "metadata": {},
   "outputs": [],
   "source": [
    "norm_only = pd.DataFrame(normalizedX2, columns = Xselected.columns)\n",
    "Y.columns=['Y']\n",
    "\n",
    "norm_only=norm_only.join(Y)\n",
    "\n",
    "norm_csv = norm_only.to_csv (r'C:\\Users\\Student\\Git\\AML_project\\datasets\\norm_csv1.csv')"
   ]
  },
  {
   "cell_type": "code",
   "execution_count": 16,
   "metadata": {},
   "outputs": [
    {
     "name": "stderr",
     "output_type": "stream",
     "text": [
      "//anaconda3/lib/python3.7/site-packages/sklearn/ensemble/forest.py:245: FutureWarning: The default value of n_estimators will change from 10 in version 0.20 to 100 in 0.22.\n",
      "  \"10 in version 0.20 to 100 in 0.22.\", FutureWarning)\n"
     ]
    },
    {
     "name": "stdout",
     "output_type": "stream",
     "text": [
      "[1.46683053e-04 1.44753111e-04 2.57087328e-02 6.20081364e-03\n",
      " 7.17922335e-03 2.60043088e-02 7.96187770e-04 1.22918757e-02\n",
      " 2.86929585e-03 1.94407622e-02 4.85890449e-03 7.93487806e-03\n",
      " 3.82301415e-03 5.76690694e-02 3.95067171e-03 8.53429604e-02\n",
      " 4.26760771e-02 3.93406707e-03 4.38108764e-03 3.97311300e-03\n",
      " 4.71238906e-02 6.84741780e-02 1.14873360e-01 6.78534966e-02\n",
      " 6.65023685e-04 1.21909400e-02 3.47496423e-05 7.21235581e-02\n",
      " 1.17656527e-03 3.95934579e-04 1.86538298e-02 7.44230914e-04\n",
      " 1.18163921e-02 1.13073524e-03 1.03725265e-01 0.00000000e+00\n",
      " 0.00000000e+00 0.00000000e+00 0.00000000e+00 2.63329746e-02\n",
      " 1.69789347e-02 2.88547070e-03 9.19741024e-03 0.00000000e+00\n",
      " 4.72784712e-03 1.01329808e-04 3.09138123e-06 1.27258402e-04\n",
      " 8.20241353e-03 6.02941482e-03 9.29440280e-04 8.03445987e-03\n",
      " 2.14346358e-04 3.03964968e-04 0.00000000e+00 0.00000000e+00\n",
      " 9.98503969e-05 8.67584619e-04 1.28718949e-04 8.00554770e-04\n",
      " 1.38317759e-02 1.51326354e-07 1.47552776e-06 2.25664151e-03\n",
      " 6.45583634e-04 1.36221940e-05 5.96644733e-03 5.05832006e-03\n",
      " 0.00000000e+00 3.88582566e-03 4.82821353e-03 1.59299318e-02\n",
      " 1.37770816e-02 1.39264762e-03 1.20329095e-05 0.00000000e+00\n",
      " 0.00000000e+00 6.12655503e-03]\n"
     ]
    }
   ],
   "source": [
    "from sklearn.ensemble import ExtraTreesClassifier \n",
    "\n",
    "model=ExtraTreesClassifier()\n",
    "model.fit(normalizedX2,Y)\n",
    "print(model.feature_importances_)"
   ]
  },
  {
   "cell_type": "code",
   "execution_count": 17,
   "metadata": {},
   "outputs": [
    {
     "data": {
      "text/plain": [
       "[(0.01219093996790909, 25),\n",
       " (0.01229187571957056, 7),\n",
       " (0.013777081575558207, 72),\n",
       " (0.013831775934003145, 60),\n",
       " (0.015929931782349038, 71),\n",
       " (0.01697893468462412, 40),\n",
       " (0.018653829842577668, 30),\n",
       " (0.019440762208037015, 9),\n",
       " (0.0257087328408758, 2),\n",
       " (0.026004308777175914, 5),\n",
       " (0.026332974565077435, 39),\n",
       " (0.04267607710097668, 16),\n",
       " (0.047123890559416924, 20),\n",
       " (0.0576690694150867, 13),\n",
       " (0.06785349655130682, 23),\n",
       " (0.0684741779541135, 21),\n",
       " (0.07212355807733804, 27),\n",
       " (0.08534296040393936, 15),\n",
       " (0.10372526535181413, 34),\n",
       " (0.11487335975530161, 22)]"
      ]
     },
     "execution_count": 17,
     "metadata": {},
     "output_type": "execute_result"
    }
   ],
   "source": [
    "sorted((importance, col) for (col, importance) in enumerate(model.feature_importances_))[-20:]\n"
   ]
  },
  {
   "cell_type": "code",
   "execution_count": 46,
   "metadata": {},
   "outputs": [
    {
     "data": {
      "text/plain": [
       "'71'"
      ]
     },
     "execution_count": 46,
     "metadata": {},
     "output_type": "execute_result"
    }
   ],
   "source": [
    "norm_only.columns[25]"
   ]
  },
  {
   "cell_type": "markdown",
   "metadata": {},
   "source": [
    "# Datasets\n",
    "\n",
    "Reduced dataset (down to 78 features) by removing zero variance features - dataset 1\n",
    "\n",
    "- Xselected\n",
    "\n",
    "Dataset 1 + normalised the dataset by rescaling each row to add up to length one - dataset 2\n",
    "\n",
    "- NX2df\n",
    "\n",
    "Dataset 1 + rescaling each feature between 0 to 1 - dataset 3\n",
    "\n",
    "- NX3df \n",
    "\n",
    "Dataset 1 + transform the datset to be gaussian like (mean=0 abd s.d=1) - dataset 4\n",
    "\n",
    "- PX2df"
   ]
  },
  {
   "cell_type": "markdown",
   "metadata": {},
   "source": [
    "# CatBoost & XgBoost classifier with Kbest feature selection on dataset 1"
   ]
  },
  {
   "cell_type": "code",
   "execution_count": 18,
   "metadata": {},
   "outputs": [],
   "source": [
    "import numpy as np\n",
    "import scipy\n",
    "import pandas as pd\n",
    "import sklearn\n",
    "from sklearn.feature_selection import SelectKBest\n",
    "from sklearn.feature_selection import chi2\n",
    "from sklearn.model_selection import cross_validate\n",
    "from numpy import random, arange\n",
    "from xgboost import XGBClassifier"
   ]
  },
  {
   "cell_type": "code",
   "execution_count": 164,
   "metadata": {},
   "outputs": [
    {
     "name": "stdout",
     "output_type": "stream",
     "text": [
      "   feature         Score\n",
      "25      71  32124.682195\n",
      "16      51  28936.000138\n",
      "22      67  28321.490224\n",
      "13      47  24346.021809\n",
      "77     154  13311.733744\n",
      "15      50  12317.666392\n",
      "2        8  12076.290588\n",
      "3        9  12076.290588\n",
      "23      68   7911.296191\n",
      "34      82   7720.479234\n"
     ]
    }
   ],
   "source": [
    "Xtrain, Ytrain = Xselected, Y\n",
    "#apply SelectKBest class to extract top 10 best features\n",
    "bestfeatures = SelectKBest(score_func=chi2, k=10)\n",
    "fit = bestfeatures.fit(Xtrain,Ytrain)\n",
    "dfscores = pd.DataFrame(fit.scores_)\n",
    "dfcolumns = pd.DataFrame(Xtrain.columns)\n",
    "#concat two dataframes for better visualization \n",
    "featureScores = pd.concat([dfcolumns,dfscores],axis=1)\n",
    " #naming the dataframe columns\n",
    "featureScores.columns = ['feature','Score'] \n",
    " #print 10 best features\n",
    "print(featureScores.nlargest(10,'Score')) "
   ]
  },
  {
   "cell_type": "code",
   "execution_count": 166,
   "metadata": {},
   "outputs": [],
   "source": [
    "selected_features = set((25,16,22,13,77,15,2,3,23,34))\n",
    "import numpy \n",
    "X_top_features = Xselected.iloc[:, list(selected_features)]\n",
    "indexes = numpy.arange(Ytrain.shape[0])\n",
    "numpy.random.shuffle(indexes)\n",
    "X_cv = X_top_features.iloc[indexes,:]\n",
    "Y_cv = Ytrain.iloc[indexes]"
   ]
  },
  {
   "cell_type": "markdown",
   "metadata": {},
   "source": [
    "# Catboost classifier"
   ]
  },
  {
   "cell_type": "code",
   "execution_count": 167,
   "metadata": {},
   "outputs": [
    {
     "data": {
      "text/plain": [
       "{'fit_time': array([16.88924599, 18.57903004, 19.61032724, 16.98861003, 17.83964992]),\n",
       " 'score_time': array([0.01466632, 0.0195148 , 0.01424694, 0.01427627, 0.0139029 ]),\n",
       " 'test_score': array([0.99953632, 0.9994848 , 0.99963932, 0.99948475, 0.99969085])}"
      ]
     },
     "execution_count": 167,
     "metadata": {},
     "output_type": "execute_result"
    }
   ],
   "source": [
    "indexes =  arange(Ytrain.shape[0])\n",
    "numpy.random.shuffle(indexes)\n",
    "X_cv = X_top_features.iloc[indexes,:]\n",
    "Y_cv = Ytrain.iloc[indexes]\n",
    "\n",
    "cb = CatBoostClassifier(verbose=False, early_stopping_rounds=50)\n",
    "cb_cv = cross_validate(cb, X_cv, Y_cv, cv=5, scoring=\"accuracy\")\n",
    "cb_cv"
   ]
  },
  {
   "cell_type": "markdown",
   "metadata": {},
   "source": [
    "# XgBoost Classifier"
   ]
  },
  {
   "cell_type": "code",
   "execution_count": 168,
   "metadata": {},
   "outputs": [
    {
     "data": {
      "text/plain": [
       "{'fit_time': array([2.38882828, 2.80635309, 2.65520096, 2.61705399, 2.46459889]),\n",
       " 'score_time': array([0.0297358 , 0.03513479, 0.03065014, 0.03140807, 0.03049994]),\n",
       " 'test_score': array([0.99783617, 0.99835137, 0.99773289, 0.99762984, 0.99824815])}"
      ]
     },
     "execution_count": 168,
     "metadata": {},
     "output_type": "execute_result"
    }
   ],
   "source": [
    "gb = XGBClassifier(verbosity=0)\n",
    "gb_cv = cross_validate(gb, X_cv, Y_cv, cv=5, scoring=\"accuracy\")\n",
    "gb_cv"
   ]
  },
  {
   "cell_type": "markdown",
   "metadata": {},
   "source": [
    "# CatBoost & XgBoost classifier with Kbest feature selection on dataset 2"
   ]
  },
  {
   "cell_type": "code",
   "execution_count": 231,
   "metadata": {},
   "outputs": [
    {
     "name": "stdout",
     "output_type": "stream",
     "text": [
      "   feature        Score\n",
      "25      71  7372.324026\n",
      "22      67  6638.208530\n",
      "16      51  6420.835610\n",
      "13      47  5284.319604\n",
      "77     154  2702.397952\n",
      "15      50  2624.375281\n",
      "2        8  2425.541023\n",
      "3        9  2425.541023\n",
      "23      68  2162.037565\n",
      "27      73  1818.607457\n"
     ]
    }
   ],
   "source": [
    "Xtrain, Ytrain = NX2df, Y\n",
    "#apply SelectKBest class to extract top 10 best features\n",
    "bestfeatures = SelectKBest(score_func=chi2, k=10)\n",
    "fit = bestfeatures.fit(Xtrain,Ytrain)\n",
    "dfscores = pd.DataFrame(fit.scores_)\n",
    "dfcolumns = pd.DataFrame(Xtrain.columns)\n",
    "#concat two dataframes for better visualization \n",
    "featureScores = pd.concat([dfcolumns,dfscores],axis=1)\n",
    " #naming the dataframe columns\n",
    "featureScores.columns = ['feature','Score'] \n",
    " #print 10 best features\n",
    "print(featureScores.nlargest(10,'Score'))"
   ]
  },
  {
   "cell_type": "code",
   "execution_count": 136,
   "metadata": {},
   "outputs": [],
   "source": [
    "selected_features = set((25,16,22,13,77,15,2,3,23,27))\n",
    "X_top_features = NX2df.iloc[:, list(selected_features)]\n",
    "indexes = numpy.arange(Ytrain.shape[0])\n",
    "numpy.random.shuffle(indexes)\n",
    "X_cv = X_top_features.iloc[indexes,:]\n",
    "Y_cv = Ytrain.iloc[indexes]"
   ]
  },
  {
   "cell_type": "markdown",
   "metadata": {},
   "source": [
    "# CatBoost Classifier dataset 2"
   ]
  },
  {
   "cell_type": "code",
   "execution_count": 137,
   "metadata": {},
   "outputs": [
    {
     "data": {
      "text/plain": [
       "{'fit_time': array([19.48945689, 20.40593696, 18.60622501, 19.67188191, 21.3007338 ]),\n",
       " 'score_time': array([0.01459622, 0.01379013, 0.01371908, 0.01435018, 0.01378512]),\n",
       " 'test_score': array([0.99747553, 0.99726945, 0.99701154, 0.99690849, 0.99696002])}"
      ]
     },
     "execution_count": 137,
     "metadata": {},
     "output_type": "execute_result"
    }
   ],
   "source": [
    "cb = CatBoostClassifier(verbose=False, early_stopping_rounds=50)\n",
    "cb_cv = cross_validate(cb, X_cv, Y_cv, cv=5, scoring=\"accuracy\")\n",
    "cb_cv"
   ]
  },
  {
   "cell_type": "markdown",
   "metadata": {},
   "source": [
    "# XgBoost Classifier dataset 2 "
   ]
  },
  {
   "cell_type": "code",
   "execution_count": 138,
   "metadata": {},
   "outputs": [
    {
     "data": {
      "text/plain": [
       "{'fit_time': array([4.14661694, 4.41106415, 4.12002206, 4.19900227, 4.16188002]),\n",
       " 'score_time': array([0.03509212, 0.03049994, 0.03502893, 0.03120995, 0.03449702]),\n",
       " 'test_score': array([0.99690881, 0.99696033, 0.99634171, 0.99654782, 0.99690849])}"
      ]
     },
     "execution_count": 138,
     "metadata": {},
     "output_type": "execute_result"
    }
   ],
   "source": [
    "gb = XGBClassifier(verbosity=0)\n",
    "gb_cv = cross_validate(gb, X_cv, Y_cv, cv=5, scoring=\"accuracy\")\n",
    "gb_cv"
   ]
  },
  {
   "cell_type": "markdown",
   "metadata": {},
   "source": [
    "# CatBoost & XgBoost classifier with Kbest feature selection on dataset 3"
   ]
  },
  {
   "cell_type": "code",
   "execution_count": 139,
   "metadata": {},
   "outputs": [
    {
     "name": "stdout",
     "output_type": "stream",
     "text": [
      "   feature         Score\n",
      "25      71  32124.682195\n",
      "16      51  28936.000138\n",
      "22      67  28321.490224\n",
      "13      47  24346.021809\n",
      "77     154  13311.733744\n",
      "15      50  12317.666392\n",
      "2        8  12076.290588\n",
      "3        9  12076.290588\n",
      "23      68   7911.296191\n",
      "34      82   7720.479234\n"
     ]
    }
   ],
   "source": [
    "Xtrain, Ytrain = NX3df, Y\n",
    "#apply SelectKBest class to extract top 10 best features\n",
    "bestfeatures = SelectKBest(score_func=chi2, k=10)\n",
    "fit = bestfeatures.fit(Xtrain,Ytrain)\n",
    "dfscores = pd.DataFrame(fit.scores_)\n",
    "dfcolumns = pd.DataFrame(Xtrain.columns)\n",
    "#concat two dataframes for better visualization \n",
    "featureScores = pd.concat([dfcolumns,dfscores],axis=1)\n",
    " #naming the dataframe columns\n",
    "featureScores.columns = ['feature','Score'] \n",
    " #print 10 best features\n",
    "print(featureScores.nlargest(10,'Score'))"
   ]
  },
  {
   "cell_type": "code",
   "execution_count": 140,
   "metadata": {},
   "outputs": [],
   "source": [
    "selected_features = set((25,16,22,13,77,15,2,3,23,34))\n",
    "X_top_features = NX3df.iloc[:, list(selected_features)]\n",
    "indexes = numpy.arange(Ytrain.shape[0])\n",
    "numpy.random.shuffle(indexes)\n",
    "X_cv = X_top_features.iloc[indexes,:]\n",
    "Y_cv = Ytrain.iloc[indexes]"
   ]
  },
  {
   "cell_type": "markdown",
   "metadata": {},
   "source": [
    "# CatBoost Classifier dataset 3"
   ]
  },
  {
   "cell_type": "code",
   "execution_count": 141,
   "metadata": {},
   "outputs": [
    {
     "data": {
      "text/plain": [
       "{'fit_time': array([18.59923005, 16.90425181, 16.79899788, 17.6864748 , 18.00517201]),\n",
       " 'score_time': array([0.01949787, 0.0240171 , 0.01366305, 0.01427627, 0.01497293]),\n",
       " 'test_score': array([0.9997424 , 0.9997424 , 0.99953627, 0.99969085, 0.9991756 ])}"
      ]
     },
     "execution_count": 141,
     "metadata": {},
     "output_type": "execute_result"
    }
   ],
   "source": [
    "cb = CatBoostClassifier(verbose=False, early_stopping_rounds=50)\n",
    "cb_cv = cross_validate(cb, X_cv, Y_cv, cv=5, scoring=\"accuracy\")\n",
    "cb_cv"
   ]
  },
  {
   "cell_type": "markdown",
   "metadata": {},
   "source": [
    "# XgBoost Classifier dataset 3"
   ]
  },
  {
   "cell_type": "code",
   "execution_count": 143,
   "metadata": {},
   "outputs": [
    {
     "data": {
      "text/plain": [
       "{'fit_time': array([2.54442596, 2.60541296, 2.54903793, 2.38389492, 2.48685789]),\n",
       " 'score_time': array([0.03097701, 0.03572512, 0.02722311, 0.03145814, 0.026968  ]),\n",
       " 'test_score': array([0.99804225, 0.99783617, 0.99778442, 0.99809357, 0.99747527])}"
      ]
     },
     "execution_count": 143,
     "metadata": {},
     "output_type": "execute_result"
    }
   ],
   "source": [
    "gb = XGBClassifier(verbosity=0)\n",
    "gb_cv = cross_validate(gb, X_cv, Y_cv, cv=5, scoring=\"accuracy\")\n",
    "gb_cv"
   ]
  },
  {
   "cell_type": "markdown",
   "metadata": {},
   "source": [
    "# CatBoost & XgBoost classifier with Kbest feature selection (F-Score because we have negative values) on dataset 4"
   ]
  },
  {
   "cell_type": "code",
   "execution_count": 159,
   "metadata": {},
   "outputs": [
    {
     "name": "stdout",
     "output_type": "stream",
     "text": [
      "   feature          Score\n",
      "22      67  269542.333666\n",
      "32      79  163819.390690\n",
      "25      71   97844.145325\n",
      "13      47   78746.577388\n",
      "15      50   71820.406311\n",
      "16      51   71691.363749\n",
      "29      76   67959.074904\n",
      "28      75   58056.238169\n",
      "23      68   39952.836596\n",
      "0        5   38924.936512\n"
     ]
    }
   ],
   "source": [
    "from sklearn import feature_selection\n",
    "Xtrain, Ytrain = PX2df, Y\n",
    "#apply SelectKBest class to extract top 10 best features\n",
    "bestfeatures = SelectKBest(k=10)\n",
    "fit = bestfeatures.fit(Xtrain,Ytrain)\n",
    "dfscores = pd.DataFrame(fit.scores_)\n",
    "dfcolumns = pd.DataFrame(Xtrain.columns)\n",
    "#concat two dataframes for better visualization \n",
    "featureScores = pd.concat([dfcolumns,dfscores],axis=1)\n",
    " #naming the dataframe columns\n",
    "featureScores.columns = ['feature','Score'] \n",
    " #print 10 best features\n",
    "print(featureScores.nlargest(10,'Score'))"
   ]
  },
  {
   "cell_type": "code",
   "execution_count": 160,
   "metadata": {},
   "outputs": [],
   "source": [
    "selected_features = set((22,32,25,13,16,15,29,28,23,0))\n",
    "X_top_features = PX2df.iloc[:, list(selected_features)]\n",
    "indexes = numpy.arange(Ytrain.shape[0])\n",
    "numpy.random.shuffle(indexes)\n",
    "X_cv = X_top_features.iloc[indexes,:]\n",
    "Y_cv = Ytrain.iloc[indexes]"
   ]
  },
  {
   "cell_type": "markdown",
   "metadata": {},
   "source": [
    "# CatBoost Classifier dataset 4"
   ]
  },
  {
   "cell_type": "code",
   "execution_count": 161,
   "metadata": {},
   "outputs": [
    {
     "data": {
      "text/plain": [
       "{'fit_time': array([20.41070414, 18.77909589, 16.35451603, 21.41363525, 18.47896409]),\n",
       " 'score_time': array([0.01422501, 0.01888609, 0.0143249 , 0.0139761 , 0.01378512]),\n",
       " 'test_score': array([0.98892324, 0.98887172, 0.98753092, 0.98881904, 0.98825227])}"
      ]
     },
     "execution_count": 161,
     "metadata": {},
     "output_type": "execute_result"
    }
   ],
   "source": [
    "cb = CatBoostClassifier(verbose=False, early_stopping_rounds=50)\n",
    "cb_cv = cross_validate(cb, X_cv, Y_cv, cv=5, scoring=\"accuracy\")\n",
    "cb_cv"
   ]
  },
  {
   "cell_type": "markdown",
   "metadata": {},
   "source": [
    "# XgBoost Classifier dataset 4"
   ]
  },
  {
   "cell_type": "code",
   "execution_count": 162,
   "metadata": {},
   "outputs": [
    {
     "data": {
      "text/plain": [
       "{'fit_time': array([2.50444603, 2.47596002, 2.46800709, 2.4801631 , 2.45774913]),\n",
       " 'score_time': array([0.03327894, 0.03611183, 0.03575087, 0.03327203, 0.0341959 ]),\n",
       " 'test_score': array([0.9867594 , 0.98578053, 0.98495466, 0.98670651, 0.98650041])}"
      ]
     },
     "execution_count": 162,
     "metadata": {},
     "output_type": "execute_result"
    }
   ],
   "source": [
    "gb = XGBClassifier(verbosity=0)\n",
    "gb_cv = cross_validate(gb, X_cv, Y_cv, cv=5, scoring=\"accuracy\")\n",
    "gb_cv"
   ]
  },
  {
   "cell_type": "markdown",
   "metadata": {},
   "source": [
    "# Random Forest Classifier with SelectKBest and all the four datasets "
   ]
  },
  {
   "cell_type": "code",
   "execution_count": 215,
   "metadata": {},
   "outputs": [],
   "source": [
    "from sklearn.ensemble import RandomForestClassifier"
   ]
  },
  {
   "cell_type": "markdown",
   "metadata": {},
   "source": [
    "# SelectKbest on the test set so we can test our models on them to get a more clear indication of our accuracy"
   ]
  },
  {
   "cell_type": "code",
   "execution_count": 28,
   "metadata": {
    "scrolled": true
   },
   "outputs": [
    {
     "name": "stdout",
     "output_type": "stream",
     "text": [
      "   feature          Score\n",
      "66      69  253612.537678\n",
      "72      75  103422.563125\n",
      "64      67   60099.740490\n",
      "76      79   54602.096207\n",
      "35      38   53382.778304\n",
      "47      50   50860.969206\n",
      "48      51   50711.492888\n",
      "44      47   34731.734788\n",
      "78      81   24655.530821\n",
      "5        8   12670.064665\n"
     ]
    },
    {
     "name": "stderr",
     "output_type": "stream",
     "text": [
      "//anaconda3/lib/python3.7/site-packages/sklearn/feature_selection/univariate_selection.py:114: UserWarning: Features [  0   1   2   7   8   9  10  14  16  18  19  20  21  22  24  25  27  28\n",
      "  29  30  31  32  33  34  36  37  38  39  41  42  43  46  50  51  52  53\n",
      "  54  55  56  57  60  62  71  80  81  82  83  84  85  88  89  92  93  94\n",
      "  96  97  98  99 100 110 111 112 113 114 121 128 129 130 131 132 133 134\n",
      " 135 136 144 146 147 148 149 150] are constant.\n",
      "  UserWarning)\n",
      "//anaconda3/lib/python3.7/site-packages/sklearn/feature_selection/univariate_selection.py:115: RuntimeWarning: invalid value encountered in true_divide\n",
      "  f = msb / msw\n"
     ]
    }
   ],
   "source": [
    "from sklearn import feature_selection\n",
    "#apply SelectKBest class to extract top 10 best features\n",
    "bestfeatures = SelectKBest(k=10)\n",
    "fit = bestfeatures.fit(Xtest,Ytest)\n",
    "dfscores = pd.DataFrame(fit.scores_)\n",
    "dfcolumns = pd.DataFrame(Xtest.columns)\n",
    "#concat two dataframes for better visualization \n",
    "featureScores = pd.concat([dfcolumns,dfscores],axis=1)\n",
    " #naming the dataframe columns\n",
    "featureScores.columns = ['feature','Score'] \n",
    " #print 10 best features\n",
    "print(featureScores.nlargest(10,'Score'))"
   ]
  },
  {
   "cell_type": "code",
   "execution_count": 29,
   "metadata": {},
   "outputs": [],
   "source": [
    "selected_features = set((66,72,64,76,35,47,48,44,78,5))\n",
    "X_top_features = Xtest.iloc[:, list(selected_features)]\n",
    "indexes = numpy.arange(Ytest.shape[0])\n",
    "numpy.random.shuffle(indexes)\n",
    "Xtest_cv = X_top_features.iloc[indexes,:]\n",
    "Ytest_cv = Ytest.iloc[indexes]"
   ]
  },
  {
   "cell_type": "markdown",
   "metadata": {},
   "source": [
    "# Random Forest classifier Dataset 1"
   ]
  },
  {
   "cell_type": "code",
   "execution_count": 224,
   "metadata": {},
   "outputs": [
    {
     "name": "stdout",
     "output_type": "stream",
     "text": [
      "   feature         Score\n",
      "25      71  32124.682195\n",
      "16      51  28936.000138\n",
      "22      67  28321.490224\n",
      "13      47  24346.021809\n",
      "77     154  13311.733744\n",
      "15      50  12317.666392\n",
      "2        8  12076.290588\n",
      "3        9  12076.290588\n",
      "23      68   7911.296191\n",
      "34      82   7720.479234\n"
     ]
    }
   ],
   "source": [
    "Xtrain, Ytrain = Xselected, Y\n",
    "#apply SelectKBest class to extract top 10 best features\n",
    "bestfeatures = SelectKBest(score_func=chi2, k=10)\n",
    "fit = bestfeatures.fit(Xtrain,Ytrain)\n",
    "dfscores = pd.DataFrame(fit.scores_)\n",
    "dfcolumns = pd.DataFrame(Xtrain.columns)\n",
    "#concat two dataframes for better visualization \n",
    "featureScores = pd.concat([dfcolumns,dfscores],axis=1)\n",
    " #naming the dataframe columns\n",
    "featureScores.columns = ['feature','Score'] \n",
    " #print 10 best features\n",
    "print(featureScores.nlargest(10,'Score')) "
   ]
  },
  {
   "cell_type": "code",
   "execution_count": 225,
   "metadata": {},
   "outputs": [],
   "source": [
    "selected_features = set((25,16,22,13,77,15,2,3,23,34))\n",
    "import numpy \n",
    "X_top_features = Xselected.iloc[:, list(selected_features)]\n",
    "indexes = numpy.arange(Ytrain.shape[0])\n",
    "numpy.random.shuffle(indexes)\n",
    "X_cv = X_top_features.iloc[indexes,:]\n",
    "Y_cv = Ytrain.iloc[indexes]"
   ]
  },
  {
   "cell_type": "code",
   "execution_count": 226,
   "metadata": {},
   "outputs": [
    {
     "name": "stdout",
     "output_type": "stream",
     "text": [
      "Accuracy: 0.5\n"
     ]
    }
   ],
   "source": [
    "from sklearn.ensemble import RandomForestClassifier\n",
    "\n",
    "#Create a Gaussian Classifier\n",
    "clf=RandomForestClassifier(n_estimators=100)\n",
    "\n",
    "#Train the model using the training sets y_pred=clf.predict(X_test)\n",
    "clf.fit(X_cv,Y_cv)\n",
    "\n",
    "# prediction on test set\n",
    "y_pred=clf.predict(Xtest_cv)\n",
    "\n",
    "#Import scikit-learn metrics module for accuracy calculation\n",
    "from sklearn import metrics\n",
    "# Model Accuracy, how often is the classifier correct?\n",
    "print(\"Accuracy:\",metrics.accuracy_score(Ytest_cv, y_pred))"
   ]
  },
  {
   "cell_type": "markdown",
   "metadata": {},
   "source": [
    "# Random Forest classifier Dataset 2"
   ]
  },
  {
   "cell_type": "code",
   "execution_count": 230,
   "metadata": {},
   "outputs": [
    {
     "name": "stdout",
     "output_type": "stream",
     "text": [
      "   feature        Score\n",
      "25      71  7372.324026\n",
      "22      67  6638.208530\n",
      "16      51  6420.835610\n",
      "13      47  5284.319604\n",
      "77     154  2702.397952\n",
      "15      50  2624.375281\n",
      "2        8  2425.541023\n",
      "3        9  2425.541023\n",
      "23      68  2162.037565\n",
      "27      73  1818.607457\n"
     ]
    }
   ],
   "source": [
    "Xtrain, Ytrain = NX2df, Y\n",
    "#apply SelectKBest class to extract top 10 best features\n",
    "bestfeatures = SelectKBest(score_func=chi2, k=10)\n",
    "fit = bestfeatures.fit(Xtrain,Ytrain)\n",
    "dfscores = pd.DataFrame(fit.scores_)\n",
    "dfcolumns = pd.DataFrame(Xtrain.columns)\n",
    "#concat two dataframes for better visualization \n",
    "featureScores = pd.concat([dfcolumns,dfscores],axis=1)\n",
    " #naming the dataframe columns\n",
    "featureScores.columns = ['feature','Score'] \n",
    " #print 10 best features\n",
    "print(featureScores.nlargest(10,'Score'))"
   ]
  },
  {
   "cell_type": "code",
   "execution_count": 232,
   "metadata": {},
   "outputs": [],
   "source": [
    "selected_features = set((25,16,22,13,77,15,2,3,23,27))\n",
    "X_top_features = NX2df.iloc[:, list(selected_features)]\n",
    "indexes = numpy.arange(Ytrain.shape[0])\n",
    "numpy.random.shuffle(indexes)\n",
    "X_cv = X_top_features.iloc[indexes,:]\n",
    "Y_cv = Ytrain.iloc[indexes]"
   ]
  },
  {
   "cell_type": "code",
   "execution_count": 233,
   "metadata": {},
   "outputs": [
    {
     "name": "stdout",
     "output_type": "stream",
     "text": [
      "Accuracy: 0.5\n"
     ]
    }
   ],
   "source": [
    "#Create a Gaussian Classifier\n",
    "clf=RandomForestClassifier(n_estimators=100)\n",
    "\n",
    "#Train the model using the training sets y_pred=clf.predict(X_test)\n",
    "clf.fit(X_cv,Y_cv)\n",
    "\n",
    "# prediction on test set\n",
    "y_pred=clf.predict(Xtest_cv)\n",
    "\n",
    "#Import scikit-learn metrics module for accuracy calculation\n",
    "from sklearn import metrics\n",
    "# Model Accuracy, how often is the classifier correct?\n",
    "print(\"Accuracy:\",metrics.accuracy_score(Ytest_cv, y_pred))"
   ]
  },
  {
   "cell_type": "markdown",
   "metadata": {},
   "source": [
    "# Random Forest classifier Dataset 3"
   ]
  },
  {
   "cell_type": "code",
   "execution_count": 235,
   "metadata": {},
   "outputs": [
    {
     "name": "stdout",
     "output_type": "stream",
     "text": [
      "   feature         Score\n",
      "25      71  32124.682195\n",
      "16      51  28936.000138\n",
      "22      67  28321.490224\n",
      "13      47  24346.021809\n",
      "77     154  13311.733744\n",
      "15      50  12317.666392\n",
      "2        8  12076.290588\n",
      "3        9  12076.290588\n",
      "23      68   7911.296191\n",
      "34      82   7720.479234\n"
     ]
    }
   ],
   "source": [
    "Xtrain, Ytrain = NX3df, Y\n",
    "#apply SelectKBest class to extract top 10 best features\n",
    "bestfeatures = SelectKBest(score_func=chi2, k=10)\n",
    "fit = bestfeatures.fit(Xtrain,Ytrain)\n",
    "dfscores = pd.DataFrame(fit.scores_)\n",
    "dfcolumns = pd.DataFrame(Xtrain.columns)\n",
    "#concat two dataframes for better visualization \n",
    "featureScores = pd.concat([dfcolumns,dfscores],axis=1)\n",
    " #naming the dataframe columns\n",
    "featureScores.columns = ['feature','Score'] \n",
    " #print 10 best features\n",
    "print(featureScores.nlargest(10,'Score'))"
   ]
  },
  {
   "cell_type": "code",
   "execution_count": 236,
   "metadata": {},
   "outputs": [],
   "source": [
    "selected_features = set((25,16,22,13,77,15,2,3,23,34))\n",
    "X_top_features = NX3df.iloc[:, list(selected_features)]\n",
    "indexes = numpy.arange(Ytrain.shape[0])\n",
    "numpy.random.shuffle(indexes)\n",
    "X_cv = X_top_features.iloc[indexes,:]\n",
    "Y_cv = Ytrain.iloc[indexes]"
   ]
  },
  {
   "cell_type": "code",
   "execution_count": 237,
   "metadata": {},
   "outputs": [
    {
     "name": "stdout",
     "output_type": "stream",
     "text": [
      "Accuracy: 0.5\n"
     ]
    }
   ],
   "source": [
    "#Create a Gaussian Classifier\n",
    "clf=RandomForestClassifier(n_estimators=100)\n",
    "\n",
    "#Train the model using the training sets y_pred=clf.predict(X_test)\n",
    "clf.fit(X_cv,Y_cv)\n",
    "\n",
    "# prediction on test set\n",
    "y_pred=clf.predict(Xtest_cv)\n",
    "\n",
    "#Import scikit-learn metrics module for accuracy calculation\n",
    "from sklearn import metrics\n",
    "# Model Accuracy, how often is the classifier correct?\n",
    "print(\"Accuracy:\",metrics.accuracy_score(Ytest_cv, y_pred))"
   ]
  },
  {
   "cell_type": "markdown",
   "metadata": {},
   "source": [
    "# Random Forest classifier Dataset 4"
   ]
  },
  {
   "cell_type": "code",
   "execution_count": 19,
   "metadata": {},
   "outputs": [
    {
     "name": "stdout",
     "output_type": "stream",
     "text": [
      "   feature          Score\n",
      "22      67  269542.333666\n",
      "32      79  163819.390690\n",
      "25      71   97844.145325\n",
      "13      47   78746.577388\n",
      "15      50   71820.406311\n",
      "16      51   71691.363749\n",
      "29      76   67959.074904\n",
      "28      75   58056.238169\n",
      "23      68   39952.836596\n",
      "0        5   38924.936512\n"
     ]
    }
   ],
   "source": [
    "Xtrain, Ytrain = PX2df, Y\n",
    "#apply SelectKBest class to extract top 10 best features\n",
    "bestfeatures = SelectKBest(k=10)\n",
    "fit = bestfeatures.fit(Xtrain,Ytrain)\n",
    "dfscores = pd.DataFrame(fit.scores_)\n",
    "dfcolumns = pd.DataFrame(Xtrain.columns)\n",
    "#concat two dataframes for better visualization \n",
    "featureScores = pd.concat([dfcolumns,dfscores],axis=1)\n",
    " #naming the dataframe columns\n",
    "featureScores.columns = ['feature','Score'] \n",
    " #print 10 best features\n",
    "print(featureScores.nlargest(10,'Score'))"
   ]
  },
  {
   "cell_type": "code",
   "execution_count": 22,
   "metadata": {},
   "outputs": [],
   "source": [
    "import numpy\n",
    "selected_features = set((22,32,25,13,16,15,29,28,23,0))\n",
    "X_top_features = PX2df.iloc[:, list(selected_features)]\n",
    "indexes = numpy.arange(Ytrain.shape[0])\n",
    "numpy.random.shuffle(indexes)\n",
    "X_cv = X_top_features.iloc[indexes,:]\n",
    "Y_cv = Ytrain.iloc[indexes]"
   ]
  },
  {
   "cell_type": "code",
   "execution_count": 23,
   "metadata": {},
   "outputs": [
    {
     "ename": "NameError",
     "evalue": "name 'RandomForestClassifier' is not defined",
     "output_type": "error",
     "traceback": [
      "\u001b[0;31m---------------------------------------------------------------------------\u001b[0m",
      "\u001b[0;31mNameError\u001b[0m                                 Traceback (most recent call last)",
      "\u001b[0;32m<ipython-input-23-554f27e98885>\u001b[0m in \u001b[0;36m<module>\u001b[0;34m\u001b[0m\n\u001b[1;32m      1\u001b[0m \u001b[0;31m#Create a Gaussian Classifier\u001b[0m\u001b[0;34m\u001b[0m\u001b[0;34m\u001b[0m\u001b[0;34m\u001b[0m\u001b[0m\n\u001b[0;32m----> 2\u001b[0;31m \u001b[0mclf\u001b[0m\u001b[0;34m=\u001b[0m\u001b[0mRandomForestClassifier\u001b[0m\u001b[0;34m(\u001b[0m\u001b[0mn_estimators\u001b[0m\u001b[0;34m=\u001b[0m\u001b[0;36m100\u001b[0m\u001b[0;34m)\u001b[0m\u001b[0;34m\u001b[0m\u001b[0;34m\u001b[0m\u001b[0m\n\u001b[0m\u001b[1;32m      3\u001b[0m \u001b[0;34m\u001b[0m\u001b[0m\n\u001b[1;32m      4\u001b[0m \u001b[0;31m#Train the model using the training sets y_pred=clf.predict(X_test)\u001b[0m\u001b[0;34m\u001b[0m\u001b[0;34m\u001b[0m\u001b[0;34m\u001b[0m\u001b[0m\n\u001b[1;32m      5\u001b[0m \u001b[0mclf\u001b[0m\u001b[0;34m.\u001b[0m\u001b[0mfit\u001b[0m\u001b[0;34m(\u001b[0m\u001b[0mX_cv\u001b[0m\u001b[0;34m,\u001b[0m\u001b[0mY_cv\u001b[0m\u001b[0;34m)\u001b[0m\u001b[0;34m\u001b[0m\u001b[0;34m\u001b[0m\u001b[0m\n",
      "\u001b[0;31mNameError\u001b[0m: name 'RandomForestClassifier' is not defined"
     ]
    }
   ],
   "source": [
    "#Create a Gaussian Classifier\n",
    "clf=RandomForestClassifier(n_estimators=100)\n",
    "\n",
    "#Train the model using the training sets y_pred=clf.predict(X_test)\n",
    "clf.fit(X_cv,Y_cv)\n",
    "\n",
    "# prediction on test set\n",
    "y_pred=clf.predict(Xtest_cv)\n",
    "\n",
    "#Import scikit-learn metrics module for accuracy calculation\n",
    "from sklearn import metrics\n",
    "# Model Accuracy, how often is the classifier correct?\n",
    "print(\"Accuracy:\",metrics.accuracy_score(Ytest_cv, y_pred))"
   ]
  },
  {
   "cell_type": "markdown",
   "metadata": {},
   "source": [
    "# Naive Bayes classifier with SelectKBest"
   ]
  },
  {
   "cell_type": "code",
   "execution_count": 36,
   "metadata": {},
   "outputs": [
    {
     "name": "stdout",
     "output_type": "stream",
     "text": [
      "   feature          Score\n",
      "66      69  253612.537678\n",
      "72      75  103422.563125\n",
      "64      67   60099.740490\n",
      "76      79   54602.096207\n",
      "35      38   53382.778304\n",
      "47      50   50860.969206\n",
      "48      51   50711.492888\n",
      "44      47   34731.734788\n",
      "78      81   24655.530821\n",
      "5        8   12670.064665\n"
     ]
    },
    {
     "name": "stderr",
     "output_type": "stream",
     "text": [
      "//anaconda3/lib/python3.7/site-packages/sklearn/feature_selection/univariate_selection.py:114: UserWarning: Features [  0   1   2   7   8   9  10  14  16  18  19  20  21  22  24  25  27  28\n",
      "  29  30  31  32  33  34  36  37  38  39  41  42  43  46  50  51  52  53\n",
      "  54  55  56  57  60  62  71  80  81  82  83  84  85  88  89  92  93  94\n",
      "  96  97  98  99 100 110 111 112 113 114 121 128 129 130 131 132 133 134\n",
      " 135 136 144 146 147 148 149 150] are constant.\n",
      "  UserWarning)\n",
      "//anaconda3/lib/python3.7/site-packages/sklearn/feature_selection/univariate_selection.py:115: RuntimeWarning: invalid value encountered in true_divide\n",
      "  f = msb / msw\n"
     ]
    }
   ],
   "source": [
    "from sklearn import feature_selection\n",
    "#apply SelectKBest class to extract top 10 best features\n",
    "bestfeatures = SelectKBest(k=10)\n",
    "fit = bestfeatures.fit(Xtest,Ytest)\n",
    "dfscores = pd.DataFrame(fit.scores_)\n",
    "dfcolumns = pd.DataFrame(Xtest.columns)\n",
    "#concat two dataframes for better visualization \n",
    "featureScores = pd.concat([dfcolumns,dfscores],axis=1)\n",
    " #naming the dataframe columns\n",
    "featureScores.columns = ['feature','Score'] \n",
    " #print 10 best features\n",
    "print(featureScores.nlargest(10,'Score'))"
   ]
  },
  {
   "cell_type": "code",
   "execution_count": 37,
   "metadata": {},
   "outputs": [],
   "source": [
    "selected_features = set((66,72,64,76,35,47,48,44,78,5))\n",
    "X_top_features = Xtest.iloc[:, list(selected_features)]\n",
    "indexes = numpy.arange(Ytest.shape[0])\n",
    "numpy.random.shuffle(indexes)\n",
    "Xtest_cv = X_top_features.iloc[indexes,:]\n",
    "Ytest_cv = Ytest.iloc[indexes]"
   ]
  },
  {
   "cell_type": "markdown",
   "metadata": {},
   "source": [
    "# Naive Bayes Dataset 1 "
   ]
  },
  {
   "cell_type": "code",
   "execution_count": 82,
   "metadata": {},
   "outputs": [
    {
     "name": "stdout",
     "output_type": "stream",
     "text": [
      "CPU times: user 2 µs, sys: 1 µs, total: 3 µs\n",
      "Wall time: 6.91 µs\n",
      "   feature         Score\n",
      "25      71  32124.682195\n",
      "16      51  28936.000138\n",
      "22      67  28321.490224\n",
      "13      47  24346.021809\n",
      "77     154  13311.733744\n",
      "15      50  12317.666392\n",
      "2        8  12076.290588\n",
      "3        9  12076.290588\n",
      "23      68   7911.296191\n",
      "34      82   7720.479234\n"
     ]
    }
   ],
   "source": [
    "%time\n",
    "from sklearn.naive_bayes import GaussianNB\n",
    "Xtrain, Ytrain = Xselected, Y\n",
    "#apply SelectKBest class to extract top 10 best features\n",
    "bestfeatures = SelectKBest(score_func=chi2, k=10)\n",
    "fit = bestfeatures.fit(Xtrain,Ytrain)\n",
    "dfscores = pd.DataFrame(fit.scores_)\n",
    "dfcolumns = pd.DataFrame(Xtrain.columns)\n",
    "#concat two dataframes for better visualization \n",
    "featureScores = pd.concat([dfcolumns,dfscores],axis=1)\n",
    " #naming the dataframe columns\n",
    "featureScores.columns = ['feature','Score'] \n",
    " #print 10 best features\n",
    "print(featureScores.nlargest(10,'Score'))"
   ]
  },
  {
   "cell_type": "code",
   "execution_count": 46,
   "metadata": {},
   "outputs": [],
   "source": [
    "selected_features = set((25,16,22,13,77,15,2,3,23,34))\n",
    "import numpy \n",
    "X_top_features = Xselected.iloc[:, list(selected_features)]\n",
    "indexes = numpy.arange(Ytrain.shape[0])\n",
    "numpy.random.shuffle(indexes)\n",
    "X_cv = X_top_features.iloc[indexes,:]\n",
    "Y_cv = Ytrain.iloc[indexes]"
   ]
  },
  {
   "cell_type": "code",
   "execution_count": 83,
   "metadata": {},
   "outputs": [
    {
     "name": "stdout",
     "output_type": "stream",
     "text": [
      "CPU times: user 3 µs, sys: 1e+03 ns, total: 4 µs\n",
      "Wall time: 8.11 µs\n"
     ]
    },
    {
     "data": {
      "text/plain": [
       "GaussianNB(priors=None, var_smoothing=1e-09)"
      ]
     },
     "execution_count": 83,
     "metadata": {},
     "output_type": "execute_result"
    }
   ],
   "source": [
    "%time\n",
    "model = GaussianNB()\n",
    "model.fit(X_cv, Y_cv)"
   ]
  },
  {
   "cell_type": "code",
   "execution_count": 51,
   "metadata": {},
   "outputs": [
    {
     "data": {
      "text/plain": [
       "array([1, 0, 0, ..., 0, 1, 1])"
      ]
     },
     "execution_count": 51,
     "metadata": {},
     "output_type": "execute_result"
    }
   ],
   "source": [
    "model.predict(X_cv)"
   ]
  },
  {
   "cell_type": "markdown",
   "metadata": {},
   "source": [
    "# Test on the training data"
   ]
  },
  {
   "cell_type": "code",
   "execution_count": 84,
   "metadata": {},
   "outputs": [
    {
     "name": "stdout",
     "output_type": "stream",
     "text": [
      "CPU times: user 4 µs, sys: 1 µs, total: 5 µs\n",
      "Wall time: 6.91 µs\n"
     ]
    },
    {
     "data": {
      "text/plain": [
       "0.9606673261613289"
      ]
     },
     "execution_count": 84,
     "metadata": {},
     "output_type": "execute_result"
    }
   ],
   "source": [
    "%time\n",
    "model.score(X_cv,Y_cv)"
   ]
  },
  {
   "cell_type": "markdown",
   "metadata": {},
   "source": [
    "# Test on the test data"
   ]
  },
  {
   "cell_type": "code",
   "execution_count": 85,
   "metadata": {},
   "outputs": [
    {
     "name": "stdout",
     "output_type": "stream",
     "text": [
      "CPU times: user 3 µs, sys: 0 ns, total: 3 µs\n",
      "Wall time: 6.91 µs\n"
     ]
    },
    {
     "data": {
      "text/plain": [
       "0.5"
      ]
     },
     "execution_count": 85,
     "metadata": {},
     "output_type": "execute_result"
    }
   ],
   "source": [
    "%time\n",
    "model.score(Xtest_cv,Ytest_cv)"
   ]
  },
  {
   "cell_type": "markdown",
   "metadata": {},
   "source": [
    "# Naive Bayes Dataset 2"
   ]
  },
  {
   "cell_type": "code",
   "execution_count": 86,
   "metadata": {},
   "outputs": [
    {
     "name": "stdout",
     "output_type": "stream",
     "text": [
      "CPU times: user 3 µs, sys: 0 ns, total: 3 µs\n",
      "Wall time: 7.87 µs\n",
      "   feature        Score\n",
      "25      71  7372.324026\n",
      "22      67  6638.208530\n",
      "16      51  6420.835610\n",
      "13      47  5284.319604\n",
      "77     154  2702.397952\n",
      "15      50  2624.375281\n",
      "2        8  2425.541023\n",
      "3        9  2425.541023\n",
      "23      68  2162.037565\n",
      "27      73  1818.607457\n"
     ]
    }
   ],
   "source": [
    "%time\n",
    "Xtrain, Ytrain = NX2df, Y\n",
    "#apply SelectKBest class to extract top 10 best features\n",
    "bestfeatures = SelectKBest(score_func=chi2, k=10)\n",
    "fit = bestfeatures.fit(Xtrain,Ytrain)\n",
    "dfscores = pd.DataFrame(fit.scores_)\n",
    "dfcolumns = pd.DataFrame(Xtrain.columns)\n",
    "#concat two dataframes for better visualization \n",
    "featureScores = pd.concat([dfcolumns,dfscores],axis=1)\n",
    " #naming the dataframe columns\n",
    "featureScores.columns = ['feature','Score'] \n",
    " #print 10 best features\n",
    "print(featureScores.nlargest(10,'Score'))"
   ]
  },
  {
   "cell_type": "code",
   "execution_count": 55,
   "metadata": {},
   "outputs": [],
   "source": [
    "selected_features = set((25,16,22,13,77,15,2,3,23,27))\n",
    "X_top_features = NX2df.iloc[:, list(selected_features)]\n",
    "indexes = numpy.arange(Ytrain.shape[0])\n",
    "numpy.random.shuffle(indexes)\n",
    "X_cv = X_top_features.iloc[indexes,:]\n",
    "Y_cv = Ytrain.iloc[indexes]"
   ]
  },
  {
   "cell_type": "code",
   "execution_count": 87,
   "metadata": {},
   "outputs": [
    {
     "name": "stdout",
     "output_type": "stream",
     "text": [
      "CPU times: user 4 µs, sys: 0 ns, total: 4 µs\n",
      "Wall time: 8.82 µs\n"
     ]
    },
    {
     "data": {
      "text/plain": [
       "GaussianNB(priors=None, var_smoothing=1e-09)"
      ]
     },
     "execution_count": 87,
     "metadata": {},
     "output_type": "execute_result"
    }
   ],
   "source": [
    "%time\n",
    "model = GaussianNB()\n",
    "model.fit(X_cv, Y_cv)"
   ]
  },
  {
   "cell_type": "code",
   "execution_count": 57,
   "metadata": {},
   "outputs": [
    {
     "data": {
      "text/plain": [
       "array([1, 1, 0, ..., 1, 0, 0])"
      ]
     },
     "execution_count": 57,
     "metadata": {},
     "output_type": "execute_result"
    }
   ],
   "source": [
    "model.predict(X_cv)"
   ]
  },
  {
   "cell_type": "markdown",
   "metadata": {},
   "source": [
    "# Test on the training data"
   ]
  },
  {
   "cell_type": "code",
   "execution_count": 60,
   "metadata": {},
   "outputs": [
    {
     "name": "stdout",
     "output_type": "stream",
     "text": [
      "CPU times: user 3 µs, sys: 1 µs, total: 4 µs\n",
      "Wall time: 6.91 µs\n"
     ]
    },
    {
     "data": {
      "text/plain": [
       "0.9814929310415894"
      ]
     },
     "execution_count": 60,
     "metadata": {},
     "output_type": "execute_result"
    }
   ],
   "source": [
    "%time\n",
    "model.score(X_cv,Y_cv)"
   ]
  },
  {
   "cell_type": "markdown",
   "metadata": {},
   "source": [
    "# Test on the test data"
   ]
  },
  {
   "cell_type": "code",
   "execution_count": 61,
   "metadata": {},
   "outputs": [
    {
     "name": "stdout",
     "output_type": "stream",
     "text": [
      "CPU times: user 3 µs, sys: 0 ns, total: 3 µs\n",
      "Wall time: 6.91 µs\n"
     ]
    },
    {
     "data": {
      "text/plain": [
       "0.5"
      ]
     },
     "execution_count": 61,
     "metadata": {},
     "output_type": "execute_result"
    }
   ],
   "source": [
    "%time\n",
    "model.score(Xtest_cv,Ytest_cv)"
   ]
  },
  {
   "cell_type": "markdown",
   "metadata": {},
   "source": [
    "# Naive Bayes Dataset 3"
   ]
  },
  {
   "cell_type": "code",
   "execution_count": 88,
   "metadata": {},
   "outputs": [
    {
     "name": "stdout",
     "output_type": "stream",
     "text": [
      "CPU times: user 3 µs, sys: 1 µs, total: 4 µs\n",
      "Wall time: 6.91 µs\n",
      "   feature         Score\n",
      "25      71  32124.682195\n",
      "16      51  28936.000138\n",
      "22      67  28321.490224\n",
      "13      47  24346.021809\n",
      "77     154  13311.733744\n",
      "15      50  12317.666392\n",
      "2        8  12076.290588\n",
      "3        9  12076.290588\n",
      "23      68   7911.296191\n",
      "34      82   7720.479234\n"
     ]
    }
   ],
   "source": [
    "%time\n",
    "Xtrain, Ytrain = NX3df, Y\n",
    "#apply SelectKBest class to extract top 10 best features\n",
    "bestfeatures = SelectKBest(score_func=chi2, k=10)\n",
    "fit = bestfeatures.fit(Xtrain,Ytrain)\n",
    "dfscores = pd.DataFrame(fit.scores_)\n",
    "dfcolumns = pd.DataFrame(Xtrain.columns)\n",
    "#concat two dataframes for better visualization \n",
    "featureScores = pd.concat([dfcolumns,dfscores],axis=1)\n",
    " #naming the dataframe columns\n",
    "featureScores.columns = ['feature','Score'] \n",
    " #print 10 best features\n",
    "print(featureScores.nlargest(10,'Score'))"
   ]
  },
  {
   "cell_type": "code",
   "execution_count": 71,
   "metadata": {},
   "outputs": [],
   "source": [
    "selected_features = set((25,16,22,13,77,15,2,3,23,34))\n",
    "X_top_features = NX3df.iloc[:, list(selected_features)]\n",
    "indexes = numpy.arange(Ytrain.shape[0])\n",
    "numpy.random.shuffle(indexes)\n",
    "X_cv = X_top_features.iloc[indexes,:]\n",
    "Y_cv = Ytrain.iloc[indexes]"
   ]
  },
  {
   "cell_type": "code",
   "execution_count": 89,
   "metadata": {},
   "outputs": [
    {
     "name": "stdout",
     "output_type": "stream",
     "text": [
      "CPU times: user 4 µs, sys: 1 µs, total: 5 µs\n",
      "Wall time: 8.11 µs\n"
     ]
    },
    {
     "data": {
      "text/plain": [
       "GaussianNB(priors=None, var_smoothing=1e-09)"
      ]
     },
     "execution_count": 89,
     "metadata": {},
     "output_type": "execute_result"
    }
   ],
   "source": [
    "%time\n",
    "model = GaussianNB()\n",
    "model.fit(X_cv, Y_cv)"
   ]
  },
  {
   "cell_type": "code",
   "execution_count": 73,
   "metadata": {},
   "outputs": [
    {
     "data": {
      "text/plain": [
       "array([1, 0, 0, ..., 1, 0, 1])"
      ]
     },
     "execution_count": 73,
     "metadata": {},
     "output_type": "execute_result"
    }
   ],
   "source": [
    "model.predict(X_cv)"
   ]
  },
  {
   "cell_type": "markdown",
   "metadata": {},
   "source": [
    "# Test on the training data"
   ]
  },
  {
   "cell_type": "code",
   "execution_count": 90,
   "metadata": {},
   "outputs": [
    {
     "name": "stdout",
     "output_type": "stream",
     "text": [
      "CPU times: user 3 µs, sys: 1 µs, total: 4 µs\n",
      "Wall time: 8.11 µs\n"
     ]
    },
    {
     "data": {
      "text/plain": [
       "0.9606673261613289"
      ]
     },
     "execution_count": 90,
     "metadata": {},
     "output_type": "execute_result"
    }
   ],
   "source": [
    "%time\n",
    "model.score(X_cv,Y_cv)"
   ]
  },
  {
   "cell_type": "markdown",
   "metadata": {},
   "source": [
    "# Test on the test data"
   ]
  },
  {
   "cell_type": "code",
   "execution_count": 91,
   "metadata": {},
   "outputs": [
    {
     "name": "stdout",
     "output_type": "stream",
     "text": [
      "CPU times: user 3 µs, sys: 1 µs, total: 4 µs\n",
      "Wall time: 8.11 µs\n"
     ]
    },
    {
     "data": {
      "text/plain": [
       "0.5"
      ]
     },
     "execution_count": 91,
     "metadata": {},
     "output_type": "execute_result"
    }
   ],
   "source": [
    "%time\n",
    "model.score(Xtest_cv,Ytest_cv)"
   ]
  },
  {
   "cell_type": "markdown",
   "metadata": {},
   "source": [
    "# Naive Bayes Dataset 4"
   ]
  },
  {
   "cell_type": "code",
   "execution_count": 92,
   "metadata": {},
   "outputs": [
    {
     "name": "stdout",
     "output_type": "stream",
     "text": [
      "CPU times: user 3 µs, sys: 0 ns, total: 3 µs\n",
      "Wall time: 6.91 µs\n",
      "   feature          Score\n",
      "22      67  269542.333666\n",
      "32      79  163819.390690\n",
      "25      71   97844.145325\n",
      "13      47   78746.577388\n",
      "15      50   71820.406311\n",
      "16      51   71691.363749\n",
      "29      76   67959.074904\n",
      "28      75   58056.238169\n",
      "23      68   39952.836596\n",
      "0        5   38924.936512\n"
     ]
    }
   ],
   "source": [
    "%time\n",
    "Xtrain, Ytrain = PX2df, Y\n",
    "#apply SelectKBest class to extract top 10 best features\n",
    "bestfeatures = SelectKBest(k=10)\n",
    "fit = bestfeatures.fit(Xtrain,Ytrain)\n",
    "dfscores = pd.DataFrame(fit.scores_)\n",
    "dfcolumns = pd.DataFrame(Xtrain.columns)\n",
    "#concat two dataframes for better visualization \n",
    "featureScores = pd.concat([dfcolumns,dfscores],axis=1)\n",
    " #naming the dataframe columns\n",
    "featureScores.columns = ['feature','Score'] \n",
    " #print 10 best features\n",
    "print(featureScores.nlargest(10,'Score'))"
   ]
  },
  {
   "cell_type": "code",
   "execution_count": 77,
   "metadata": {},
   "outputs": [],
   "source": [
    "import numpy\n",
    "selected_features = set((22,32,25,13,16,15,29,28,23,0))\n",
    "X_top_features = PX2df.iloc[:, list(selected_features)]\n",
    "indexes = numpy.arange(Ytrain.shape[0])\n",
    "numpy.random.shuffle(indexes)\n",
    "X_cv = X_top_features.iloc[indexes,:]\n",
    "Y_cv = Ytrain.iloc[indexes]"
   ]
  },
  {
   "cell_type": "code",
   "execution_count": 96,
   "metadata": {},
   "outputs": [
    {
     "name": "stdout",
     "output_type": "stream",
     "text": [
      "CPU times: user 4 µs, sys: 1 µs, total: 5 µs\n",
      "Wall time: 9.06 µs\n"
     ]
    }
   ],
   "source": [
    "%time\n",
    "model = GaussianNB()\n",
    "model.fit(X_cv, Y_cv)"
   ]
  },
  {
   "cell_type": "code",
   "execution_count": 79,
   "metadata": {},
   "outputs": [
    {
     "data": {
      "text/plain": [
       "array([0, 0, 0, ..., 1, 0, 1])"
      ]
     },
     "execution_count": 79,
     "metadata": {},
     "output_type": "execute_result"
    }
   ],
   "source": [
    "model.predict(X_cv)"
   ]
  },
  {
   "cell_type": "markdown",
   "metadata": {},
   "source": [
    "# Test on the training data"
   ]
  },
  {
   "cell_type": "code",
   "execution_count": 100,
   "metadata": {},
   "outputs": [
    {
     "name": "stdout",
     "output_type": "stream",
     "text": [
      "CPU times: user 3 µs, sys: 1 µs, total: 4 µs\n",
      "Wall time: 7.87 µs\n"
     ]
    },
    {
     "data": {
      "text/plain": [
       "0.9606673261613289"
      ]
     },
     "execution_count": 100,
     "metadata": {},
     "output_type": "execute_result"
    }
   ],
   "source": [
    "%time\n",
    "model.score(X_cv,Y_cv)"
   ]
  },
  {
   "cell_type": "markdown",
   "metadata": {},
   "source": [
    "# Test on the test data"
   ]
  },
  {
   "cell_type": "code",
   "execution_count": 99,
   "metadata": {},
   "outputs": [
    {
     "name": "stdout",
     "output_type": "stream",
     "text": [
      "CPU times: user 2 µs, sys: 1 µs, total: 3 µs\n",
      "Wall time: 6.91 µs\n"
     ]
    },
    {
     "data": {
      "text/plain": [
       "0.5"
      ]
     },
     "execution_count": 99,
     "metadata": {},
     "output_type": "execute_result"
    }
   ],
   "source": [
    "%time\n",
    "model.score(Xtest_cv,Ytest_cv)"
   ]
  },
  {
   "cell_type": "markdown",
   "metadata": {},
   "source": []
  }
 ],
 "metadata": {
  "kernelspec": {
   "display_name": "Python 3",
   "language": "python",
   "name": "python3"
  },
  "language_info": {
   "codemirror_mode": {
    "name": "ipython",
    "version": 3
   },
   "file_extension": ".py",
   "mimetype": "text/x-python",
   "name": "python",
   "nbconvert_exporter": "python",
   "pygments_lexer": "ipython3",
   "version": "3.7.4"
  }
 },
 "nbformat": 4,
 "nbformat_minor": 2
}
