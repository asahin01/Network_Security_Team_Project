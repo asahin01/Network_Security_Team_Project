{
 "cells": [
  {
   "cell_type": "code",
   "execution_count": 117,
   "metadata": {},
   "outputs": [],
   "source": [
    "# Initial modules\n",
    "import numpy as np\n",
    "import pandas as pd\n",
    "import sklearn\n",
    "np.random.seed(404) "
   ]
  },
  {
   "cell_type": "code",
   "execution_count": 118,
   "metadata": {},
   "outputs": [],
   "source": [
    "#load data\n",
    "\n",
    "traindata= pd.read_csv('datasets/train_imperson_without4n7_balanced_data.csv')\n",
    "testdata= pd.read_csv('datasets/test_imperson_without4n7_balanced_data.csv')"
   ]
  },
  {
   "cell_type": "code",
   "execution_count": 119,
   "metadata": {},
   "outputs": [],
   "source": [
    "# Separate X and Y\n",
    "\n",
    "X_train, Y_train = traindata.loc[:, traindata.columns != '155'], traindata['155']\n",
    "\n",
    "X_test, Y_test = testdata.loc[:, testdata.columns != '155'], testdata['155']\n"
   ]
  },
  {
   "cell_type": "code",
   "execution_count": 120,
   "metadata": {},
   "outputs": [],
   "source": [
    "#Preprocessing pipeline\n",
    "\n",
    "from sklearn.feature_selection import RFE\n",
    "from sklearn.feature_selection import VarianceThreshold\n",
    "from sklearn.preprocessing import MinMaxScaler\n",
    "from sklearn.feature_selection import SelectKBest\n",
    "from sklearn.feature_selection import chi2\n",
    "from sklearn.preprocessing import Normalizer\n",
    "\n",
    "from sklearn.pipeline import Pipeline\n",
    "\n",
    "\n",
    "preprocessing_pipeline = Pipeline([\n",
    "    ('zero variance', VarianceThreshold()),\n",
    "    ('scale 0_1', MinMaxScaler()),\n",
    "    ('top20 features', SelectKBest(chi2, k=20))])\n",
    "\n",
    "pipe2= Pipeline([\n",
    "    ('zero variance', VarianceThreshold()),\n",
    "    ('norm 1', Normalizer()),\n",
    "    ('top20 features', SelectKBest(chi2, k=20))])\n"
   ]
  },
  {
   "cell_type": "code",
   "execution_count": 121,
   "metadata": {},
   "outputs": [],
   "source": [
    "X_train_ready = preprocessing_pipeline.fit_transform(X_train, Y_train)"
   ]
  },
  {
   "cell_type": "code",
   "execution_count": 122,
   "metadata": {},
   "outputs": [],
   "source": [
    "xtrainp2=pipe2.fit_transform(X_train, Y_train)"
   ]
  },
  {
   "cell_type": "code",
   "execution_count": 123,
   "metadata": {},
   "outputs": [
    {
     "name": "stderr",
     "output_type": "stream",
     "text": [
      "C:\\Users\\Student\\Anaconda3\\lib\\site-packages\\sklearn\\linear_model\\logistic.py:432: FutureWarning: Default solver will be changed to 'lbfgs' in 0.22. Specify a solver to silence this warning.\n",
      "  FutureWarning)\n",
      "C:\\Users\\Student\\Anaconda3\\lib\\site-packages\\sklearn\\linear_model\\logistic.py:432: FutureWarning: Default solver will be changed to 'lbfgs' in 0.22. Specify a solver to silence this warning.\n",
      "  FutureWarning)\n",
      "C:\\Users\\Student\\Anaconda3\\lib\\site-packages\\sklearn\\linear_model\\logistic.py:432: FutureWarning: Default solver will be changed to 'lbfgs' in 0.22. Specify a solver to silence this warning.\n",
      "  FutureWarning)\n",
      "C:\\Users\\Student\\Anaconda3\\lib\\site-packages\\sklearn\\linear_model\\logistic.py:432: FutureWarning: Default solver will be changed to 'lbfgs' in 0.22. Specify a solver to silence this warning.\n",
      "  FutureWarning)\n",
      "C:\\Users\\Student\\Anaconda3\\lib\\site-packages\\sklearn\\linear_model\\logistic.py:432: FutureWarning: Default solver will be changed to 'lbfgs' in 0.22. Specify a solver to silence this warning.\n",
      "  FutureWarning)\n",
      "C:\\Users\\Student\\Anaconda3\\lib\\site-packages\\sklearn\\linear_model\\logistic.py:432: FutureWarning: Default solver will be changed to 'lbfgs' in 0.22. Specify a solver to silence this warning.\n",
      "  FutureWarning)\n",
      "C:\\Users\\Student\\Anaconda3\\lib\\site-packages\\sklearn\\linear_model\\logistic.py:432: FutureWarning: Default solver will be changed to 'lbfgs' in 0.22. Specify a solver to silence this warning.\n",
      "  FutureWarning)\n",
      "C:\\Users\\Student\\Anaconda3\\lib\\site-packages\\sklearn\\linear_model\\logistic.py:432: FutureWarning: Default solver will be changed to 'lbfgs' in 0.22. Specify a solver to silence this warning.\n",
      "  FutureWarning)\n",
      "C:\\Users\\Student\\Anaconda3\\lib\\site-packages\\sklearn\\linear_model\\logistic.py:432: FutureWarning: Default solver will be changed to 'lbfgs' in 0.22. Specify a solver to silence this warning.\n",
      "  FutureWarning)\n",
      "C:\\Users\\Student\\Anaconda3\\lib\\site-packages\\sklearn\\linear_model\\logistic.py:432: FutureWarning: Default solver will be changed to 'lbfgs' in 0.22. Specify a solver to silence this warning.\n",
      "  FutureWarning)\n"
     ]
    },
    {
     "name": "stdout",
     "output_type": "stream",
     "text": [
      "Accuracy: 97.198% (5.518%)\n"
     ]
    }
   ],
   "source": [
    "from sklearn.model_selection import KFold\n",
    "from sklearn.model_selection import cross_val_score\n",
    "\n",
    "\n",
    "from sklearn.linear_model import LogisticRegression\n",
    "\n",
    "\n",
    "\n",
    "\n",
    "num_folds = 10\n",
    "seed = 7\n",
    "kfold = KFold(n_splits=num_folds, random_state=seed)\n",
    "model = LogisticRegression(C=1000)\n",
    "results = cross_val_score(model, X_train_ready, Y_train, cv=kfold)\n",
    "print(\"Accuracy: %.3f%% (%.3f%%)\" % (results.mean()*100.0, results.std()*100.0))\n"
   ]
  },
  {
   "cell_type": "code",
   "execution_count": 77,
   "metadata": {},
   "outputs": [
    {
     "name": "stderr",
     "output_type": "stream",
     "text": [
      "C:\\Users\\Student\\Anaconda3\\lib\\site-packages\\sklearn\\linear_model\\logistic.py:432: FutureWarning: Default solver will be changed to 'lbfgs' in 0.22. Specify a solver to silence this warning.\n",
      "  FutureWarning)\n",
      "C:\\Users\\Student\\Anaconda3\\lib\\site-packages\\sklearn\\linear_model\\logistic.py:432: FutureWarning: Default solver will be changed to 'lbfgs' in 0.22. Specify a solver to silence this warning.\n",
      "  FutureWarning)\n",
      "C:\\Users\\Student\\Anaconda3\\lib\\site-packages\\sklearn\\linear_model\\logistic.py:432: FutureWarning: Default solver will be changed to 'lbfgs' in 0.22. Specify a solver to silence this warning.\n",
      "  FutureWarning)\n",
      "C:\\Users\\Student\\Anaconda3\\lib\\site-packages\\sklearn\\linear_model\\logistic.py:432: FutureWarning: Default solver will be changed to 'lbfgs' in 0.22. Specify a solver to silence this warning.\n",
      "  FutureWarning)\n",
      "C:\\Users\\Student\\Anaconda3\\lib\\site-packages\\sklearn\\linear_model\\logistic.py:432: FutureWarning: Default solver will be changed to 'lbfgs' in 0.22. Specify a solver to silence this warning.\n",
      "  FutureWarning)\n",
      "C:\\Users\\Student\\Anaconda3\\lib\\site-packages\\sklearn\\linear_model\\logistic.py:432: FutureWarning: Default solver will be changed to 'lbfgs' in 0.22. Specify a solver to silence this warning.\n",
      "  FutureWarning)\n",
      "C:\\Users\\Student\\Anaconda3\\lib\\site-packages\\sklearn\\linear_model\\logistic.py:432: FutureWarning: Default solver will be changed to 'lbfgs' in 0.22. Specify a solver to silence this warning.\n",
      "  FutureWarning)\n",
      "C:\\Users\\Student\\Anaconda3\\lib\\site-packages\\sklearn\\linear_model\\logistic.py:432: FutureWarning: Default solver will be changed to 'lbfgs' in 0.22. Specify a solver to silence this warning.\n",
      "  FutureWarning)\n",
      "C:\\Users\\Student\\Anaconda3\\lib\\site-packages\\sklearn\\linear_model\\logistic.py:432: FutureWarning: Default solver will be changed to 'lbfgs' in 0.22. Specify a solver to silence this warning.\n",
      "  FutureWarning)\n",
      "C:\\Users\\Student\\Anaconda3\\lib\\site-packages\\sklearn\\linear_model\\logistic.py:432: FutureWarning: Default solver will be changed to 'lbfgs' in 0.22. Specify a solver to silence this warning.\n",
      "  FutureWarning)\n"
     ]
    },
    {
     "name": "stdout",
     "output_type": "stream",
     "text": [
      "Accuracy: 94.518% (9.900%)\n"
     ]
    }
   ],
   "source": [
    "\n",
    "num_folds = 10\n",
    "seed = 7\n",
    "kfold = KFold(n_splits=num_folds, random_state=seed)\n",
    "model2 = LogisticRegression()\n",
    "\n",
    "\n",
    "results = cross_val_score(model2, xtrainp2, Y_train, cv=kfold)\n",
    "print(\"Accuracy: %.3f%% (%.3f%%)\" % (results.mean()*100.0, results.std()*100.0))\n"
   ]
  },
  {
   "cell_type": "code",
   "execution_count": 78,
   "metadata": {},
   "outputs": [
    {
     "name": "stderr",
     "output_type": "stream",
     "text": [
      "C:\\Users\\Student\\Anaconda3\\lib\\site-packages\\sklearn\\linear_model\\logistic.py:432: FutureWarning: Default solver will be changed to 'lbfgs' in 0.22. Specify a solver to silence this warning.\n",
      "  FutureWarning)\n"
     ]
    },
    {
     "data": {
      "text/plain": [
       "(19938, 19654)"
      ]
     },
     "execution_count": 78,
     "metadata": {},
     "output_type": "execute_result"
    }
   ],
   "source": [
    "#Evaluate on test set\n",
    "\n",
    "from sklearn.metrics import confusion_matrix\n",
    "\n",
    "model.fit(X_train_ready, Y_train)\n",
    "\n",
    "X_test_ready =  preprocessing_pipeline.transform(X_test)\n",
    "\n",
    "predicted = model.predict(X_test_ready)\n",
    "\n",
    "matrix = confusion_matrix(Y_test, predicted)\n",
    "tn, fp, fn, tp = matrix.ravel()\n",
    "tp, tn\n"
   ]
  },
  {
   "cell_type": "markdown",
   "metadata": {},
   "source": [
    "###  hyper parameter tuning logistic regression\n"
   ]
  },
  {
   "cell_type": "markdown",
   "metadata": {},
   "source": [
    "### cv on training data via gridsearch showed good accuracy for all datasets, but when it came to the test data only min max scaler performed well "
   ]
  },
  {
   "cell_type": "code",
   "execution_count": 79,
   "metadata": {},
   "outputs": [
    {
     "name": "stderr",
     "output_type": "stream",
     "text": [
      "C:\\Users\\Student\\Anaconda3\\lib\\site-packages\\sklearn\\linear_model\\logistic.py:432: FutureWarning: Default solver will be changed to 'lbfgs' in 0.22. Specify a solver to silence this warning.\n",
      "  FutureWarning)\n"
     ]
    },
    {
     "name": "stdout",
     "output_type": "stream",
     "text": [
      "{'model__C': 1000}\n",
      "0.9875520382506904\n"
     ]
    }
   ],
   "source": [
    "from sklearn.model_selection import GridSearchCV\n",
    "\n",
    "## grid searchCV\n",
    "pipeline1 = Pipeline([\n",
    "    ('zero variance', VarianceThreshold()),\n",
    "    ('scale 0_1', MinMaxScaler()),\n",
    "    ('top20 features', SelectKBest(chi2, k=20)),\n",
    "    ('model',LogisticRegression())])\n",
    "\n",
    "\n",
    "\n",
    "grid=GridSearchCV(cv=10,\n",
    "            estimator=pipeline1,\n",
    "             param_grid={'model__C': [0.001, 0.01, 0.1, 1, 10, 100, 1000]},\n",
    "                  scoring = 'accuracy',\n",
    "                 n_jobs=-1)\n",
    "    \n",
    "    \n",
    "grid.fit(X_train, Y_train)\n",
    "#sorted(pipeline1.get_params().keys()) #list of the parameters you can tune \n",
    "print(grid.best_params_)\n",
    "print(grid.best_score_)\n"
   ]
  },
  {
   "cell_type": "code",
   "execution_count": 88,
   "metadata": {},
   "outputs": [
    {
     "name": "stderr",
     "output_type": "stream",
     "text": [
      "C:\\Users\\Student\\Anaconda3\\lib\\site-packages\\sklearn\\linear_model\\logistic.py:432: FutureWarning: Default solver will be changed to 'lbfgs' in 0.22. Specify a solver to silence this warning.\n",
      "  FutureWarning)\n"
     ]
    },
    {
     "name": "stdout",
     "output_type": "stream",
     "text": [
      "{'model__C': 1000}\n",
      "0.9875520382506904\n"
     ]
    }
   ],
   "source": [
    "pipeline2= Pipeline([\n",
    "    ('zero variance', VarianceThreshold()),\n",
    "    ('norm 1', Normalizer()),\n",
    "    ('top20 features', SelectKBest(chi2, k=20)),\n",
    "    ('model',LogisticRegression())])\n",
    "\n",
    "grid=GridSearchCV(cv=10,\n",
    "            estimator=pipeline1,\n",
    "             param_grid={'model__C': [0.001, 0.01, 0.1, 1, 10, 100, 1000]},\n",
    "                  scoring = 'accuracy',\n",
    "                 n_jobs=-1)\n",
    "\n",
    "grid.fit(X_train, Y_train)\n",
    "\n",
    "print(grid.best_params_)\n",
    "print(grid.best_score_)"
   ]
  },
  {
   "cell_type": "code",
   "execution_count": 133,
   "metadata": {},
   "outputs": [
    {
     "name": "stderr",
     "output_type": "stream",
     "text": [
      "C:\\Users\\Student\\Anaconda3\\lib\\site-packages\\sklearn\\linear_model\\logistic.py:432: FutureWarning: Default solver will be changed to 'lbfgs' in 0.22. Specify a solver to silence this warning.\n",
      "  FutureWarning)\n"
     ]
    },
    {
     "name": "stdout",
     "output_type": "stream",
     "text": [
      "              precision    recall  f1-score   support\n",
      "\n",
      "           0       0.99      0.98      0.99     20079\n",
      "           1       0.98      0.99      0.99     20079\n",
      "\n",
      "    accuracy                           0.99     40158\n",
      "   macro avg       0.99      0.99      0.99     40158\n",
      "weighted avg       0.99      0.99      0.99     40158\n",
      "\n"
     ]
    }
   ],
   "source": [
    "from sklearn.metrics import accuracy_score\n",
    "pipeline1 = Pipeline([\n",
    "    ('zero variance', VarianceThreshold()),\n",
    "    ('scale 0_1', MinMaxScaler()),\n",
    "    ('top20 features', SelectKBest(chi2, k=20)),\n",
    "    ('model',LogisticRegression(C=1000))])\n",
    "\n",
    "pipeline1.fit(X_train,Y_train)\n",
    "\n",
    "Y_predict=pipeline1.predict(X_test)\n",
    "accuracy_score(Y_test, Y_predict)\n",
    "\n",
    "report1= classification_report(Y_test, Y_predict)\n",
    "print(report1)"
   ]
  },
  {
   "cell_type": "code",
   "execution_count": null,
   "metadata": {},
   "outputs": [],
   "source": []
  },
  {
   "cell_type": "code",
   "execution_count": 139,
   "metadata": {},
   "outputs": [
    {
     "name": "stderr",
     "output_type": "stream",
     "text": [
      "C:\\Users\\Student\\Anaconda3\\lib\\site-packages\\sklearn\\linear_model\\logistic.py:432: FutureWarning: Default solver will be changed to 'lbfgs' in 0.22. Specify a solver to silence this warning.\n",
      "  FutureWarning)\n"
     ]
    },
    {
     "name": "stdout",
     "output_type": "stream",
     "text": [
      "              precision    recall  f1-score   support\n",
      "\n",
      "           0       0.51      0.96      0.66     20079\n",
      "           1       0.64      0.07      0.12     20079\n",
      "\n",
      "    accuracy                           0.51     40158\n",
      "   macro avg       0.57      0.51      0.39     40158\n",
      "weighted avg       0.57      0.51      0.39     40158\n",
      "\n"
     ]
    }
   ],
   "source": [
    "from sklearn.metrics import accuracy_score\n",
    "pipeline2 = Pipeline([\n",
    "    ('zero variance', VarianceThreshold()),\n",
    "    ('norm 1', Normalizer()),\n",
    "    ('top20 features', SelectKBest(chi2, k=20)),\n",
    "    ('model',LogisticRegression(C=1000))])\n",
    "\n",
    "pipeline2.fit(X_train,Y_train)\n",
    "\n",
    "Y_predict=pipeline2.predict(X_test)\n",
    "accuracy_score(Y_test, Y_predict)\n",
    "\n",
    "report12= classification_report(Y_test, Y_predict)\n",
    "print(report2)"
   ]
  },
  {
   "cell_type": "code",
   "execution_count": 140,
   "metadata": {},
   "outputs": [
    {
     "name": "stderr",
     "output_type": "stream",
     "text": [
      "C:\\Users\\Student\\Anaconda3\\lib\\site-packages\\sklearn\\linear_model\\logistic.py:432: FutureWarning: Default solver will be changed to 'lbfgs' in 0.22. Specify a solver to silence this warning.\n",
      "  FutureWarning)\n"
     ]
    },
    {
     "name": "stdout",
     "output_type": "stream",
     "text": [
      "              precision    recall  f1-score   support\n",
      "\n",
      "           0       0.52      0.97      0.67     20079\n",
      "           1       0.75      0.09      0.15     20079\n",
      "\n",
      "    accuracy                           0.53     40158\n",
      "   macro avg       0.63      0.53      0.41     40158\n",
      "weighted avg       0.63      0.53      0.41     40158\n",
      "\n"
     ]
    }
   ],
   "source": [
    "from sklearn.metrics import accuracy_score\n",
    "pipeline3 = Pipeline([\n",
    "    ('zero variance', VarianceThreshold()),\n",
    "    ('top20 features', SelectKBest(chi2, k=20)),\n",
    "    ('model',LogisticRegression(C=1000))])\n",
    "\n",
    "pipeline3.fit(X_train,Y_train)\n",
    "\n",
    "Y_predict=pipeline3.predict(X_test)\n",
    "accuracy_score(Y_test, Y_predict)\n",
    "\n",
    "report3= classification_report(Y_test, Y_predict)\n",
    "print(report3)"
   ]
  },
  {
   "cell_type": "code",
   "execution_count": null,
   "metadata": {},
   "outputs": [],
   "source": []
  },
  {
   "cell_type": "code",
   "execution_count": 141,
   "metadata": {},
   "outputs": [
    {
     "name": "stderr",
     "output_type": "stream",
     "text": [
      "C:\\Users\\Student\\Anaconda3\\lib\\site-packages\\numpy\\core\\_methods.py:195: RuntimeWarning: overflow encountered in multiply\n",
      "  x = um.multiply(x, x, out=x)\n",
      "C:\\Users\\Student\\Anaconda3\\lib\\site-packages\\numpy\\core\\_methods.py:199: RuntimeWarning: overflow encountered in reduce\n",
      "  ret = umr_sum(x, axis, dtype, out, keepdims)\n",
      "C:\\Users\\Student\\Anaconda3\\lib\\site-packages\\sklearn\\linear_model\\logistic.py:432: FutureWarning: Default solver will be changed to 'lbfgs' in 0.22. Specify a solver to silence this warning.\n",
      "  FutureWarning)\n"
     ]
    },
    {
     "name": "stdout",
     "output_type": "stream",
     "text": [
      "              precision    recall  f1-score   support\n",
      "\n",
      "           0       1.00      0.78      0.88     20079\n",
      "           1       0.82      1.00      0.90     20079\n",
      "\n",
      "    accuracy                           0.89     40158\n",
      "   macro avg       0.91      0.89      0.89     40158\n",
      "weighted avg       0.91      0.89      0.89     40158\n",
      "\n"
     ]
    }
   ],
   "source": [
    "from sklearn.preprocessing import PowerTransformer\n",
    "from sklearn.feature_selection import f_classif\n",
    "pipeline4 = Pipeline([\n",
    "    ('zero variance', VarianceThreshold()),\n",
    "    ('power', PowerTransformer(method = 'yeo-johnson')),\n",
    "    ('top20 features', SelectKBest(f_classif, k=20)),\n",
    "    ('model',LogisticRegression(C=1000))])\n",
    "\n",
    "pipeline4.fit(X_train,Y_train)\n",
    "\n",
    "Y_predict=pipeline4.predict(X_test)\n",
    "accuracy_score(Y_test, Y_predict)\n",
    "\n",
    "report4= classification_report(Y_test, Y_predict)\n",
    "print(report4)"
   ]
  },
  {
   "cell_type": "code",
   "execution_count": null,
   "metadata": {},
   "outputs": [],
   "source": []
  },
  {
   "cell_type": "markdown",
   "metadata": {},
   "source": [
    "# Adaboost classifier"
   ]
  },
  {
   "cell_type": "code",
   "execution_count": 87,
   "metadata": {},
   "outputs": [
    {
     "data": {
      "text/plain": [
       "0.987479427106229"
      ]
     },
     "execution_count": 87,
     "metadata": {},
     "output_type": "execute_result"
    }
   ],
   "source": [
    "from sklearn.model_selection import cross_val_score\n",
    "from sklearn.ensemble import AdaBoostClassifier\n",
    "\n",
    "clf = AdaBoostClassifier(n_estimators=100)\n",
    "scores = cross_val_score(clf, X_train_ready, Y_train, cv=5)\n",
    "scores.mean()"
   ]
  },
  {
   "cell_type": "code",
   "execution_count": null,
   "metadata": {},
   "outputs": [],
   "source": [
    "clf = AdaBoostClassifier(n_estimators=100)\n",
    "scores = cross_val_score(clf, X_test_ready,Y_test, cv=5)\n",
    "scores.mean()"
   ]
  },
  {
   "cell_type": "markdown",
   "metadata": {},
   "source": [
    "# Adaboost trained on training data and evaluated on test data"
   ]
  },
  {
   "cell_type": "code",
   "execution_count": 102,
   "metadata": {},
   "outputs": [
    {
     "name": "stdout",
     "output_type": "stream",
     "text": [
      "Wall time: 0 ns\n"
     ]
    },
    {
     "data": {
      "text/plain": [
       "0.9918077503187748"
      ]
     },
     "execution_count": 102,
     "metadata": {},
     "output_type": "execute_result"
    }
   ],
   "source": [
    "%time\n",
    "clf = AdaBoostClassifier(n_estimators=100)\n",
    "clf.fit(X_train_ready, Y_train)\n",
    "X_test_ready =  preprocessing_pipeline.transform(X_test)\n",
    "scores = cross_val_score(clf, X_test_ready,Y_test, cv=5)\n",
    "scores.mean()"
   ]
  },
  {
   "cell_type": "markdown",
   "metadata": {},
   "source": [
    "### ada boost did well on varience threshold only and minimaxscaler"
   ]
  },
  {
   "cell_type": "code",
   "execution_count": 111,
   "metadata": {},
   "outputs": [
    {
     "name": "stdout",
     "output_type": "stream",
     "text": [
      "{'ada__learning_rate': 0.1, 'ada__n_estimators': 150}\n",
      "0.9856869049091134\n"
     ]
    }
   ],
   "source": [
    "pipeline5 = Pipeline([\n",
    "    ('zero variance', VarianceThreshold()),\n",
    "    ('scale 0_1', MinMaxScaler()),\n",
    "    ('top20 features', SelectKBest(chi2, k=20)),\n",
    "    ('ada',AdaBoostClassifier())])\n",
    "\n",
    "\n",
    "\n",
    "grid=GridSearchCV(cv=10,\n",
    "            estimator=pipeline5,\n",
    "             param_grid={'ada__n_estimators': [10,50,100,150],\n",
    "                  'ada__learning_rate':[0.001,0.1,0.01]},\n",
    "                  scoring = 'accuracy',\n",
    "                 n_jobs=-1)\n",
    "    \n",
    "    \n",
    "grid.fit(X_train, Y_train)\n",
    "sorted(pipeline5.get_params().keys()) #list of the parameters you can tune \n",
    "print(grid.best_params_)\n",
    "print(grid.best_score_)"
   ]
  },
  {
   "cell_type": "code",
   "execution_count": 108,
   "metadata": {},
   "outputs": [
    {
     "data": {
      "text/plain": [
       "['ada',\n",
       " 'ada__algorithm',\n",
       " 'ada__base_estimator',\n",
       " 'ada__learning_rate',\n",
       " 'ada__n_estimators',\n",
       " 'ada__random_state',\n",
       " 'memory',\n",
       " 'scale 0_1',\n",
       " 'scale 0_1__copy',\n",
       " 'scale 0_1__feature_range',\n",
       " 'steps',\n",
       " 'top20 features',\n",
       " 'top20 features__k',\n",
       " 'top20 features__score_func',\n",
       " 'verbose',\n",
       " 'zero variance',\n",
       " 'zero variance__threshold']"
      ]
     },
     "execution_count": 108,
     "metadata": {},
     "output_type": "execute_result"
    }
   ],
   "source": [
    "sorted(pipeline5.get_params().keys())"
   ]
  },
  {
   "cell_type": "code",
   "execution_count": 143,
   "metadata": {},
   "outputs": [
    {
     "name": "stdout",
     "output_type": "stream",
     "text": [
      "              precision    recall  f1-score   support\n",
      "\n",
      "           0       1.00      0.98      0.99     20079\n",
      "           1       0.98      1.00      0.99     20079\n",
      "\n",
      "    accuracy                           0.99     40158\n",
      "   macro avg       0.99      0.99      0.99     40158\n",
      "weighted avg       0.99      0.99      0.99     40158\n",
      "\n"
     ]
    }
   ],
   "source": [
    "pipeline6 = Pipeline([\n",
    "    ('zero variance', VarianceThreshold()),\n",
    "    ('scale 0_1', MinMaxScaler()),\n",
    "    ('top20 features', SelectKBest(f_classif, k=20)),\n",
    "    ('ada',AdaBoostClassifier(n_estimators=150,learning_rate=0.1))])\n",
    "\n",
    "pipeline6.fit(X_train,Y_train)\n",
    "\n",
    "Y_predict=pipeline6.predict(X_test)\n",
    "accuracy_score(Y_test, Y_predict)\n",
    "\n",
    "report6= classification_report(Y_test, Y_predict)\n",
    "print(report6)"
   ]
  },
  {
   "cell_type": "code",
   "execution_count": 144,
   "metadata": {},
   "outputs": [
    {
     "name": "stdout",
     "output_type": "stream",
     "text": [
      "              precision    recall  f1-score   support\n",
      "\n",
      "           0       1.00      0.98      0.99     20079\n",
      "           1       0.98      1.00      0.99     20079\n",
      "\n",
      "    accuracy                           0.99     40158\n",
      "   macro avg       0.99      0.99      0.99     40158\n",
      "weighted avg       0.99      0.99      0.99     40158\n",
      "\n"
     ]
    }
   ],
   "source": [
    "pipeline7 = Pipeline([\n",
    "    ('zero variance', VarianceThreshold()),\n",
    "    ('top20 features', SelectKBest(f_classif, k=20)),\n",
    "    ('ada',AdaBoostClassifier(n_estimators=150,learning_rate=0.1))])\n",
    "\n",
    "pipeline7.fit(X_train,Y_train)\n",
    "\n",
    "Y_predict=pipeline7.predict(X_test)\n",
    "accuracy_score(Y_test, Y_predict)\n",
    "\n",
    "report7= classification_report(Y_test, Y_predict)\n",
    "print(report7)"
   ]
  },
  {
   "cell_type": "code",
   "execution_count": 145,
   "metadata": {},
   "outputs": [
    {
     "name": "stdout",
     "output_type": "stream",
     "text": [
      "              precision    recall  f1-score   support\n",
      "\n",
      "           0       0.50      0.99      0.66     20079\n",
      "           1       0.00      0.00      0.00     20079\n",
      "\n",
      "    accuracy                           0.49     40158\n",
      "   macro avg       0.25      0.49      0.33     40158\n",
      "weighted avg       0.25      0.49      0.33     40158\n",
      "\n"
     ]
    }
   ],
   "source": [
    "pipeline8 = Pipeline([\n",
    "    ('zero variance', VarianceThreshold()),\n",
    "    ('norm 1', Normalizer()),\n",
    "    ('top20 features', SelectKBest(f_classif, k=20)),\n",
    "    ('ada',AdaBoostClassifier(n_estimators=150,learning_rate=0.1))])\n",
    "\n",
    "pipeline8.fit(X_train,Y_train)\n",
    "\n",
    "Y_predict=pipeline8.predict(X_test)\n",
    "accuracy_score(Y_test, Y_predict)\n",
    "report8= classification_report(Y_test, Y_predict)\n",
    "print(report8)"
   ]
  }
 ],
 "metadata": {
  "kernelspec": {
   "display_name": "Python 3",
   "language": "python",
   "name": "python3"
  },
  "language_info": {
   "codemirror_mode": {
    "name": "ipython",
    "version": 3
   },
   "file_extension": ".py",
   "mimetype": "text/x-python",
   "name": "python",
   "nbconvert_exporter": "python",
   "pygments_lexer": "ipython3",
   "version": "3.7.4"
  }
 },
 "nbformat": 4,
 "nbformat_minor": 2
}
