{
 "cells": [
  {
   "cell_type": "markdown",
   "metadata": {},
   "source": [
    "# Rationale\n",
    "It is suspicious that models with a high (>98%) accuracy on cross validation with the training set should score barely better than chance (52-54%) on the test set.  From an initial comparison of the two data sets it appears that for some features the values in the tests set are considerably different from the values in the training set.  Prediction is only possible if both the training set and test set are drawn from the same underlying population and have features that have been identically processed.\n",
    "\n",
    "This notebook investigates the hypothesis that there is some systematic bias or difference between the two data sets that makes accurate prediction impossible.  "
   ]
  },
  {
   "cell_type": "code",
   "execution_count": 1,
   "metadata": {},
   "outputs": [],
   "source": [
    "%matplotlib inline\n",
    "\n",
    "import numpy as np\n",
    "import pandas as pd\n",
    "from scipy import stats\n",
    "from matplotlib import pyplot as plt"
   ]
  },
  {
   "cell_type": "code",
   "execution_count": 2,
   "metadata": {},
   "outputs": [],
   "source": [
    "train_data = pd.read_csv('train_imperson_without4n7_balanced_data.csv')\n",
    "X_train, Y_train = train_data.loc[:, train_data.columns != '155'], train_data['155']\n",
    "\n",
    "test_data = pd.read_csv('test_imperson_without4n7_balanced_data.csv')\n",
    "X_test, Y_test = test_data.loc[:, test_data.columns != '155'], test_data['155']"
   ]
  },
  {
   "cell_type": "markdown",
   "metadata": {},
   "source": [
    "Get the columns with no variance and check they are the same for both data sets."
   ]
  },
  {
   "cell_type": "code",
   "execution_count": 3,
   "metadata": {},
   "outputs": [
    {
     "data": {
      "text/plain": [
       "False"
      ]
     },
     "execution_count": 3,
     "metadata": {},
     "output_type": "execute_result"
    }
   ],
   "source": [
    "train_no_var = X_train.var() == 0.0\n",
    "test_no_var = X_test.var() == 0.0\n",
    "all(train_no_var == test_no_var)"
   ]
  },
  {
   "cell_type": "markdown",
   "metadata": {},
   "source": [
    "OK, so the columns in the training set with no variance are different from the columns in the test set with no variance.  Let investigate them further..."
   ]
  },
  {
   "cell_type": "code",
   "execution_count": 4,
   "metadata": {},
   "outputs": [
    {
     "data": {
      "text/html": [
       "<div>\n",
       "<style scoped>\n",
       "    .dataframe tbody tr th:only-of-type {\n",
       "        vertical-align: middle;\n",
       "    }\n",
       "\n",
       "    .dataframe tbody tr th {\n",
       "        vertical-align: top;\n",
       "    }\n",
       "\n",
       "    .dataframe thead th {\n",
       "        text-align: right;\n",
       "    }\n",
       "</style>\n",
       "<table border=\"1\" class=\"dataframe\">\n",
       "  <thead>\n",
       "    <tr style=\"text-align: right;\">\n",
       "      <th></th>\n",
       "      <th>69</th>\n",
       "      <th>81</th>\n",
       "      <th>83</th>\n",
       "      <th>84</th>\n",
       "      <th>86</th>\n",
       "      <th>88</th>\n",
       "      <th>97</th>\n",
       "      <th>113</th>\n",
       "      <th>117</th>\n",
       "      <th>133</th>\n",
       "      <th>138</th>\n",
       "      <th>148</th>\n",
       "    </tr>\n",
       "  </thead>\n",
       "  <tbody>\n",
       "    <tr>\n",
       "      <th>count</th>\n",
       "      <td>97044.0</td>\n",
       "      <td>97044.0</td>\n",
       "      <td>97044.000000</td>\n",
       "      <td>97044.000000</td>\n",
       "      <td>97044.000000</td>\n",
       "      <td>97044.000000</td>\n",
       "      <td>97044.00000</td>\n",
       "      <td>97044.000000</td>\n",
       "      <td>97044.000000</td>\n",
       "      <td>97044.00000</td>\n",
       "      <td>97044.000000</td>\n",
       "      <td>97044.0</td>\n",
       "    </tr>\n",
       "    <tr>\n",
       "      <th>mean</th>\n",
       "      <td>0.0</td>\n",
       "      <td>0.0</td>\n",
       "      <td>0.000021</td>\n",
       "      <td>0.000062</td>\n",
       "      <td>0.000082</td>\n",
       "      <td>0.000014</td>\n",
       "      <td>0.00001</td>\n",
       "      <td>0.000013</td>\n",
       "      <td>0.000006</td>\n",
       "      <td>0.00001</td>\n",
       "      <td>0.500004</td>\n",
       "      <td>0.0</td>\n",
       "    </tr>\n",
       "    <tr>\n",
       "      <th>std</th>\n",
       "      <td>0.0</td>\n",
       "      <td>0.0</td>\n",
       "      <td>0.004540</td>\n",
       "      <td>0.007863</td>\n",
       "      <td>0.009079</td>\n",
       "      <td>0.002451</td>\n",
       "      <td>0.00321</td>\n",
       "      <td>0.002383</td>\n",
       "      <td>0.000911</td>\n",
       "      <td>0.00321</td>\n",
       "      <td>0.001220</td>\n",
       "      <td>0.0</td>\n",
       "    </tr>\n",
       "    <tr>\n",
       "      <th>min</th>\n",
       "      <td>0.0</td>\n",
       "      <td>0.0</td>\n",
       "      <td>0.000000</td>\n",
       "      <td>0.000000</td>\n",
       "      <td>0.000000</td>\n",
       "      <td>0.000000</td>\n",
       "      <td>0.00000</td>\n",
       "      <td>0.000000</td>\n",
       "      <td>0.000000</td>\n",
       "      <td>0.00000</td>\n",
       "      <td>0.500000</td>\n",
       "      <td>0.0</td>\n",
       "    </tr>\n",
       "    <tr>\n",
       "      <th>25%</th>\n",
       "      <td>0.0</td>\n",
       "      <td>0.0</td>\n",
       "      <td>0.000000</td>\n",
       "      <td>0.000000</td>\n",
       "      <td>0.000000</td>\n",
       "      <td>0.000000</td>\n",
       "      <td>0.00000</td>\n",
       "      <td>0.000000</td>\n",
       "      <td>0.000000</td>\n",
       "      <td>0.00000</td>\n",
       "      <td>0.500000</td>\n",
       "      <td>0.0</td>\n",
       "    </tr>\n",
       "    <tr>\n",
       "      <th>50%</th>\n",
       "      <td>0.0</td>\n",
       "      <td>0.0</td>\n",
       "      <td>0.000000</td>\n",
       "      <td>0.000000</td>\n",
       "      <td>0.000000</td>\n",
       "      <td>0.000000</td>\n",
       "      <td>0.00000</td>\n",
       "      <td>0.000000</td>\n",
       "      <td>0.000000</td>\n",
       "      <td>0.00000</td>\n",
       "      <td>0.500000</td>\n",
       "      <td>0.0</td>\n",
       "    </tr>\n",
       "    <tr>\n",
       "      <th>75%</th>\n",
       "      <td>0.0</td>\n",
       "      <td>0.0</td>\n",
       "      <td>0.000000</td>\n",
       "      <td>0.000000</td>\n",
       "      <td>0.000000</td>\n",
       "      <td>0.000000</td>\n",
       "      <td>0.00000</td>\n",
       "      <td>0.000000</td>\n",
       "      <td>0.000000</td>\n",
       "      <td>0.00000</td>\n",
       "      <td>0.500000</td>\n",
       "      <td>0.0</td>\n",
       "    </tr>\n",
       "    <tr>\n",
       "      <th>max</th>\n",
       "      <td>0.0</td>\n",
       "      <td>0.0</td>\n",
       "      <td>1.000000</td>\n",
       "      <td>1.000000</td>\n",
       "      <td>1.000000</td>\n",
       "      <td>0.468750</td>\n",
       "      <td>1.00000</td>\n",
       "      <td>0.428570</td>\n",
       "      <td>0.156110</td>\n",
       "      <td>1.00000</td>\n",
       "      <td>0.880000</td>\n",
       "      <td>0.0</td>\n",
       "    </tr>\n",
       "  </tbody>\n",
       "</table>\n",
       "</div>"
      ],
      "text/plain": [
       "            69       81            83            84            86  \\\n",
       "count  97044.0  97044.0  97044.000000  97044.000000  97044.000000   \n",
       "mean       0.0      0.0      0.000021      0.000062      0.000082   \n",
       "std        0.0      0.0      0.004540      0.007863      0.009079   \n",
       "min        0.0      0.0      0.000000      0.000000      0.000000   \n",
       "25%        0.0      0.0      0.000000      0.000000      0.000000   \n",
       "50%        0.0      0.0      0.000000      0.000000      0.000000   \n",
       "75%        0.0      0.0      0.000000      0.000000      0.000000   \n",
       "max        0.0      0.0      1.000000      1.000000      1.000000   \n",
       "\n",
       "                 88           97           113           117          133  \\\n",
       "count  97044.000000  97044.00000  97044.000000  97044.000000  97044.00000   \n",
       "mean       0.000014      0.00001      0.000013      0.000006      0.00001   \n",
       "std        0.002451      0.00321      0.002383      0.000911      0.00321   \n",
       "min        0.000000      0.00000      0.000000      0.000000      0.00000   \n",
       "25%        0.000000      0.00000      0.000000      0.000000      0.00000   \n",
       "50%        0.000000      0.00000      0.000000      0.000000      0.00000   \n",
       "75%        0.000000      0.00000      0.000000      0.000000      0.00000   \n",
       "max        0.468750      1.00000      0.428570      0.156110      1.00000   \n",
       "\n",
       "                138      148  \n",
       "count  97044.000000  97044.0  \n",
       "mean       0.500004      0.0  \n",
       "std        0.001220      0.0  \n",
       "min        0.500000      0.0  \n",
       "25%        0.500000      0.0  \n",
       "50%        0.500000      0.0  \n",
       "75%        0.500000      0.0  \n",
       "max        0.880000      0.0  "
      ]
     },
     "execution_count": 4,
     "metadata": {},
     "output_type": "execute_result"
    }
   ],
   "source": [
    "X_train[X_train.columns[train_no_var != test_no_var]].describe()"
   ]
  },
  {
   "cell_type": "code",
   "execution_count": 5,
   "metadata": {},
   "outputs": [
    {
     "data": {
      "text/html": [
       "<div>\n",
       "<style scoped>\n",
       "    .dataframe tbody tr th:only-of-type {\n",
       "        vertical-align: middle;\n",
       "    }\n",
       "\n",
       "    .dataframe tbody tr th {\n",
       "        vertical-align: top;\n",
       "    }\n",
       "\n",
       "    .dataframe thead th {\n",
       "        text-align: right;\n",
       "    }\n",
       "</style>\n",
       "<table border=\"1\" class=\"dataframe\">\n",
       "  <thead>\n",
       "    <tr style=\"text-align: right;\">\n",
       "      <th></th>\n",
       "      <th>69</th>\n",
       "      <th>81</th>\n",
       "      <th>83</th>\n",
       "      <th>84</th>\n",
       "      <th>86</th>\n",
       "      <th>88</th>\n",
       "      <th>97</th>\n",
       "      <th>113</th>\n",
       "      <th>117</th>\n",
       "      <th>133</th>\n",
       "      <th>138</th>\n",
       "      <th>148</th>\n",
       "    </tr>\n",
       "  </thead>\n",
       "  <tbody>\n",
       "    <tr>\n",
       "      <th>count</th>\n",
       "      <td>40158.000000</td>\n",
       "      <td>40158.000000</td>\n",
       "      <td>40158.0</td>\n",
       "      <td>40158.0</td>\n",
       "      <td>40158.0</td>\n",
       "      <td>40158.0</td>\n",
       "      <td>40158.0</td>\n",
       "      <td>40158.0</td>\n",
       "      <td>40158.0</td>\n",
       "      <td>40158.0</td>\n",
       "      <td>40158.0</td>\n",
       "      <td>40158.000000</td>\n",
       "    </tr>\n",
       "    <tr>\n",
       "      <th>mean</th>\n",
       "      <td>0.463320</td>\n",
       "      <td>0.042274</td>\n",
       "      <td>0.0</td>\n",
       "      <td>0.0</td>\n",
       "      <td>0.0</td>\n",
       "      <td>0.0</td>\n",
       "      <td>0.0</td>\n",
       "      <td>0.0</td>\n",
       "      <td>0.0</td>\n",
       "      <td>0.0</td>\n",
       "      <td>0.0</td>\n",
       "      <td>0.000025</td>\n",
       "    </tr>\n",
       "    <tr>\n",
       "      <th>std</th>\n",
       "      <td>0.498659</td>\n",
       "      <td>0.068034</td>\n",
       "      <td>0.0</td>\n",
       "      <td>0.0</td>\n",
       "      <td>0.0</td>\n",
       "      <td>0.0</td>\n",
       "      <td>0.0</td>\n",
       "      <td>0.0</td>\n",
       "      <td>0.0</td>\n",
       "      <td>0.0</td>\n",
       "      <td>0.0</td>\n",
       "      <td>0.004990</td>\n",
       "    </tr>\n",
       "    <tr>\n",
       "      <th>min</th>\n",
       "      <td>0.000000</td>\n",
       "      <td>0.000000</td>\n",
       "      <td>0.0</td>\n",
       "      <td>0.0</td>\n",
       "      <td>0.0</td>\n",
       "      <td>0.0</td>\n",
       "      <td>0.0</td>\n",
       "      <td>0.0</td>\n",
       "      <td>0.0</td>\n",
       "      <td>0.0</td>\n",
       "      <td>0.0</td>\n",
       "      <td>0.000000</td>\n",
       "    </tr>\n",
       "    <tr>\n",
       "      <th>25%</th>\n",
       "      <td>0.000000</td>\n",
       "      <td>0.000000</td>\n",
       "      <td>0.0</td>\n",
       "      <td>0.0</td>\n",
       "      <td>0.0</td>\n",
       "      <td>0.0</td>\n",
       "      <td>0.0</td>\n",
       "      <td>0.0</td>\n",
       "      <td>0.0</td>\n",
       "      <td>0.0</td>\n",
       "      <td>0.0</td>\n",
       "      <td>0.000000</td>\n",
       "    </tr>\n",
       "    <tr>\n",
       "      <th>50%</th>\n",
       "      <td>0.000000</td>\n",
       "      <td>0.000000</td>\n",
       "      <td>0.0</td>\n",
       "      <td>0.0</td>\n",
       "      <td>0.0</td>\n",
       "      <td>0.0</td>\n",
       "      <td>0.0</td>\n",
       "      <td>0.0</td>\n",
       "      <td>0.0</td>\n",
       "      <td>0.0</td>\n",
       "      <td>0.0</td>\n",
       "      <td>0.000000</td>\n",
       "    </tr>\n",
       "    <tr>\n",
       "      <th>75%</th>\n",
       "      <td>1.000000</td>\n",
       "      <td>0.090909</td>\n",
       "      <td>0.0</td>\n",
       "      <td>0.0</td>\n",
       "      <td>0.0</td>\n",
       "      <td>0.0</td>\n",
       "      <td>0.0</td>\n",
       "      <td>0.0</td>\n",
       "      <td>0.0</td>\n",
       "      <td>0.0</td>\n",
       "      <td>0.0</td>\n",
       "      <td>0.000000</td>\n",
       "    </tr>\n",
       "    <tr>\n",
       "      <th>max</th>\n",
       "      <td>1.000000</td>\n",
       "      <td>0.272730</td>\n",
       "      <td>0.0</td>\n",
       "      <td>0.0</td>\n",
       "      <td>0.0</td>\n",
       "      <td>0.0</td>\n",
       "      <td>0.0</td>\n",
       "      <td>0.0</td>\n",
       "      <td>0.0</td>\n",
       "      <td>0.0</td>\n",
       "      <td>0.0</td>\n",
       "      <td>1.000000</td>\n",
       "    </tr>\n",
       "  </tbody>\n",
       "</table>\n",
       "</div>"
      ],
      "text/plain": [
       "                 69            81       83       84       86       88  \\\n",
       "count  40158.000000  40158.000000  40158.0  40158.0  40158.0  40158.0   \n",
       "mean       0.463320      0.042274      0.0      0.0      0.0      0.0   \n",
       "std        0.498659      0.068034      0.0      0.0      0.0      0.0   \n",
       "min        0.000000      0.000000      0.0      0.0      0.0      0.0   \n",
       "25%        0.000000      0.000000      0.0      0.0      0.0      0.0   \n",
       "50%        0.000000      0.000000      0.0      0.0      0.0      0.0   \n",
       "75%        1.000000      0.090909      0.0      0.0      0.0      0.0   \n",
       "max        1.000000      0.272730      0.0      0.0      0.0      0.0   \n",
       "\n",
       "            97      113      117      133      138           148  \n",
       "count  40158.0  40158.0  40158.0  40158.0  40158.0  40158.000000  \n",
       "mean       0.0      0.0      0.0      0.0      0.0      0.000025  \n",
       "std        0.0      0.0      0.0      0.0      0.0      0.004990  \n",
       "min        0.0      0.0      0.0      0.0      0.0      0.000000  \n",
       "25%        0.0      0.0      0.0      0.0      0.0      0.000000  \n",
       "50%        0.0      0.0      0.0      0.0      0.0      0.000000  \n",
       "75%        0.0      0.0      0.0      0.0      0.0      0.000000  \n",
       "max        0.0      0.0      0.0      0.0      0.0      1.000000  "
      ]
     },
     "execution_count": 5,
     "metadata": {},
     "output_type": "execute_result"
    }
   ],
   "source": [
    "X_test[X_test.columns[train_no_var != test_no_var]].describe()"
   ]
  },
  {
   "cell_type": "markdown",
   "metadata": {},
   "source": [
    "Lets see what the actual values are in these columns:"
   ]
  },
  {
   "cell_type": "code",
   "execution_count": 6,
   "metadata": {},
   "outputs": [
    {
     "data": {
      "text/plain": [
       "{'69': [(0, 97044)],\n",
       " '81': [(0, 97044)],\n",
       " '83': [(0, 97042), (1, 2)],\n",
       " '84': [(0, 97038), (1, 6)],\n",
       " '86': [(0, 97036), (1, 8)],\n",
       " '88': [(0.0, 97038), (0.03125, 3), (0.46875, 2), (0.375, 1)],\n",
       " '97': [(0, 97043), (1, 1)],\n",
       " '113': [(0.0, 97041), (0.42857, 3)],\n",
       " '117': [(0.0, 97036),\n",
       "  (0.0034351, 3),\n",
       "  (0.15611, 2),\n",
       "  (0.11412, 1),\n",
       "  (0.097328, 1),\n",
       "  (0.096183, 1)],\n",
       " '133': [(0, 97043), (1, 1)],\n",
       " '138': [(0.5, 97043), (0.88, 1)],\n",
       " '148': [(0, 97044)]}"
      ]
     },
     "execution_count": 6,
     "metadata": {},
     "output_type": "execute_result"
    }
   ],
   "source": [
    "{\n",
    "    col: list(X_train[col].value_counts().items()) \n",
    "    for col in X_train[X_train.columns[train_no_var != test_no_var]].columns\n",
    "}"
   ]
  },
  {
   "cell_type": "code",
   "execution_count": 7,
   "metadata": {},
   "outputs": [
    {
     "data": {
      "text/plain": [
       "{'69': [(0, 21552), (1, 18606)],\n",
       " '81': [(0.0, 27711),\n",
       "  (0.090909, 6243),\n",
       "  (0.18182, 6181),\n",
       "  (0.27273000000000003, 23)],\n",
       " '83': [(0, 40158)],\n",
       " '84': [(0, 40158)],\n",
       " '86': [(0, 40158)],\n",
       " '88': [(0, 40158)],\n",
       " '97': [(0, 40158)],\n",
       " '113': [(0, 40158)],\n",
       " '117': [(0, 40158)],\n",
       " '133': [(0, 40158)],\n",
       " '138': [(0, 40158)],\n",
       " '148': [(0, 40157), (1, 1)]}"
      ]
     },
     "execution_count": 7,
     "metadata": {},
     "output_type": "execute_result"
    }
   ],
   "source": [
    "{col: list(X_test[col].value_counts().items()) \n",
    "    for col in X_test[X_test.columns[train_no_var != test_no_var]].columns\n",
    "}"
   ]
  },
  {
   "cell_type": "markdown",
   "metadata": {},
   "source": [
    "From the above we can see that there are 9 features that have variance in the training set but no variance in test set, and three features the other way round.  For most of the cases the columns with variance only have a single value or handful of values that differ, so are unlikely to have much effect on any model trained on the data.\n",
    "\n",
    "We shall exclude all these features from further investigation, along with the features that have no variance for either data set."
   ]
  },
  {
   "cell_type": "code",
   "execution_count": 8,
   "metadata": {},
   "outputs": [
    {
     "data": {
      "text/plain": [
       "((97044, 69), (40158, 69))"
      ]
     },
     "execution_count": 8,
     "metadata": {},
     "output_type": "execute_result"
    }
   ],
   "source": [
    "X_train_with_var = X_train[X_train.columns[~(train_no_var | test_no_var)]]\n",
    "X_test_with_var = X_test[X_test.columns[~(train_no_var | test_no_var)]]\n",
    "\n",
    "X_train_with_var.shape, X_test_with_var.shape"
   ]
  },
  {
   "cell_type": "markdown",
   "metadata": {},
   "source": [
    "By eliminating features that have no variance in either the training or test set (or both) we are left with 69 features.  \n",
    "\n",
    "We now want to test for each feature in the remaining data sets whether the feature in the test set comes from the same distribution as the same feature in the training set.  We shall use the ks2_samp function to determine this."
   ]
  },
  {
   "cell_type": "code",
   "execution_count": 9,
   "metadata": {},
   "outputs": [
    {
     "data": {
      "text/plain": [
       "{'5': 0.0,\n",
       " '6': 0.0,\n",
       " '8': 0.0,\n",
       " '9': 0.0,\n",
       " '14': 1.0,\n",
       " '15': 1.0,\n",
       " '16': 1.0,\n",
       " '18': 1.0,\n",
       " '20': 1.0,\n",
       " '26': 1.0,\n",
       " '29': 1.0,\n",
       " '38': 0.0,\n",
       " '43': 1.0,\n",
       " '47': 4.854342014699145e-109,\n",
       " '48': 1.0,\n",
       " '50': 2.1319088282967322e-89,\n",
       " '51': 3.7396694731191775e-89,\n",
       " '52': 1.0,\n",
       " '61': 0.0,\n",
       " '62': 1.0,\n",
       " '64': 1.0315072609922148e-131,\n",
       " '66': 7.746639575795464e-91,\n",
       " '67': 3.503944077968135e-64,\n",
       " '68': 4.51926145509109e-49,\n",
       " '70': 7.306613166889381e-41,\n",
       " '71': 0.0,\n",
       " '72': 0.995487532890464,\n",
       " '73': 2.810115497553139e-53,\n",
       " '75': 0.0,\n",
       " '76': 0.0,\n",
       " '77': 0.0,\n",
       " '78': 0.0,\n",
       " '79': 0.0,\n",
       " '80': 0.0,\n",
       " '82': 0.0,\n",
       " '89': 1.0,\n",
       " '90': 0.3461723270023699,\n",
       " '93': 2.3612312065919717e-20,\n",
       " '94': 0.9999999999999997,\n",
       " '98': 0.4145970321873381,\n",
       " '104': 0.8784705620648641,\n",
       " '105': 1.0,\n",
       " '106': 1.0,\n",
       " '107': 3.2841854096356005e-09,\n",
       " '108': 2.5745299377723217e-210,\n",
       " '109': 0.8014300689769817,\n",
       " '110': 2.0290749144082378e-94,\n",
       " '111': 1.0,\n",
       " '112': 0.478879497860954,\n",
       " '118': 0.43558042845336914,\n",
       " '119': 4.06200452902175e-200,\n",
       " '120': 3.9226357263333426e-05,\n",
       " '121': 0.10549100404399775,\n",
       " '122': 1.0466202709142244e-57,\n",
       " '123': 1.0,\n",
       " '125': 0.5279903107229729,\n",
       " '126': 9.429153389711992e-25,\n",
       " '127': 9.429153389711992e-25,\n",
       " '128': 9.429153389711992e-25,\n",
       " '129': 9.429153389711992e-25,\n",
       " '130': 0.007950015782689166,\n",
       " '140': 0.0,\n",
       " '141': 0.0,\n",
       " '142': 0.0,\n",
       " '143': 0.0935525709123911,\n",
       " '144': 1.1860388024364577e-16,\n",
       " '145': 0.9871507526074228,\n",
       " '146': 0.9871507526074228,\n",
       " '154': 0.0}"
      ]
     },
     "execution_count": 9,
     "metadata": {},
     "output_type": "execute_result"
    }
   ],
   "source": [
    "ks_pvalues = {col: stats.ks_2samp(X_train[col], X_test[col]).pvalue \n",
    "    for col in X_train_with_var.columns\n",
    "}\n",
    "ks_pvalues"
   ]
  },
  {
   "cell_type": "code",
   "execution_count": 10,
   "metadata": {},
   "outputs": [
    {
     "data": {
      "text/plain": [
       "40"
      ]
     },
     "execution_count": 10,
     "metadata": {},
     "output_type": "execute_result"
    }
   ],
   "source": [
    "len([x for x in ks_pvalues.values() if x < 0.05])"
   ]
  },
  {
   "cell_type": "markdown",
   "metadata": {},
   "source": [
    "High p-values mean that column probably comes from the same distribution, low pvalues mean they probably come from a different distribution, at least as far as the Kolmogorov-Smirnov test can tell.  From the above you can see that 40 of the 69 features have a p-value of less than 0.05 and many of them have a p-value of zero."
   ]
  },
  {
   "cell_type": "markdown",
   "metadata": {},
   "source": [
    "Lets focus on the features that our team identified as being the most important for training the model.  We found that just six features could be used to create a model that scored in excess of 98% in cross validation on the training data, but barely more than 52% on the test data.  It turns out that all these features score close to zero p-value on the KS test:"
   ]
  },
  {
   "cell_type": "code",
   "execution_count": 11,
   "metadata": {},
   "outputs": [
    {
     "data": {
      "text/plain": [
       "[('8', 0.0),\n",
       " ('38', 0.0),\n",
       " ('67', 3.503944077968135e-64),\n",
       " ('76', 0.0),\n",
       " ('78', 0.0),\n",
       " ('119', 4.06200452902175e-200)]"
      ]
     },
     "execution_count": 11,
     "metadata": {},
     "output_type": "execute_result"
    }
   ],
   "source": [
    "best_features = ['8', '38', '67', '76', '78', '119']\n",
    "[(f, ks_pvalues[f]) for f in best_features]"
   ]
  },
  {
   "cell_type": "code",
   "execution_count": 12,
   "metadata": {},
   "outputs": [
    {
     "data": {
      "text/html": [
       "<div>\n",
       "<style scoped>\n",
       "    .dataframe tbody tr th:only-of-type {\n",
       "        vertical-align: middle;\n",
       "    }\n",
       "\n",
       "    .dataframe tbody tr th {\n",
       "        vertical-align: top;\n",
       "    }\n",
       "\n",
       "    .dataframe thead th {\n",
       "        text-align: right;\n",
       "    }\n",
       "</style>\n",
       "<table border=\"1\" class=\"dataframe\">\n",
       "  <thead>\n",
       "    <tr style=\"text-align: right;\">\n",
       "      <th></th>\n",
       "      <th>8</th>\n",
       "      <th>38</th>\n",
       "      <th>67</th>\n",
       "      <th>76</th>\n",
       "      <th>78</th>\n",
       "      <th>119</th>\n",
       "    </tr>\n",
       "  </thead>\n",
       "  <tbody>\n",
       "    <tr>\n",
       "      <th>count</th>\n",
       "      <td>97044.000000</td>\n",
       "      <td>97044.000000</td>\n",
       "      <td>97044.000000</td>\n",
       "      <td>97044.000000</td>\n",
       "      <td>97044.000000</td>\n",
       "      <td>97044.000000</td>\n",
       "    </tr>\n",
       "    <tr>\n",
       "      <th>mean</th>\n",
       "      <td>0.193837</td>\n",
       "      <td>0.713756</td>\n",
       "      <td>0.376979</td>\n",
       "      <td>0.003294</td>\n",
       "      <td>0.002077</td>\n",
       "      <td>0.000336</td>\n",
       "    </tr>\n",
       "    <tr>\n",
       "      <th>std</th>\n",
       "      <td>0.354444</td>\n",
       "      <td>0.109809</td>\n",
       "      <td>0.395372</td>\n",
       "      <td>0.021005</td>\n",
       "      <td>0.017849</td>\n",
       "      <td>0.011518</td>\n",
       "    </tr>\n",
       "    <tr>\n",
       "      <th>min</th>\n",
       "      <td>0.000000</td>\n",
       "      <td>0.000000</td>\n",
       "      <td>0.000000</td>\n",
       "      <td>0.000000</td>\n",
       "      <td>0.000000</td>\n",
       "      <td>0.000000</td>\n",
       "    </tr>\n",
       "    <tr>\n",
       "      <th>25%</th>\n",
       "      <td>0.037908</td>\n",
       "      <td>0.654075</td>\n",
       "      <td>0.000000</td>\n",
       "      <td>0.000563</td>\n",
       "      <td>0.001731</td>\n",
       "      <td>0.000000</td>\n",
       "    </tr>\n",
       "    <tr>\n",
       "      <th>50%</th>\n",
       "      <td>0.037908</td>\n",
       "      <td>0.757210</td>\n",
       "      <td>0.307690</td>\n",
       "      <td>0.000563</td>\n",
       "      <td>0.001731</td>\n",
       "      <td>0.000000</td>\n",
       "    </tr>\n",
       "    <tr>\n",
       "      <th>75%</th>\n",
       "      <td>0.054902</td>\n",
       "      <td>0.767550</td>\n",
       "      <td>0.615380</td>\n",
       "      <td>0.002253</td>\n",
       "      <td>0.001731</td>\n",
       "      <td>0.000000</td>\n",
       "    </tr>\n",
       "    <tr>\n",
       "      <th>max</th>\n",
       "      <td>1.000000</td>\n",
       "      <td>0.933540</td>\n",
       "      <td>1.000000</td>\n",
       "      <td>0.990990</td>\n",
       "      <td>0.995670</td>\n",
       "      <td>0.994750</td>\n",
       "    </tr>\n",
       "  </tbody>\n",
       "</table>\n",
       "</div>"
      ],
      "text/plain": [
       "                  8            38            67            76            78  \\\n",
       "count  97044.000000  97044.000000  97044.000000  97044.000000  97044.000000   \n",
       "mean       0.193837      0.713756      0.376979      0.003294      0.002077   \n",
       "std        0.354444      0.109809      0.395372      0.021005      0.017849   \n",
       "min        0.000000      0.000000      0.000000      0.000000      0.000000   \n",
       "25%        0.037908      0.654075      0.000000      0.000563      0.001731   \n",
       "50%        0.037908      0.757210      0.307690      0.000563      0.001731   \n",
       "75%        0.054902      0.767550      0.615380      0.002253      0.001731   \n",
       "max        1.000000      0.933540      1.000000      0.990990      0.995670   \n",
       "\n",
       "                119  \n",
       "count  97044.000000  \n",
       "mean       0.000336  \n",
       "std        0.011518  \n",
       "min        0.000000  \n",
       "25%        0.000000  \n",
       "50%        0.000000  \n",
       "75%        0.000000  \n",
       "max        0.994750  "
      ]
     },
     "execution_count": 12,
     "metadata": {},
     "output_type": "execute_result"
    }
   ],
   "source": [
    "X_train[best_features].describe()"
   ]
  },
  {
   "cell_type": "code",
   "execution_count": 13,
   "metadata": {},
   "outputs": [
    {
     "data": {
      "text/html": [
       "<div>\n",
       "<style scoped>\n",
       "    .dataframe tbody tr th:only-of-type {\n",
       "        vertical-align: middle;\n",
       "    }\n",
       "\n",
       "    .dataframe tbody tr th {\n",
       "        vertical-align: top;\n",
       "    }\n",
       "\n",
       "    .dataframe thead th {\n",
       "        text-align: right;\n",
       "    }\n",
       "</style>\n",
       "<table border=\"1\" class=\"dataframe\">\n",
       "  <thead>\n",
       "    <tr style=\"text-align: right;\">\n",
       "      <th></th>\n",
       "      <th>8</th>\n",
       "      <th>38</th>\n",
       "      <th>67</th>\n",
       "      <th>76</th>\n",
       "      <th>78</th>\n",
       "      <th>119</th>\n",
       "    </tr>\n",
       "  </thead>\n",
       "  <tbody>\n",
       "    <tr>\n",
       "      <th>count</th>\n",
       "      <td>40158.000000</td>\n",
       "      <td>40158.000000</td>\n",
       "      <td>40158.000000</td>\n",
       "      <td>40158.000000</td>\n",
       "      <td>40158.000000</td>\n",
       "      <td>40158.000000</td>\n",
       "    </tr>\n",
       "    <tr>\n",
       "      <th>mean</th>\n",
       "      <td>0.200639</td>\n",
       "      <td>0.944178</td>\n",
       "      <td>0.341793</td>\n",
       "      <td>0.021087</td>\n",
       "      <td>0.003357</td>\n",
       "      <td>0.001407</td>\n",
       "    </tr>\n",
       "    <tr>\n",
       "      <th>std</th>\n",
       "      <td>0.371463</td>\n",
       "      <td>0.040206</td>\n",
       "      <td>0.385898</td>\n",
       "      <td>0.037241</td>\n",
       "      <td>0.007230</td>\n",
       "      <td>0.005267</td>\n",
       "    </tr>\n",
       "    <tr>\n",
       "      <th>min</th>\n",
       "      <td>0.000000</td>\n",
       "      <td>0.000000</td>\n",
       "      <td>0.000000</td>\n",
       "      <td>0.000000</td>\n",
       "      <td>0.000000</td>\n",
       "      <td>0.000000</td>\n",
       "    </tr>\n",
       "    <tr>\n",
       "      <th>25%</th>\n",
       "      <td>0.016993</td>\n",
       "      <td>0.905910</td>\n",
       "      <td>0.000000</td>\n",
       "      <td>0.005291</td>\n",
       "      <td>0.002146</td>\n",
       "      <td>0.000000</td>\n",
       "    </tr>\n",
       "    <tr>\n",
       "      <th>50%</th>\n",
       "      <td>0.016993</td>\n",
       "      <td>0.967410</td>\n",
       "      <td>0.000000</td>\n",
       "      <td>0.005291</td>\n",
       "      <td>0.002146</td>\n",
       "      <td>0.000000</td>\n",
       "    </tr>\n",
       "    <tr>\n",
       "      <th>75%</th>\n",
       "      <td>0.060131</td>\n",
       "      <td>0.975510</td>\n",
       "      <td>0.615380</td>\n",
       "      <td>0.026455</td>\n",
       "      <td>0.002146</td>\n",
       "      <td>0.000000</td>\n",
       "    </tr>\n",
       "    <tr>\n",
       "      <th>max</th>\n",
       "      <td>1.000000</td>\n",
       "      <td>0.978310</td>\n",
       "      <td>1.000000</td>\n",
       "      <td>0.835980</td>\n",
       "      <td>0.963520</td>\n",
       "      <td>0.161700</td>\n",
       "    </tr>\n",
       "  </tbody>\n",
       "</table>\n",
       "</div>"
      ],
      "text/plain": [
       "                  8            38            67            76            78  \\\n",
       "count  40158.000000  40158.000000  40158.000000  40158.000000  40158.000000   \n",
       "mean       0.200639      0.944178      0.341793      0.021087      0.003357   \n",
       "std        0.371463      0.040206      0.385898      0.037241      0.007230   \n",
       "min        0.000000      0.000000      0.000000      0.000000      0.000000   \n",
       "25%        0.016993      0.905910      0.000000      0.005291      0.002146   \n",
       "50%        0.016993      0.967410      0.000000      0.005291      0.002146   \n",
       "75%        0.060131      0.975510      0.615380      0.026455      0.002146   \n",
       "max        1.000000      0.978310      1.000000      0.835980      0.963520   \n",
       "\n",
       "                119  \n",
       "count  40158.000000  \n",
       "mean       0.001407  \n",
       "std        0.005267  \n",
       "min        0.000000  \n",
       "25%        0.000000  \n",
       "50%        0.000000  \n",
       "75%        0.000000  \n",
       "max        0.161700  "
      ]
     },
     "execution_count": 13,
     "metadata": {},
     "output_type": "execute_result"
    }
   ],
   "source": [
    "X_test[best_features].describe()"
   ]
  },
  {
   "cell_type": "markdown",
   "metadata": {},
   "source": [
    "Lets take a closer look at one of the features in particular that show a large discrepancy.  \n",
    "We can compare the training and testing version of feature 38 by plotting them on a histogram.  I am using a log scale, otherwise the smaller bins will not show up on the plot."
   ]
  },
  {
   "cell_type": "code",
   "execution_count": 14,
   "metadata": {},
   "outputs": [
    {
     "data": {
      "text/plain": [
       "array([[<matplotlib.axes._subplots.AxesSubplot object at 0x7fd560b290b8>,\n",
       "        <matplotlib.axes._subplots.AxesSubplot object at 0x7fd56081f5f8>]],\n",
       "      dtype=object)"
      ]
     },
     "execution_count": 14,
     "metadata": {},
     "output_type": "execute_result"
    },
    {
     "data": {
      "image/png": "[encoded data removed]",
      "text/plain": [
       "<Figure size 432x288 with 2 Axes>"
      ]
     },
     "metadata": {
      "needs_background": "light"
     },
     "output_type": "display_data"
    }
   ],
   "source": [
    "pd.DataFrame({'train':X_train['38'], 'test':X_test['38']}).hist(log=True, bins=20)"
   ]
  },
  {
   "cell_type": "markdown",
   "metadata": {},
   "source": [
    "From the above histograms you can clearly see that the training data has a wide range of values and has most values between 0.5 and 0.8.  The training data however has all its values up near 1.0 with a handful at zero.  This is extremely unlikely if both data sets are identically and independantly drawn from the same population."
   ]
  },
  {
   "cell_type": "markdown",
   "metadata": {},
   "source": [
    "You can see the shape of the distributions more clearly on a KDE plot:"
   ]
  },
  {
   "cell_type": "code",
   "execution_count": 15,
   "metadata": {},
   "outputs": [
    {
     "data": {
      "text/plain": [
       "<matplotlib.axes._subplots.AxesSubplot at 0x7fd55e2f9e48>"
      ]
     },
     "execution_count": 15,
     "metadata": {},
     "output_type": "execute_result"
    },
    {
     "data": {
      "image/png": "[encoded data removed]",
      "text/plain": [
       "<Figure size 432x288 with 1 Axes>"
      ]
     },
     "metadata": {
      "needs_background": "light"
     },
     "output_type": "display_data"
    }
   ],
   "source": [
    "pd.DataFrame({'train':X_train['38'], 'test':X_test['38']}).plot.kde()"
   ]
  },
  {
   "cell_type": "markdown",
   "metadata": {},
   "source": [
    "From this plot it appears that the overall shape is similar but shifted up on the test set.  One possible reason for this could be that the data sets were wrongly scaled.  You could get this effect if it the training set and test set had been scaled independently instead of the scaler being fit to the training data and applied to the test data - an outlier in the training set could push all the other values down after scaling. Unfortunately all the data had been scaled to be between 0 and 1 before we got it and we do not have access to the original data to test this hypothesis.\n",
    "\n",
    "Another indicator that this could be the case is that the maximum value of all features in the test set is never more than 1.0.  If a scaler had been fit to the training set and then applied to the test set it would be likely that a few features in the test set would have a maximum value greater than 1.0 (unless the features were all categorical)."
   ]
  },
  {
   "cell_type": "markdown",
   "metadata": {},
   "source": [
    "There are also several features that appear to be categorical with two or three categories, but the categories have been scaled to completely different values:"
   ]
  },
  {
   "cell_type": "code",
   "execution_count": 33,
   "metadata": {},
   "outputs": [
    {
     "name": "stdout",
     "output_type": "stream",
     "text": [
      "Training data feature 128 (value, count)\n",
      "[(0.0, 94954), (3.09e-05, 1943), (1.55e-05, 147)]\n",
      "Test data feature 128 (value, count)\n",
      "[(0.0, 38897), (1.0, 1120), (0.5, 141)]\n",
      "\n",
      "Training data feature 129 (value, count)\n",
      "[(0.0, 94954), (1.58e-05, 2090)]\n",
      "Test data feature 129 (value, count)\n",
      "[(0, 38897), (1, 1261)]\n",
      "\n",
      "Training data feature 122 (value, count)\n",
      "[(0.0, 93530), (0.0039683, 2571), (0.007936499999999999, 943)]\n",
      "Test data feature 122 (value, count)\n",
      "[(0.0, 38223), (0.33333, 1423), (0.66667, 512)]\n",
      "\n"
     ]
    }
   ],
   "source": [
    "for col in ['128', '129', '122']:\n",
    "    print(f\"Training data feature {col} (value, count)\")\n",
    "    print(list(X_train[col].value_counts().items()))\n",
    "    print(f\"Test data feature {col} (value, count)\")\n",
    "    print(list(X_test[col].value_counts().items()))\n",
    "    print()\n",
    "        "
   ]
  },
  {
   "cell_type": "markdown",
   "metadata": {},
   "source": [
    "From the above we see that for example feature 128 has three distinct values for both test and training data, but for the training data they take the values 0.0, 0.000015 and 0.00003, while for the test data they take the values 0.0, 0.5 and 1.0.  It is the same for features 129 and 122 (and probably others) - there are orders of magnitude difference in the values taken for the categories.\n"
   ]
  },
  {
   "cell_type": "markdown",
   "metadata": {},
   "source": [
    "We can get an idea of which features suffer from this problem by looking for features in the test set where the maximum value is more than twice that of the maximum value in the training set, or vice versa:"
   ]
  },
  {
   "cell_type": "code",
   "execution_count": 52,
   "metadata": {},
   "outputs": [
    {
     "data": {
      "text/html": [
       "<div>\n",
       "<style scoped>\n",
       "    .dataframe tbody tr th:only-of-type {\n",
       "        vertical-align: middle;\n",
       "    }\n",
       "\n",
       "    .dataframe tbody tr th {\n",
       "        vertical-align: top;\n",
       "    }\n",
       "\n",
       "    .dataframe thead th {\n",
       "        text-align: right;\n",
       "    }\n",
       "</style>\n",
       "<table border=\"1\" class=\"dataframe\">\n",
       "  <thead>\n",
       "    <tr style=\"text-align: right;\">\n",
       "      <th></th>\n",
       "      <th>train_max</th>\n",
       "      <th>test_max</th>\n",
       "    </tr>\n",
       "  </thead>\n",
       "  <tbody>\n",
       "    <tr>\n",
       "      <th>80</th>\n",
       "      <td>0.539070</td>\n",
       "      <td>0.040964</td>\n",
       "    </tr>\n",
       "    <tr>\n",
       "      <th>104</th>\n",
       "      <td>1.000000</td>\n",
       "      <td>0.100000</td>\n",
       "    </tr>\n",
       "    <tr>\n",
       "      <th>108</th>\n",
       "      <td>0.001530</td>\n",
       "      <td>1.000000</td>\n",
       "    </tr>\n",
       "    <tr>\n",
       "      <th>110</th>\n",
       "      <td>0.000125</td>\n",
       "      <td>0.750000</td>\n",
       "    </tr>\n",
       "    <tr>\n",
       "      <th>119</th>\n",
       "      <td>0.994750</td>\n",
       "      <td>0.161700</td>\n",
       "    </tr>\n",
       "    <tr>\n",
       "      <th>121</th>\n",
       "      <td>0.004566</td>\n",
       "      <td>0.500000</td>\n",
       "    </tr>\n",
       "    <tr>\n",
       "      <th>122</th>\n",
       "      <td>0.007936</td>\n",
       "      <td>0.666670</td>\n",
       "    </tr>\n",
       "    <tr>\n",
       "      <th>125</th>\n",
       "      <td>0.333330</td>\n",
       "      <td>1.000000</td>\n",
       "    </tr>\n",
       "    <tr>\n",
       "      <th>126</th>\n",
       "      <td>0.000015</td>\n",
       "      <td>1.000000</td>\n",
       "    </tr>\n",
       "    <tr>\n",
       "      <th>127</th>\n",
       "      <td>0.015686</td>\n",
       "      <td>0.500000</td>\n",
       "    </tr>\n",
       "    <tr>\n",
       "      <th>128</th>\n",
       "      <td>0.000031</td>\n",
       "      <td>1.000000</td>\n",
       "    </tr>\n",
       "    <tr>\n",
       "      <th>129</th>\n",
       "      <td>0.000016</td>\n",
       "      <td>1.000000</td>\n",
       "    </tr>\n",
       "    <tr>\n",
       "      <th>144</th>\n",
       "      <td>0.865560</td>\n",
       "      <td>0.390870</td>\n",
       "    </tr>\n",
       "  </tbody>\n",
       "</table>\n",
       "</div>"
      ],
      "text/plain": [
       "     train_max  test_max\n",
       "80    0.539070  0.040964\n",
       "104   1.000000  0.100000\n",
       "108   0.001530  1.000000\n",
       "110   0.000125  0.750000\n",
       "119   0.994750  0.161700\n",
       "121   0.004566  0.500000\n",
       "122   0.007936  0.666670\n",
       "125   0.333330  1.000000\n",
       "126   0.000015  1.000000\n",
       "127   0.015686  0.500000\n",
       "128   0.000031  1.000000\n",
       "129   0.000016  1.000000\n",
       "144   0.865560  0.390870"
      ]
     },
     "execution_count": 52,
     "metadata": {},
     "output_type": "execute_result"
    }
   ],
   "source": [
    "train_max = X_train_with_var.max()\n",
    "test_max = X_test_with_var.max()\n",
    "bad_max = (train_max < test_max/2) | (test_max < train_max/2)\n",
    "\n",
    "pd.DataFrame({'train_max': train_max[bad_max], 'test_max': test_max[bad_max]})"
   ]
  },
  {
   "cell_type": "markdown",
   "metadata": {},
   "source": [
    "# Conclusion\n",
    "\n",
    "It is clear that there are serious discrepancies between the data in the test set and the data in the training set.  This will cause serious problems for anyone trying to build a model using the training data and then validate it against the test set.  "
   ]
  },
  {
   "cell_type": "code",
   "execution_count": null,
   "metadata": {},
   "outputs": [],
   "source": []
  }
 ],
 "metadata": {
  "kernelspec": {
   "display_name": "Python 3",
   "language": "python",
   "name": "python3"
  },
  "language_info": {
   "codemirror_mode": {
    "name": "ipython",
    "version": 3
   },
   "file_extension": ".py",
   "mimetype": "text/x-python",
   "name": "python",
   "nbconvert_exporter": "python",
   "pygments_lexer": "ipython3",
   "version": "3.7.4"
  }
 },
 "nbformat": 4,
 "nbformat_minor": 4
}
